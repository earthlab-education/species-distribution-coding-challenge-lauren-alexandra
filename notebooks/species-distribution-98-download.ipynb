{
  "cells": [
    {
      "cell_type": "markdown",
      "id": "19653740-42cf-45a4-b1f0-8c462503e2ff",
      "metadata": {},
      "source": [
        "# Access locations and times of Veery encounters\n",
        "\n",
        "For this challenge, you will use a database called the [Global\n",
        "Biodiversity Information Facility (GBIF)](https://www.gbif.org/). GBIF\n",
        "is compiled from species observation data all over the world, and\n",
        "includes everything from museum specimens to photos taken by citizen\n",
        "scientists in their backyards.\n",
        "\n",
        "<link rel=\"stylesheet\" type=\"text/css\" href=\"./assets/styles.css\"><div class=\"callout callout-style-default callout-titled callout-task\"><div class=\"callout-header\"><div class=\"callout-icon-container\"><i class=\"callout-icon\"></i></div><div class=\"callout-title-container flex-fill\">Try It: Explore GBIF</div></div><div class=\"callout-body-container callout-body\"><p>Before your get started, go to the <a\n",
        "href=\"https://www.gbif.org/occurrence/search\">GBIF occurrences search\n",
        "page</a> and explore the data.</p></div></div>\n",
        "\n",
        "> **Contribute to open data**\n",
        ">\n",
        "> You can get your own observations added to GBIF using\n",
        "> [iNaturalist](https://www.inaturalist.org/)!\n",
        "\n",
        "### Set up your code to prepare for download\n",
        "\n",
        "We will be getting data from a source called [GBIF (Global Biodiversity\n",
        "Information Facility)](https://www.gbif.org/). We need a package called\n",
        "`pygbif` to access the data, which may not be included in your\n",
        "environment. Install it by running the cell below:"
      ]
    },
    {
      "cell_type": "code",
      "execution_count": 1,
      "id": "75e6717e",
      "metadata": {},
      "outputs": [
        {
          "name": "stdout",
          "output_type": "stream",
          "text": [
            "Requirement already satisfied: pygbif in /opt/conda/lib/python3.11/site-packages (0.6.4)\n",
            "Requirement already satisfied: requests>2.7 in /opt/conda/lib/python3.11/site-packages (from pygbif) (2.32.3)\n",
            "Requirement already satisfied: requests-cache in /opt/conda/lib/python3.11/site-packages (from pygbif) (1.2.1)\n",
            "Requirement already satisfied: geojson-rewind in /opt/conda/lib/python3.11/site-packages (from pygbif) (1.1.0)\n",
            "Requirement already satisfied: geomet in /opt/conda/lib/python3.11/site-packages (from pygbif) (1.1.0)\n",
            "Requirement already satisfied: appdirs>=1.4.3 in /opt/conda/lib/python3.11/site-packages (from pygbif) (1.4.4)\n",
            "Requirement already satisfied: matplotlib in /opt/conda/lib/python3.11/site-packages (from pygbif) (3.9.2)\n",
            "Requirement already satisfied: charset-normalizer<4,>=2 in /opt/conda/lib/python3.11/site-packages (from requests>2.7->pygbif) (3.3.2)\n",
            "Requirement already satisfied: idna<4,>=2.5 in /opt/conda/lib/python3.11/site-packages (from requests>2.7->pygbif) (3.10)\n",
            "Requirement already satisfied: urllib3<3,>=1.21.1 in /opt/conda/lib/python3.11/site-packages (from requests>2.7->pygbif) (2.2.3)\n",
            "Requirement already satisfied: certifi>=2017.4.17 in /opt/conda/lib/python3.11/site-packages (from requests>2.7->pygbif) (2024.8.30)\n",
            "Requirement already satisfied: click in /opt/conda/lib/python3.11/site-packages (from geomet->pygbif) (8.1.7)\n",
            "Requirement already satisfied: contourpy>=1.0.1 in /opt/conda/lib/python3.11/site-packages (from matplotlib->pygbif) (1.3.0)\n",
            "Requirement already satisfied: cycler>=0.10 in /opt/conda/lib/python3.11/site-packages (from matplotlib->pygbif) (0.12.1)\n",
            "Requirement already satisfied: fonttools>=4.22.0 in /opt/conda/lib/python3.11/site-packages (from matplotlib->pygbif) (4.54.1)\n",
            "Requirement already satisfied: kiwisolver>=1.3.1 in /opt/conda/lib/python3.11/site-packages (from matplotlib->pygbif) (1.4.7)\n",
            "Requirement already satisfied: numpy>=1.23 in /opt/conda/lib/python3.11/site-packages (from matplotlib->pygbif) (2.0.2)\n",
            "Requirement already satisfied: packaging>=20.0 in /opt/conda/lib/python3.11/site-packages (from matplotlib->pygbif) (24.1)\n",
            "Requirement already satisfied: pillow>=8 in /opt/conda/lib/python3.11/site-packages (from matplotlib->pygbif) (10.4.0)\n",
            "Requirement already satisfied: pyparsing>=2.3.1 in /opt/conda/lib/python3.11/site-packages (from matplotlib->pygbif) (3.1.4)\n",
            "Requirement already satisfied: python-dateutil>=2.7 in /opt/conda/lib/python3.11/site-packages (from matplotlib->pygbif) (2.9.0)\n",
            "Requirement already satisfied: attrs>=21.2 in /opt/conda/lib/python3.11/site-packages (from requests-cache->pygbif) (24.2.0)\n",
            "Requirement already satisfied: cattrs>=22.2 in /opt/conda/lib/python3.11/site-packages (from requests-cache->pygbif) (24.1.2)\n",
            "Requirement already satisfied: platformdirs>=2.5 in /opt/conda/lib/python3.11/site-packages (from requests-cache->pygbif) (4.3.6)\n",
            "Requirement already satisfied: url-normalize>=1.4 in /opt/conda/lib/python3.11/site-packages (from requests-cache->pygbif) (1.4.3)\n",
            "Requirement already satisfied: six>=1.5 in /opt/conda/lib/python3.11/site-packages (from python-dateutil>=2.7->matplotlib->pygbif) (1.16.0)\n"
          ]
        }
      ],
      "source": [
        "%%bash\n",
        "pip install pygbif"
      ]
    },
    {
      "cell_type": "markdown",
      "id": "c91260a6-877a-4a6a-825b-6bdf9dcb0a6a",
      "metadata": {},
      "source": [
        "<link rel=\"stylesheet\" type=\"text/css\" href=\"./assets/styles.css\"><div class=\"callout callout-style-default callout-titled callout-task\"><div class=\"callout-header\"><div class=\"callout-icon-container\"><i class=\"callout-icon\"></i></div><div class=\"callout-title-container flex-fill\">Try It: Import packages</div></div><div class=\"callout-body-container callout-body\"><p>In the imports cell, we’ve included some packages that you will need.\n",
        "Add imports for packages that will help you:</p>\n",
        "<ol type=\"1\">\n",
        "<li>Work with reproducible file paths</li>\n",
        "<li>Work with tabular data</li>\n",
        "</ol></div></div>"
      ]
    },
    {
      "cell_type": "code",
      "execution_count": 1,
      "id": "601c7278",
      "metadata": {
        "highlight": true
      },
      "outputs": [],
      "source": [
        "import os\n",
        "import pathlib\n",
        "import time\n",
        "import zipfile\n",
        "from getpass import getpass\n",
        "from glob import glob\n",
        "import pandas as pd\n",
        "\n",
        "import pygbif.occurrences as occ\n",
        "import pygbif.species as species"
      ]
    },
    {
      "cell_type": "code",
      "execution_count": 74,
      "id": "9cf408e1",
      "metadata": {
        "highlight": true
      },
      "outputs": [],
      "source": [
        "# Create data directory in the home folder\n",
        "data_dir = os.path.join(\n",
        "    # Home directory\n",
        "    pathlib.Path.home(),\n",
        "    # Earth analytics data directory\n",
        "    'earth-analytics',\n",
        "    'data',\n",
        "    # Project directory\n",
        "    'species-distribution',\n",
        ")\n",
        "os.makedirs(data_dir, exist_ok=True)\n",
        "\n",
        "# Define the directory name for GBIF data\n",
        "gbif_dir = os.path.join(data_dir, 'hermit-warbler', '2023')"
      ]
    },
    {
      "cell_type": "code",
      "execution_count": 75,
      "id": "da01e8ba",
      "metadata": {},
      "outputs": [
        {
          "data": {
            "text/plain": [
              "'/home/jovyan/earth-analytics/data/species-distribution/hermit-warbler/2023'"
            ]
          },
          "execution_count": 75,
          "metadata": {},
          "output_type": "execute_result"
        }
      ],
      "source": [
        "gbif_dir"
      ]
    },
    {
      "cell_type": "markdown",
      "id": "2583a48e-621d-42a3-83ca-503c05db41bc",
      "metadata": {},
      "source": [
        ":::\n",
        "\n",
        "### Register and log in to GBIF\n",
        "\n",
        "You will need a [GBIF account](https://www.gbif.org/) to complete this\n",
        "challenge. You can use your GitHub account to authenticate with GBIF.\n",
        "Then, run the following code to save your credentials on your computer.\n",
        "\n",
        "> **Warning**\n",
        ">\n",
        "> Your email address **must** match the email you used to sign up for\n",
        "> GBIF!\n",
        "\n",
        "> **Tip**\n",
        ">\n",
        "> If you accidentally enter your credentials wrong, you can set\n",
        "> `reset_credentials=True` instead of `reset_credentials=False`."
      ]
    },
    {
      "cell_type": "code",
      "execution_count": 3,
      "id": "989f737e",
      "metadata": {},
      "outputs": [],
      "source": [
        "reset_credentials = False\n",
        "# GBIF needs a username, password, and email\n",
        "credentials = dict(\n",
        "    GBIF_USER=(input, gbif_user),\n",
        "    GBIF_PWD=(getpass, gbif_pwd),\n",
        "    GBIF_EMAIL=(input, gbif_email),\n",
        ")\n",
        "\n",
        "for env_variable, (prompt_func, prompt_text) in credentials.items():\n",
        "    # Delete credential from environment if requested\n",
        "    if reset_credentials and (env_variable in os.environ):\n",
        "        os.environ.pop(env_variable)\n",
        "    # Ask for credential and save to environment\n",
        "    if not env_variable in os.environ:\n",
        "        os.environ[env_variable] = prompt_func(prompt_text)\n"
      ]
    },
    {
      "cell_type": "markdown",
      "id": "8b3d472f-2079-4eb9-9454-6ee95c40c2e7",
      "metadata": {},
      "source": [
        "### Get the species key\n",
        "\n",
        "> ** Your task**\n",
        ">\n",
        "> 1.  Replace the `species_name` with the name of the species you want\n",
        ">     to look up\n",
        "> 2.  Run the code to get the species key"
      ]
    },
    {
      "cell_type": "code",
      "execution_count": 4,
      "id": "90a15d5c",
      "metadata": {
        "highlight": true
      },
      "outputs": [
        {
          "data": {
            "text/plain": [
              "('Setophaga occidentalis', 6092644)"
            ]
          },
          "execution_count": 4,
          "metadata": {},
          "output_type": "execute_result"
        }
      ],
      "source": [
        "# Query species\n",
        "species_info = species.name_lookup('Setophaga occidentalis', rank='SPECIES')\n",
        "\n",
        "# Get the first result\n",
        "first_result = species_info['results'][0]\n",
        "\n",
        "# Get the species key (nubKey)\n",
        "species_key = first_result['nubKey']\n",
        "\n",
        "# Check the result\n",
        "first_result['species'], species_key"
      ]
    },
    {
      "cell_type": "markdown",
      "id": "28bfdb8b-fb88-4c48-befd-ca078f5e2c0d",
      "metadata": {},
      "source": [
        "### Download data from GBIF\n",
        "\n",
        "::: {.callout-task title=“Submit a request to GBIF”\n",
        "\n",
        "1.  Replace `csv_file_pattern` with a string that will match **any**\n",
        "    `.csv` file when used in the `glob` function. HINT: the character\n",
        "    `*` represents any number of any values except the file separator\n",
        "    (e.g. `/`)\n",
        "\n",
        "2.  Add parameters to the GBIF download function, `occ.download()` to\n",
        "    limit your query to:\n",
        "\n",
        "    -   observations\n",
        "    -   from 2023\n",
        "    -   with spatial coordinates.\n",
        "\n",
        "3.  Then, run the download. **This can take a few minutes**. :::"
      ]
    },
    {
      "cell_type": "code",
      "execution_count": 81,
      "id": "0bdc80c5",
      "metadata": {
        "highlight": true
      },
      "outputs": [],
      "source": [
        "# Only download once\n",
        "gbif_pattern = os.path.join(gbif_dir, '*.csv')\n",
        "if not glob(gbif_pattern):\n",
        "    # Submit query to GBIF\n",
        "    gbif_query = occ.download([\n",
        "        \"speciesKey = 6092644\",\n",
        "        \"year = 2023\",\n",
        "        \"hasCoordinate = TRUE\",\n",
        "    ],\n",
        "    user=credentials['GBIF_USER'][1], \n",
        "    pwd=credentials['GBIF_PWD'][1], \n",
        "    email=credentials['GBIF_EMAIL'][1])\n",
        "\n",
        "    # Only download once\n",
        "    if not 'GBIF_DOWNLOAD_KEY' in os.environ:\n",
        "        os.environ['GBIF_DOWNLOAD_KEY'] = gbif_query[0]\n",
        "\n",
        "        # Wait for the download to build\n",
        "        wait = occ.download_meta(os.environ['GBIF_DOWNLOAD_KEY'])['status'] \n",
        "        while not wait=='SUCCEEDED':\n",
        "            wait = occ.download_meta(os.environ['GBIF_DOWNLOAD_KEY'])['status'] \n",
        "            time.sleep(5)\n",
        "\n",
        "        # Download GBIF data\n",
        "        download_info = occ.download_get(\n",
        "            os.environ['GBIF_DOWNLOAD_KEY'], \n",
        "            path=data_dir)\n",
        "\n",
        "        # Unzip GBIF data\n",
        "        with zipfile.ZipFile(download_info['path']) as download_zip:\n",
        "            download_zip.extractall(path=gbif_dir)\n",
        "\n",
        "# Find the extracted .csv file path\n",
        "gbif_path = glob(gbif_pattern)[0]"
      ]
    },
    {
      "cell_type": "code",
      "execution_count": 82,
      "id": "b7ecd5a7",
      "metadata": {},
      "outputs": [
        {
          "data": {
            "text/plain": [
              "'/home/jovyan/earth-analytics/data/species-distribution/hermit-warbler/2023/0040392-240906103802322.csv'"
            ]
          },
          "execution_count": 82,
          "metadata": {},
          "output_type": "execute_result"
        }
      ],
      "source": [
        "gbif_path"
      ]
    },
    {
      "cell_type": "markdown",
      "id": "90ed1038-74bd-4a87-a50f-1b0abc216277",
      "metadata": {},
      "source": [
        "### Load the GBIF data into Python\n",
        "\n",
        "<link rel=\"stylesheet\" type=\"text/css\" href=\"./assets/styles.css\"><div class=\"callout callout-style-default callout-titled callout-task\"><div class=\"callout-header\"><div class=\"callout-icon-container\"><i class=\"callout-icon\"></i></div><div class=\"callout-title-container flex-fill\">Try It: Load GBIF data</div></div><div class=\"callout-body-container callout-body\"><ol type=\"1\">\n",
        "<li>Look at the beginning of the file you downloaded using the code\n",
        "below. What do you think the <strong>delimiter</strong> is?</li>\n",
        "<li>Run the following code cell. What happens?</li>\n",
        "<li>Uncomment and modify the parameters of <code>pd.read_csv()</code>\n",
        "below until your data loads successfully and you have only the columns\n",
        "you want.</li>\n",
        "</ol></div></div>\n",
        "\n",
        "You can use the following code to look at the beginning of your file:"
      ]
    },
    {
      "cell_type": "code",
      "execution_count": 78,
      "id": "94999229",
      "metadata": {},
      "outputs": [
        {
          "name": "stdout",
          "output_type": "stream",
          "text": [
            "gbifID\tdatasetKey\toccurrenceID\tkingdom\tphylum\tclass\torder\tfamily\tgenus\tspecies\tinfraspecificEpithet\ttaxonRank\tscientificName\tverbatimScientificName\tverbatimScientificNameAuthorship\tcountryCode\tlocality\tstateProvince\toccurrenceStatus\tindividualCount\tpublishingOrgKey\tdecimalLatitude\tdecimalLongitude\tcoordinateUncertaintyInMeters\tcoordinatePrecision\televation\televationAccuracy\tdepth\tdepthAccuracy\teventDate\tday\tmonth\tyear\ttaxonKey\tspeciesKey\tbasisOfRecord\tinstitutionCode\tcollectionCode\tcatalogNumber\trecordNumber\tidentifiedBy\tdateIdentified\tlicense\trightsHolder\trecordedBy\ttypeStatus\testablishmentMeans\tlastInterpreted\tmediaType\tissue\n",
            "4926110476\t50c9509d-22c7-4a22-a47d-8c48425ef4a7\thttps://www.inaturalist.org/observations/236396131\tAnimalia\tChordata\tAves\tPasseriformes\tParulidae\tSetophaga\tSetophaga occidentalis\t\tSPECIES\tSetophaga occidentalis (J.K.Townsend, 1837)\tSetophaga occidentalis\t\tMX\t\tMéxico\tPRESENT\t\t28eb1a3f-1c15-4a95-931a-4af90ecb574d\t19.591737\t-99.055292\t31.0\t\t\t\t\t\t2023-11-17T11:45\t17\t11\t2023\t6092644\t6092644\tHUMAN_OBSERVATION\tiNaturalist\tObservations\t236396131\t\tDiego Barrales\t2024-08-17T23:34:04\tCC_BY_NC_4_0\tDiego Barrales\tDiego Barrales\t\t\t2024-09-21T09:09:46.329Z\t\tCOORDINATE_ROUNDED;CONTINENT_DERIVED_FROM_COORDINATES;TAXON_MATCH_TAXON_ID_IGNORED\n"
          ]
        }
      ],
      "source": [
        "!head -n 2 $gbif_path "
      ]
    },
    {
      "cell_type": "markdown",
      "id": "975b0e0c",
      "metadata": {},
      "source": [
        "#### Year 2023"
      ]
    },
    {
      "cell_type": "code",
      "execution_count": 79,
      "id": "88e56065",
      "metadata": {
        "highlight": true
      },
      "outputs": [
        {
          "data": {
            "text/html": [
              "<div>\n",
              "<style scoped>\n",
              "    .dataframe tbody tr th:only-of-type {\n",
              "        vertical-align: middle;\n",
              "    }\n",
              "\n",
              "    .dataframe tbody tr th {\n",
              "        vertical-align: top;\n",
              "    }\n",
              "\n",
              "    .dataframe thead th {\n",
              "        text-align: right;\n",
              "    }\n",
              "</style>\n",
              "<table border=\"1\" class=\"dataframe\">\n",
              "  <thead>\n",
              "    <tr style=\"text-align: right;\">\n",
              "      <th></th>\n",
              "      <th>countryCode</th>\n",
              "      <th>stateProvince</th>\n",
              "      <th>decimalLatitude</th>\n",
              "      <th>decimalLongitude</th>\n",
              "      <th>month</th>\n",
              "      <th>year</th>\n",
              "    </tr>\n",
              "    <tr>\n",
              "      <th>gbifID</th>\n",
              "      <th></th>\n",
              "      <th></th>\n",
              "      <th></th>\n",
              "      <th></th>\n",
              "      <th></th>\n",
              "      <th></th>\n",
              "    </tr>\n",
              "  </thead>\n",
              "  <tbody>\n",
              "    <tr>\n",
              "      <th>4926110476</th>\n",
              "      <td>MX</td>\n",
              "      <td>México</td>\n",
              "      <td>19.591737</td>\n",
              "      <td>-99.055292</td>\n",
              "      <td>11</td>\n",
              "      <td>2023</td>\n",
              "    </tr>\n",
              "    <tr>\n",
              "      <th>4926108145</th>\n",
              "      <td>MX</td>\n",
              "      <td>México</td>\n",
              "      <td>19.591737</td>\n",
              "      <td>-99.055292</td>\n",
              "      <td>11</td>\n",
              "      <td>2023</td>\n",
              "    </tr>\n",
              "  </tbody>\n",
              "</table>\n",
              "</div>"
            ],
            "text/plain": [
              "           countryCode stateProvince  decimalLatitude  decimalLongitude  \\\n",
              "gbifID                                                                    \n",
              "4926110476          MX        México        19.591737        -99.055292   \n",
              "4926108145          MX        México        19.591737        -99.055292   \n",
              "\n",
              "            month  year  \n",
              "gbifID                   \n",
              "4926110476     11  2023  \n",
              "4926108145     11  2023  "
            ]
          },
          "execution_count": 79,
          "metadata": {},
          "output_type": "execute_result"
        }
      ],
      "source": [
        "# Load the GBIF data\n",
        "gbif_df_2023 = pd.read_csv(\n",
        "    gbif_path, \n",
        "    delimiter='\\t',\n",
        "    index_col='gbifID',\n",
        "    on_bad_lines='skip',\n",
        "    usecols=['gbifID', 'countryCode', 'stateProvince', 'decimalLatitude', 'decimalLongitude', 'month', 'year']\n",
        ")\n",
        "\n",
        "gbif_df_2023.head(2)"
      ]
    },
    {
      "cell_type": "code",
      "execution_count": 80,
      "id": "6f596d3e",
      "metadata": {},
      "outputs": [
        {
          "data": {
            "text/plain": [
              "countryCode  stateProvince  decimalLatitude  decimalLongitude  month  year\n",
              "US           California     34.360283        -118.395890       4      2023    194\n",
              "             Arizona        32.411125        -110.706480       8      2023    133\n",
              "                            31.917200        -109.279100       8      2023     97\n",
              "             Oregon         44.538010        -123.528110       6      2023     96\n",
              "             Arizona        31.903100        -109.277600       8      2023     78\n",
              "                                                                             ... \n",
              "             Washington     47.022540        -123.133350       6      2023      1\n",
              "                            47.041466        -122.494354       5      2023      1\n",
              "                            47.066326        -122.498290       6      2023      1\n",
              "                            47.075360        -123.270805       5      2023      1\n",
              "                            47.081253        -122.718056       4      2023      1\n",
              "Name: count, Length: 8198, dtype: int64"
            ]
          },
          "execution_count": 80,
          "metadata": {},
          "output_type": "execute_result"
        }
      ],
      "source": [
        "gbif_df_2023.value_counts()"
      ]
    },
    {
      "cell_type": "markdown",
      "id": "ac54c8e7",
      "metadata": {},
      "source": [
        "#### Year 2022"
      ]
    },
    {
      "cell_type": "code",
      "execution_count": 54,
      "id": "682e0407",
      "metadata": {},
      "outputs": [
        {
          "data": {
            "text/html": [
              "<div>\n",
              "<style scoped>\n",
              "    .dataframe tbody tr th:only-of-type {\n",
              "        vertical-align: middle;\n",
              "    }\n",
              "\n",
              "    .dataframe tbody tr th {\n",
              "        vertical-align: top;\n",
              "    }\n",
              "\n",
              "    .dataframe thead th {\n",
              "        text-align: right;\n",
              "    }\n",
              "</style>\n",
              "<table border=\"1\" class=\"dataframe\">\n",
              "  <thead>\n",
              "    <tr style=\"text-align: right;\">\n",
              "      <th></th>\n",
              "      <th>countryCode</th>\n",
              "      <th>stateProvince</th>\n",
              "      <th>decimalLatitude</th>\n",
              "      <th>decimalLongitude</th>\n",
              "      <th>month</th>\n",
              "      <th>year</th>\n",
              "    </tr>\n",
              "    <tr>\n",
              "      <th>gbifID</th>\n",
              "      <th></th>\n",
              "      <th></th>\n",
              "      <th></th>\n",
              "      <th></th>\n",
              "      <th></th>\n",
              "      <th></th>\n",
              "    </tr>\n",
              "  </thead>\n",
              "  <tbody>\n",
              "    <tr>\n",
              "      <th>4901985213</th>\n",
              "      <td>US</td>\n",
              "      <td>California</td>\n",
              "      <td>38.341145</td>\n",
              "      <td>-119.924987</td>\n",
              "      <td>6</td>\n",
              "      <td>2022</td>\n",
              "    </tr>\n",
              "    <tr>\n",
              "      <th>4901604313</th>\n",
              "      <td>US</td>\n",
              "      <td>California</td>\n",
              "      <td>38.341145</td>\n",
              "      <td>-119.924987</td>\n",
              "      <td>6</td>\n",
              "      <td>2022</td>\n",
              "    </tr>\n",
              "  </tbody>\n",
              "</table>\n",
              "</div>"
            ],
            "text/plain": [
              "           countryCode stateProvince  decimalLatitude  decimalLongitude  \\\n",
              "gbifID                                                                    \n",
              "4901985213          US    California        38.341145       -119.924987   \n",
              "4901604313          US    California        38.341145       -119.924987   \n",
              "\n",
              "            month  year  \n",
              "gbifID                   \n",
              "4901985213      6  2022  \n",
              "4901604313      6  2022  "
            ]
          },
          "execution_count": 54,
          "metadata": {},
          "output_type": "execute_result"
        }
      ],
      "source": [
        "# Load the GBIF data\n",
        "gbif_df_2022 = pd.read_csv(\n",
        "    gbif_path, \n",
        "    delimiter='\\t',\n",
        "    index_col='gbifID',\n",
        "    on_bad_lines='skip',\n",
        "    usecols=['gbifID', 'countryCode', 'stateProvince', 'decimalLatitude', 'decimalLongitude', 'month', 'year']\n",
        ")\n",
        "\n",
        "gbif_df_2022.head(2)"
      ]
    },
    {
      "cell_type": "code",
      "execution_count": 55,
      "id": "5abbf5df",
      "metadata": {},
      "outputs": [
        {
          "data": {
            "text/plain": [
              "countryCode  stateProvince  decimalLatitude  decimalLongitude  month  year\n",
              "US           California     34.360283        -118.395890       4      2022    170\n",
              "             Arizona        32.392628        -110.702470       8      2022    133\n",
              "             Pennsylvania   39.855350        -75.445404        11     2022    121\n",
              "             Arizona        32.417030        -110.725080       8      2022    114\n",
              "             California     32.553860        -117.084620       5      2022    103\n",
              "                                                                             ... \n",
              "             Washington     47.500560        -123.282100       5      2022      1\n",
              "                            47.472195        -123.838000       7      2022      1\n",
              "                            47.469204        -122.914185       5      2022      1\n",
              "                            47.468520        -123.845520       7      2022      1\n",
              "                            47.464817        -123.852104       7      2022      1\n",
              "Name: count, Length: 8228, dtype: int64"
            ]
          },
          "execution_count": 55,
          "metadata": {},
          "output_type": "execute_result"
        }
      ],
      "source": [
        "gbif_df_2022.value_counts()"
      ]
    },
    {
      "cell_type": "markdown",
      "id": "026c3f50",
      "metadata": {},
      "source": [
        "#### Year 2021"
      ]
    },
    {
      "cell_type": "code",
      "execution_count": 60,
      "id": "b80d60c1",
      "metadata": {},
      "outputs": [
        {
          "data": {
            "text/html": [
              "<div>\n",
              "<style scoped>\n",
              "    .dataframe tbody tr th:only-of-type {\n",
              "        vertical-align: middle;\n",
              "    }\n",
              "\n",
              "    .dataframe tbody tr th {\n",
              "        vertical-align: top;\n",
              "    }\n",
              "\n",
              "    .dataframe thead th {\n",
              "        text-align: right;\n",
              "    }\n",
              "</style>\n",
              "<table border=\"1\" class=\"dataframe\">\n",
              "  <thead>\n",
              "    <tr style=\"text-align: right;\">\n",
              "      <th></th>\n",
              "      <th>countryCode</th>\n",
              "      <th>stateProvince</th>\n",
              "      <th>decimalLatitude</th>\n",
              "      <th>decimalLongitude</th>\n",
              "      <th>month</th>\n",
              "      <th>year</th>\n",
              "    </tr>\n",
              "    <tr>\n",
              "      <th>gbifID</th>\n",
              "      <th></th>\n",
              "      <th></th>\n",
              "      <th></th>\n",
              "      <th></th>\n",
              "      <th></th>\n",
              "      <th></th>\n",
              "    </tr>\n",
              "  </thead>\n",
              "  <tbody>\n",
              "    <tr>\n",
              "      <th>4936044596</th>\n",
              "      <td>US</td>\n",
              "      <td>California</td>\n",
              "      <td>40.893766</td>\n",
              "      <td>-123.769021</td>\n",
              "      <td>5</td>\n",
              "      <td>2021</td>\n",
              "    </tr>\n",
              "    <tr>\n",
              "      <th>4908633473</th>\n",
              "      <td>US</td>\n",
              "      <td>California</td>\n",
              "      <td>40.190598</td>\n",
              "      <td>-121.102956</td>\n",
              "      <td>5</td>\n",
              "      <td>2021</td>\n",
              "    </tr>\n",
              "  </tbody>\n",
              "</table>\n",
              "</div>"
            ],
            "text/plain": [
              "           countryCode stateProvince  decimalLatitude  decimalLongitude  \\\n",
              "gbifID                                                                    \n",
              "4936044596          US    California        40.893766       -123.769021   \n",
              "4908633473          US    California        40.190598       -121.102956   \n",
              "\n",
              "            month  year  \n",
              "gbifID                   \n",
              "4936044596      5  2021  \n",
              "4908633473      5  2021  "
            ]
          },
          "execution_count": 60,
          "metadata": {},
          "output_type": "execute_result"
        }
      ],
      "source": [
        "# Load the GBIF data\n",
        "gbif_df_2021 = pd.read_csv(\n",
        "    gbif_path, \n",
        "    delimiter='\\t',\n",
        "    index_col='gbifID',\n",
        "    on_bad_lines='skip',\n",
        "    usecols=['gbifID', 'countryCode', 'stateProvince', 'decimalLatitude', 'decimalLongitude', 'month', 'year']\n",
        ")\n",
        "\n",
        "gbif_df_2021.head(2)"
      ]
    },
    {
      "cell_type": "code",
      "execution_count": 61,
      "id": "9289a1ba",
      "metadata": {},
      "outputs": [
        {
          "data": {
            "text/plain": [
              "countryCode  stateProvince  decimalLatitude  decimalLongitude  month  year\n",
              "US           California     34.360283        -118.39589        4      2021    179\n",
              "                            32.553860        -117.08462        5      2021    145\n",
              "                            37.995620        -122.97821        9      2021    125\n",
              "             Arizona        31.727170        -110.88075        4      2021    103\n",
              "                            31.917200        -109.27910        8      2021    101\n",
              "                                                                             ... \n",
              "GT           Alta Verapaz   15.306603        -90.45372         10     2021      1\n",
              "                            15.412526        -90.40979         8      2021      1\n",
              "US           Washington     47.031920        -123.09377        7      2021      1\n",
              "                                                               8      2021      1\n",
              "                            47.040035        -122.49458        5      2021      1\n",
              "Name: count, Length: 7808, dtype: int64"
            ]
          },
          "execution_count": 61,
          "metadata": {},
          "output_type": "execute_result"
        }
      ],
      "source": [
        "gbif_df_2021.value_counts()"
      ]
    },
    {
      "cell_type": "markdown",
      "id": "799dfc55",
      "metadata": {},
      "source": [
        "#### Year 2020"
      ]
    },
    {
      "cell_type": "code",
      "execution_count": 66,
      "id": "940af5cf",
      "metadata": {},
      "outputs": [
        {
          "data": {
            "text/html": [
              "<div>\n",
              "<style scoped>\n",
              "    .dataframe tbody tr th:only-of-type {\n",
              "        vertical-align: middle;\n",
              "    }\n",
              "\n",
              "    .dataframe tbody tr th {\n",
              "        vertical-align: top;\n",
              "    }\n",
              "\n",
              "    .dataframe thead th {\n",
              "        text-align: right;\n",
              "    }\n",
              "</style>\n",
              "<table border=\"1\" class=\"dataframe\">\n",
              "  <thead>\n",
              "    <tr style=\"text-align: right;\">\n",
              "      <th></th>\n",
              "      <th>countryCode</th>\n",
              "      <th>stateProvince</th>\n",
              "      <th>decimalLatitude</th>\n",
              "      <th>decimalLongitude</th>\n",
              "      <th>month</th>\n",
              "      <th>year</th>\n",
              "    </tr>\n",
              "    <tr>\n",
              "      <th>gbifID</th>\n",
              "      <th></th>\n",
              "      <th></th>\n",
              "      <th></th>\n",
              "      <th></th>\n",
              "      <th></th>\n",
              "      <th></th>\n",
              "    </tr>\n",
              "  </thead>\n",
              "  <tbody>\n",
              "    <tr>\n",
              "      <th>4946437756</th>\n",
              "      <td>US</td>\n",
              "      <td>California</td>\n",
              "      <td>32.545422</td>\n",
              "      <td>-117.073311</td>\n",
              "      <td>9</td>\n",
              "      <td>2020</td>\n",
              "    </tr>\n",
              "    <tr>\n",
              "      <th>4946233537</th>\n",
              "      <td>US</td>\n",
              "      <td>California</td>\n",
              "      <td>35.970859</td>\n",
              "      <td>-118.485165</td>\n",
              "      <td>6</td>\n",
              "      <td>2020</td>\n",
              "    </tr>\n",
              "  </tbody>\n",
              "</table>\n",
              "</div>"
            ],
            "text/plain": [
              "           countryCode stateProvince  decimalLatitude  decimalLongitude  \\\n",
              "gbifID                                                                    \n",
              "4946437756          US    California        32.545422       -117.073311   \n",
              "4946233537          US    California        35.970859       -118.485165   \n",
              "\n",
              "            month  year  \n",
              "gbifID                   \n",
              "4946437756      9  2020  \n",
              "4946233537      6  2020  "
            ]
          },
          "execution_count": 66,
          "metadata": {},
          "output_type": "execute_result"
        }
      ],
      "source": [
        "# Load the GBIF data\n",
        "gbif_df_2020 = pd.read_csv(\n",
        "    gbif_path, \n",
        "    delimiter='\\t',\n",
        "    index_col='gbifID',\n",
        "    on_bad_lines='skip',\n",
        "    usecols=['gbifID', 'countryCode', 'stateProvince', 'decimalLatitude', 'decimalLongitude', 'month', 'year']\n",
        ")\n",
        "\n",
        "gbif_df_2020.head(2)"
      ]
    },
    {
      "cell_type": "code",
      "execution_count": 67,
      "id": "f7cc2e43",
      "metadata": {},
      "outputs": [
        {
          "data": {
            "text/plain": [
              "countryCode  stateProvince  decimalLatitude  decimalLongitude  month  year\n",
              "US           Arizona        31.917200        -109.279100       8      2020    139\n",
              "                            31.786108        -109.298134       9      2020    106\n",
              "                            32.442710        -110.759865       8      2020     74\n",
              "             California     33.831070        -118.123800       12     2020     71\n",
              "                            37.768635        -122.474930       9      2020     58\n",
              "                                                                             ... \n",
              "CR           Puntarenas     10.305712        -84.811625        9      2020      1\n",
              "US           Washington     47.059536        -122.979630       6      2020      1\n",
              "                            47.060440        -122.970214       5      2020      1\n",
              "                            47.083153        -122.843710       6      2020      1\n",
              "MX           Tlaxcala       19.458649        -98.580375        1      2020      1\n",
              "Name: count, Length: 6653, dtype: int64"
            ]
          },
          "execution_count": 67,
          "metadata": {},
          "output_type": "execute_result"
        }
      ],
      "source": [
        "gbif_df_2020.value_counts()"
      ]
    },
    {
      "cell_type": "markdown",
      "id": "d960a52d",
      "metadata": {},
      "source": [
        "#### Year 2019"
      ]
    },
    {
      "cell_type": "code",
      "execution_count": 72,
      "id": "18c7ab2e",
      "metadata": {},
      "outputs": [
        {
          "data": {
            "text/html": [
              "<div>\n",
              "<style scoped>\n",
              "    .dataframe tbody tr th:only-of-type {\n",
              "        vertical-align: middle;\n",
              "    }\n",
              "\n",
              "    .dataframe tbody tr th {\n",
              "        vertical-align: top;\n",
              "    }\n",
              "\n",
              "    .dataframe thead th {\n",
              "        text-align: right;\n",
              "    }\n",
              "</style>\n",
              "<table border=\"1\" class=\"dataframe\">\n",
              "  <thead>\n",
              "    <tr style=\"text-align: right;\">\n",
              "      <th></th>\n",
              "      <th>countryCode</th>\n",
              "      <th>stateProvince</th>\n",
              "      <th>decimalLatitude</th>\n",
              "      <th>decimalLongitude</th>\n",
              "      <th>month</th>\n",
              "      <th>year</th>\n",
              "    </tr>\n",
              "    <tr>\n",
              "      <th>gbifID</th>\n",
              "      <th></th>\n",
              "      <th></th>\n",
              "      <th></th>\n",
              "      <th></th>\n",
              "      <th></th>\n",
              "      <th></th>\n",
              "    </tr>\n",
              "  </thead>\n",
              "  <tbody>\n",
              "    <tr>\n",
              "      <th>4910852571</th>\n",
              "      <td>CA</td>\n",
              "      <td>Ontario</td>\n",
              "      <td>43.853489</td>\n",
              "      <td>-78.897137</td>\n",
              "      <td>4</td>\n",
              "      <td>2019</td>\n",
              "    </tr>\n",
              "    <tr>\n",
              "      <th>4908236882</th>\n",
              "      <td>US</td>\n",
              "      <td>California</td>\n",
              "      <td>38.974473</td>\n",
              "      <td>-120.391240</td>\n",
              "      <td>7</td>\n",
              "      <td>2019</td>\n",
              "    </tr>\n",
              "  </tbody>\n",
              "</table>\n",
              "</div>"
            ],
            "text/plain": [
              "           countryCode stateProvince  decimalLatitude  decimalLongitude  \\\n",
              "gbifID                                                                    \n",
              "4910852571          CA       Ontario        43.853489        -78.897137   \n",
              "4908236882          US    California        38.974473       -120.391240   \n",
              "\n",
              "            month  year  \n",
              "gbifID                   \n",
              "4910852571      4  2019  \n",
              "4908236882      7  2019  "
            ]
          },
          "execution_count": 72,
          "metadata": {},
          "output_type": "execute_result"
        }
      ],
      "source": [
        "# Load the GBIF data\n",
        "gbif_df_2019 = pd.read_csv(\n",
        "    gbif_path, \n",
        "    delimiter='\\t',\n",
        "    index_col='gbifID',\n",
        "    on_bad_lines='skip',\n",
        "    usecols=['gbifID', 'countryCode', 'stateProvince', 'decimalLatitude', 'decimalLongitude', 'month', 'year']\n",
        ")\n",
        "\n",
        "gbif_df_2019.head(2)"
      ]
    },
    {
      "cell_type": "code",
      "execution_count": 73,
      "id": "bce45edd",
      "metadata": {},
      "outputs": [
        {
          "data": {
            "text/plain": [
              "countryCode  stateProvince  decimalLatitude  decimalLongitude  month  year\n",
              "CA           Ontario        43.853080        -78.896050        4      2019    159\n",
              "US           Arizona        32.392628        -110.702470       8      2019    127\n",
              "             California     33.820480        -118.128780       4      2019     94\n",
              "             Arizona        32.411125        -110.706480       8      2019     86\n",
              "             Colorado       40.009860        -105.274310       5      2019     75\n",
              "                                                                             ... \n",
              "             California     37.894768        -121.938970       5      2019      1\n",
              "                            37.893047        -122.243500       7      2019      1\n",
              "                            37.890327        -122.314766       5      2019      1\n",
              "                            37.889717        -122.235020       4      2019      1\n",
              "                            37.913795        -122.284730       9      2019      1\n",
              "Name: count, Length: 6241, dtype: int64"
            ]
          },
          "execution_count": 73,
          "metadata": {},
          "output_type": "execute_result"
        }
      ],
      "source": [
        "gbif_df_2019.value_counts()"
      ]
    },
    {
      "cell_type": "code",
      "execution_count": null,
      "id": "f7dd33bf",
      "metadata": {},
      "outputs": [],
      "source": []
    }
  ],
  "metadata": {
    "kernelspec": {
      "display_name": "base",
      "language": "python",
      "name": "python3"
    },
    "language_info": {
      "codemirror_mode": {
        "name": "ipython",
        "version": 3
      },
      "file_extension": ".py",
      "mimetype": "text/x-python",
      "name": "python",
      "nbconvert_exporter": "python",
      "pygments_lexer": "ipython3",
      "version": "3.11.6"
    }
  },
  "nbformat": 4,
  "nbformat_minor": 5
}
