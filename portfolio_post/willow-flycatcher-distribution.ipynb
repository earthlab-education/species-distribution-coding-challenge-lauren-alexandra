{
  "cells": [
    {
      "cell_type": "markdown",
      "id": "19653740-42cf-45a4-b1f0-8c462503e2ff",
      "metadata": {},
      "source": [
        "## Willow Flycatcher"
      ]
    },
    {
      "cell_type": "markdown",
      "id": "7e7443ba",
      "metadata": {},
      "source": [
        "<img src=\"willow-flycatcher.png\" alt=\"Willow Flycatcher\" width=\"720\" height=\"550\" longdesc=\"https://macaulaylibrary.org/asset/451259001\" /> "
      ]
    },
    {
      "cell_type": "markdown",
      "id": "dc601a6c",
      "metadata": {},
      "source": [
        "**About**\n",
        "\n",
        "Willow Flycatchers (*Empidonax traillii*) specialize in areas with willows and other shrubs [near running and still water](https://www.audubon.org/field-guide/bird/willow-flycatcher). They are about 6 inches in length with brown, gray, and white feathers, a rounded wing, and a square-tipped tail. The call of a Willow Flycatcher is a chirp, buzz, or trill and matches an undulating pattern. Nests are placed 4-15 feet above water or damp ground and constructed as an open cup of grass, bark, and plant fibers. The species migrates long distances, breeding in the U.S. and Canada and wintering in Mexico, Central America, and northern South America. They are common in most locations in their range despite a [25% decline](https://www.allaboutbirds.org/guide/Willow_Flycatcher/lifehistory) in population between 1966 to 2019. The loss of wet marshes, wet meadows, and riparian vegetation has contributed to [declining species abundance](https://www.fs.usda.gov/detail/tahoe/landmanagement/resourcemanagement/?cid=stelprdb5357314#:~:text=The%20scientific%20name%20for%20willow,t). According to the Bird Genoscape Project, there are seven geneticially [distinct populations](https://www.birdgenoscape.org/willow-flycatcher/) of Willow Flycatcher in North America: the Pacific Northwest, Kern, California, southern California, White Mountain, Arizona, Interior West, Southwest, and Eastern. In my home state of California, there are three [endangered subspecies](https://www.fs.usda.gov/detail/tahoe/landmanagement/resourcemanagement/?cid=stelprdb5357314#:~:text=The%20scientific%20name%20for%20willow,t): Southwestern Willow Flycatcher in central and southern California (Federal and State), Little Willow Flycatcher in high elevation Sierra Nevada (State), and Great Basin Willow Flycatcher in desert riparian area (State). Researchers have found that the Southwestern Willow Flycatcher has a higher prevalence of gene variants today compared to 100 years ago that are associated with [adapting to wet and humid conditions](https://www.allaboutbirds.org/news/endangered-willow-flycatchers-in-san-diego-are-adapting-to-climate-change/). This difference is likely due to interbreeding with species in the Southwest and Pacific Northwest, producing an evolutionary response to climate change. Adaptations like these are why it is vital to preserve the interconnectivity of species populations through the protection of habitat and landscape mobility."
      ]
    },
    {
      "cell_type": "markdown",
      "id": "dda3f220",
      "metadata": {},
      "source": [
        "#### Imports"
      ]
    },
    {
      "cell_type": "code",
      "execution_count": 1,
      "id": "75e6717e",
      "metadata": {},
      "outputs": [
        {
          "name": "stdout",
          "output_type": "stream",
          "text": [
            "Requirement already satisfied: pygbif in /opt/conda/lib/python3.11/site-packages (0.6.4)\n",
            "Requirement already satisfied: requests>2.7 in /opt/conda/lib/python3.11/site-packages (from pygbif) (2.32.3)\n",
            "Requirement already satisfied: requests-cache in /opt/conda/lib/python3.11/site-packages (from pygbif) (1.2.1)\n",
            "Requirement already satisfied: geojson-rewind in /opt/conda/lib/python3.11/site-packages (from pygbif) (1.1.0)\n",
            "Requirement already satisfied: geomet in /opt/conda/lib/python3.11/site-packages (from pygbif) (1.1.0)\n",
            "Requirement already satisfied: appdirs>=1.4.3 in /opt/conda/lib/python3.11/site-packages (from pygbif) (1.4.4)\n",
            "Requirement already satisfied: matplotlib in /opt/conda/lib/python3.11/site-packages (from pygbif) (3.9.2)\n",
            "Requirement already satisfied: charset-normalizer<4,>=2 in /opt/conda/lib/python3.11/site-packages (from requests>2.7->pygbif) (3.3.2)\n",
            "Requirement already satisfied: idna<4,>=2.5 in /opt/conda/lib/python3.11/site-packages (from requests>2.7->pygbif) (3.10)\n",
            "Requirement already satisfied: urllib3<3,>=1.21.1 in /opt/conda/lib/python3.11/site-packages (from requests>2.7->pygbif) (2.2.3)\n",
            "Requirement already satisfied: certifi>=2017.4.17 in /opt/conda/lib/python3.11/site-packages (from requests>2.7->pygbif) (2024.8.30)\n",
            "Requirement already satisfied: click in /opt/conda/lib/python3.11/site-packages (from geomet->pygbif) (8.1.7)\n",
            "Requirement already satisfied: contourpy>=1.0.1 in /opt/conda/lib/python3.11/site-packages (from matplotlib->pygbif) (1.3.0)\n",
            "Requirement already satisfied: cycler>=0.10 in /opt/conda/lib/python3.11/site-packages (from matplotlib->pygbif) (0.12.1)\n",
            "Requirement already satisfied: fonttools>=4.22.0 in /opt/conda/lib/python3.11/site-packages (from matplotlib->pygbif) (4.54.1)\n",
            "Requirement already satisfied: kiwisolver>=1.3.1 in /opt/conda/lib/python3.11/site-packages (from matplotlib->pygbif) (1.4.7)\n",
            "Requirement already satisfied: numpy>=1.23 in /opt/conda/lib/python3.11/site-packages (from matplotlib->pygbif) (2.0.2)\n",
            "Requirement already satisfied: packaging>=20.0 in /opt/conda/lib/python3.11/site-packages (from matplotlib->pygbif) (24.1)\n",
            "Requirement already satisfied: pillow>=8 in /opt/conda/lib/python3.11/site-packages (from matplotlib->pygbif) (10.4.0)\n",
            "Requirement already satisfied: pyparsing>=2.3.1 in /opt/conda/lib/python3.11/site-packages (from matplotlib->pygbif) (3.1.4)\n",
            "Requirement already satisfied: python-dateutil>=2.7 in /opt/conda/lib/python3.11/site-packages (from matplotlib->pygbif) (2.9.0)\n",
            "Requirement already satisfied: attrs>=21.2 in /opt/conda/lib/python3.11/site-packages (from requests-cache->pygbif) (24.2.0)\n",
            "Requirement already satisfied: cattrs>=22.2 in /opt/conda/lib/python3.11/site-packages (from requests-cache->pygbif) (24.1.2)\n",
            "Requirement already satisfied: platformdirs>=2.5 in /opt/conda/lib/python3.11/site-packages (from requests-cache->pygbif) (4.3.6)\n",
            "Requirement already satisfied: url-normalize>=1.4 in /opt/conda/lib/python3.11/site-packages (from requests-cache->pygbif) (1.4.3)\n",
            "Requirement already satisfied: six>=1.5 in /opt/conda/lib/python3.11/site-packages (from python-dateutil>=2.7->matplotlib->pygbif) (1.16.0)\n"
          ]
        }
      ],
      "source": [
        "%%bash\n",
        "pip install pygbif"
      ]
    },
    {
      "cell_type": "code",
      "execution_count": 2,
      "id": "4d48ceff",
      "metadata": {},
      "outputs": [],
      "source": [
        "import os\n",
        "import pathlib\n",
        "import time\n",
        "import zipfile\n",
        "from getpass import getpass\n",
        "from glob import glob\n",
        "import pandas as pd\n",
        "\n",
        "import pygbif.occurrences as occ\n",
        "import pygbif.species as species"
      ]
    },
    {
      "cell_type": "markdown",
      "id": "c91260a6-877a-4a6a-825b-6bdf9dcb0a6a",
      "metadata": {},
      "source": [
        "#### Analysis"
      ]
    },
    {
      "cell_type": "code",
      "execution_count": 3,
      "id": "9cf408e1",
      "metadata": {
        "highlight": true
      },
      "outputs": [],
      "source": [
        "# Create data directory in the home folder\n",
        "data_dir = os.path.join(\n",
        "    # Home directory\n",
        "    pathlib.Path.home(),\n",
        "    # Earth analytics data directory\n",
        "    'earth-analytics',\n",
        "    'data',\n",
        "    # Project directory\n",
        "    'species-distribution',\n",
        ")\n",
        "os.makedirs(data_dir, exist_ok=True)\n",
        "\n",
        "# Define the directory name for GBIF data\n",
        "gbif_dir = os.path.join(data_dir, 'willow-flycatcher', '2023')"
      ]
    },
    {
      "cell_type": "code",
      "execution_count": 4,
      "id": "da01e8ba",
      "metadata": {},
      "outputs": [
        {
          "data": {
            "text/plain": [
              "'/home/jovyan/earth-analytics/data/species-distribution/willow-flycatcher/2023'"
            ]
          },
          "execution_count": 4,
          "metadata": {},
          "output_type": "execute_result"
        }
      ],
      "source": [
        "gbif_dir"
      ]
    },
    {
      "cell_type": "markdown",
      "id": "2583a48e-621d-42a3-83ca-503c05db41bc",
      "metadata": {},
      "source": [
        "#### Access GBIF"
      ]
    },
    {
      "cell_type": "code",
      "execution_count": 5,
      "id": "989f737e",
      "metadata": {},
      "outputs": [],
      "source": [
        "reset_credentials = False\n",
        "# GBIF needs a username, password, and email\n",
        "credentials = dict(\n",
        "    GBIF_USER=(input, 'lauren-alexandra'),\n",
        "    GBIF_PWD=(getpass, 'benga3-gaZsax-ruqdan'),\n",
        "    GBIF_EMAIL=(input, 'laurenalexandra999@gmail.com'),\n",
        ")\n",
        "\n",
        "for env_variable, (prompt_func, prompt_text) in credentials.items():\n",
        "    # Delete credential from environment if requested\n",
        "    if reset_credentials and (env_variable in os.environ):\n",
        "        os.environ.pop(env_variable)\n",
        "    # Ask for credential and save to environment\n",
        "    if not env_variable in os.environ:\n",
        "        os.environ[env_variable] = prompt_func(prompt_text)\n"
      ]
    },
    {
      "cell_type": "code",
      "execution_count": 6,
      "id": "90a15d5c",
      "metadata": {
        "highlight": true
      },
      "outputs": [
        {
          "data": {
            "text/plain": [
              "('Empidonax traillii', 2482786)"
            ]
          },
          "execution_count": 6,
          "metadata": {},
          "output_type": "execute_result"
        }
      ],
      "source": [
        "# Query species\n",
        "species_info = species.name_lookup('Empidonax traillii', rank='SPECIES')\n",
        "\n",
        "# Get the first result\n",
        "first_result = species_info['results'][0]\n",
        "\n",
        "# Get the species key (nubKey)\n",
        "species_key = first_result['nubKey']\n",
        "\n",
        "# Check the result\n",
        "first_result['species'], species_key"
      ]
    },
    {
      "cell_type": "markdown",
      "id": "28bfdb8b-fb88-4c48-befd-ca078f5e2c0d",
      "metadata": {},
      "source": [
        "### Download data from GBIF\n",
        "\n",
        "::: {.callout-task title=“Submit a request to GBIF”\n",
        "\n",
        "1.  Replace `csv_file_pattern` with a string that will match **any**\n",
        "    `.csv` file when used in the `glob` function. HINT: the character\n",
        "    `*` represents any number of any values except the file separator\n",
        "    (e.g. `/`)\n",
        "\n",
        "2.  Add parameters to the GBIF download function, `occ.download()` to\n",
        "    limit your query to:\n",
        "\n",
        "    -   observations\n",
        "    -   from 2023\n",
        "    -   with spatial coordinates.\n",
        "\n",
        "3.  Then, run the download. **This can take a few minutes**. :::"
      ]
    },
    {
      "cell_type": "code",
      "execution_count": 8,
      "id": "0bdc80c5",
      "metadata": {
        "highlight": true
      },
      "outputs": [],
      "source": [
        "# Only download once\n",
        "gbif_pattern = os.path.join(gbif_dir, '*.csv')\n",
        "if not glob(gbif_pattern):\n",
        "    # Submit query to GBIF\n",
        "    gbif_query = occ.download([\n",
        "        \"speciesKey = 2482786\",\n",
        "        \"year = 2023\",\n",
        "        \"hasCoordinate = TRUE\",\n",
        "    ],\n",
        "    user=credentials['GBIF_USER'][1], \n",
        "    pwd=credentials['GBIF_PWD'][1], \n",
        "    email=credentials['GBIF_EMAIL'][1])\n",
        "\n",
        "    # Only download once\n",
        "    if not 'GBIF_DOWNLOAD_KEY' in os.environ:\n",
        "        os.environ['GBIF_DOWNLOAD_KEY'] = gbif_query[0]\n",
        "\n",
        "        # Wait for the download to build\n",
        "        wait = occ.download_meta(os.environ['GBIF_DOWNLOAD_KEY'])['status'] \n",
        "        while not wait=='SUCCEEDED':\n",
        "            wait = occ.download_meta(os.environ['GBIF_DOWNLOAD_KEY'])['status'] \n",
        "            time.sleep(5)\n",
        "\n",
        "        # Download GBIF data\n",
        "        download_info = occ.download_get(\n",
        "            os.environ['GBIF_DOWNLOAD_KEY'], \n",
        "            path=data_dir)\n",
        "\n",
        "        # Unzip GBIF data\n",
        "        with zipfile.ZipFile(download_info['path']) as download_zip:\n",
        "            download_zip.extractall(path=gbif_dir)\n",
        "\n",
        "# Find the extracted .csv file path\n",
        "gbif_path = glob(gbif_pattern)[0]"
      ]
    },
    {
      "cell_type": "code",
      "execution_count": 9,
      "id": "b7ecd5a7",
      "metadata": {},
      "outputs": [
        {
          "data": {
            "text/plain": [
              "'/home/jovyan/earth-analytics/data/species-distribution/willow-flycatcher/2023/0001229-241007104925546.csv'"
            ]
          },
          "execution_count": 9,
          "metadata": {},
          "output_type": "execute_result"
        }
      ],
      "source": [
        "gbif_path"
      ]
    },
    {
      "cell_type": "markdown",
      "id": "90ed1038-74bd-4a87-a50f-1b0abc216277",
      "metadata": {},
      "source": [
        "### Load the GBIF data into Python\n",
        "\n",
        "<link rel=\"stylesheet\" type=\"text/css\" href=\"./assets/styles.css\"><div class=\"callout callout-style-default callout-titled callout-task\"><div class=\"callout-header\"><div class=\"callout-icon-container\"><i class=\"callout-icon\"></i></div><div class=\"callout-title-container flex-fill\">Try It: Load GBIF data</div></div><div class=\"callout-body-container callout-body\"><ol type=\"1\">\n",
        "<li>Look at the beginning of the file you downloaded using the code\n",
        "below. What do you think the <strong>delimiter</strong> is?</li>\n",
        "<li>Run the following code cell. What happens?</li>\n",
        "<li>Uncomment and modify the parameters of <code>pd.read_csv()</code>\n",
        "below until your data loads successfully and you have only the columns\n",
        "you want.</li>\n",
        "</ol></div></div>\n",
        "\n",
        "You can use the following code to look at the beginning of your file:"
      ]
    },
    {
      "cell_type": "code",
      "execution_count": 10,
      "id": "94999229",
      "metadata": {},
      "outputs": [
        {
          "name": "stdout",
          "output_type": "stream",
          "text": [
            "gbifID\tdatasetKey\toccurrenceID\tkingdom\tphylum\tclass\torder\tfamily\tgenus\tspecies\tinfraspecificEpithet\ttaxonRank\tscientificName\tverbatimScientificName\tverbatimScientificNameAuthorship\tcountryCode\tlocality\tstateProvince\toccurrenceStatus\tindividualCount\tpublishingOrgKey\tdecimalLatitude\tdecimalLongitude\tcoordinateUncertaintyInMeters\tcoordinatePrecision\televation\televationAccuracy\tdepth\tdepthAccuracy\teventDate\tday\tmonth\tyear\ttaxonKey\tspeciesKey\tbasisOfRecord\tinstitutionCode\tcollectionCode\tcatalogNumber\trecordNumber\tidentifiedBy\tdateIdentified\tlicense\trightsHolder\trecordedBy\ttypeStatus\testablishmentMeans\tlastInterpreted\tmediaType\tissue\n",
            "4846727844\t50c9509d-22c7-4a22-a47d-8c48425ef4a7\thttps://www.inaturalist.org/observations/176130744\tAnimalia\tChordata\tAves\tPasseriformes\tTyrannidae\tEmpidonax\tEmpidonax traillii\t\tSPECIES\tEmpidonax traillii (Audubon, 1828)\tEmpidonax traillii\t\tUS\t\tIllinois\tPRESENT\t\t28eb1a3f-1c15-4a95-931a-4af90ecb574d\t41.840597\t-88.075757\t61.0\t\t\t\t\t\t2023-08-01T09:28\t1\t8\t2023\t2482786\t2482786\tHUMAN_OBSERVATION\tiNaturalist\tObservations\t176130744\t\tvogelbild\t2023-08-01T16:44:37\tCC_BY_NC_4_0\tvogelbild\tvogelbild\t\t\t2024-10-05T09:15:46.792Z\tStillImage\tCOORDINATE_ROUNDED;CONTINENT_DERIVED_FROM_COORDINATES;TAXON_MATCH_TAXON_ID_IGNORED\n"
          ]
        }
      ],
      "source": [
        "!head -n 2 $gbif_path "
      ]
    },
    {
      "cell_type": "markdown",
      "id": "975b0e0c",
      "metadata": {},
      "source": [
        "#### Year 2023"
      ]
    },
    {
      "cell_type": "code",
      "execution_count": 11,
      "id": "88e56065",
      "metadata": {
        "highlight": true
      },
      "outputs": [
        {
          "data": {
            "text/html": [
              "<div>\n",
              "<style scoped>\n",
              "    .dataframe tbody tr th:only-of-type {\n",
              "        vertical-align: middle;\n",
              "    }\n",
              "\n",
              "    .dataframe tbody tr th {\n",
              "        vertical-align: top;\n",
              "    }\n",
              "\n",
              "    .dataframe thead th {\n",
              "        text-align: right;\n",
              "    }\n",
              "</style>\n",
              "<table border=\"1\" class=\"dataframe\">\n",
              "  <thead>\n",
              "    <tr style=\"text-align: right;\">\n",
              "      <th></th>\n",
              "      <th>countryCode</th>\n",
              "      <th>stateProvince</th>\n",
              "      <th>decimalLatitude</th>\n",
              "      <th>decimalLongitude</th>\n",
              "      <th>month</th>\n",
              "      <th>year</th>\n",
              "    </tr>\n",
              "    <tr>\n",
              "      <th>gbifID</th>\n",
              "      <th></th>\n",
              "      <th></th>\n",
              "      <th></th>\n",
              "      <th></th>\n",
              "      <th></th>\n",
              "      <th></th>\n",
              "    </tr>\n",
              "  </thead>\n",
              "  <tbody>\n",
              "    <tr>\n",
              "      <th>4846727844</th>\n",
              "      <td>US</td>\n",
              "      <td>Illinois</td>\n",
              "      <td>41.840597</td>\n",
              "      <td>-88.075757</td>\n",
              "      <td>8</td>\n",
              "      <td>2023</td>\n",
              "    </tr>\n",
              "    <tr>\n",
              "      <th>4458666436</th>\n",
              "      <td>CA</td>\n",
              "      <td>Alberta</td>\n",
              "      <td>51.170300</td>\n",
              "      <td>-115.593645</td>\n",
              "      <td>6</td>\n",
              "      <td>2023</td>\n",
              "    </tr>\n",
              "  </tbody>\n",
              "</table>\n",
              "</div>"
            ],
            "text/plain": [
              "           countryCode stateProvince  decimalLatitude  decimalLongitude  \\\n",
              "gbifID                                                                    \n",
              "4846727844          US      Illinois        41.840597        -88.075757   \n",
              "4458666436          CA       Alberta        51.170300       -115.593645   \n",
              "\n",
              "            month  year  \n",
              "gbifID                   \n",
              "4846727844      8  2023  \n",
              "4458666436      6  2023  "
            ]
          },
          "execution_count": 11,
          "metadata": {},
          "output_type": "execute_result"
        }
      ],
      "source": [
        "# Load the GBIF data\n",
        "gbif_df_2023 = pd.read_csv(\n",
        "    gbif_path, \n",
        "    delimiter='\\t',\n",
        "    index_col='gbifID',\n",
        "    on_bad_lines='skip',\n",
        "    usecols=['gbifID', 'month', 'year', 'countryCode', 'stateProvince', 'decimalLatitude', 'decimalLongitude']\n",
        ")\n",
        "\n",
        "gbif_df_2023.head(2)"
      ]
    },
    {
      "cell_type": "code",
      "execution_count": 20,
      "id": "49a41c5d",
      "metadata": {},
      "outputs": [
        {
          "data": {
            "text/plain": [
              "14"
            ]
          },
          "execution_count": 20,
          "metadata": {},
          "output_type": "execute_result"
        }
      ],
      "source": [
        "len(gbif_df_2023[\"countryCode\"].unique())"
      ]
    },
    {
      "cell_type": "code",
      "execution_count": 21,
      "id": "2215627c",
      "metadata": {},
      "outputs": [
        {
          "data": {
            "text/plain": [
              "array(['US', 'CA', 'EC', 'MX', 'NI', 'HN', 'GT', 'CR', 'CO', 'VE', 'BZ',\n",
              "       'PA', 'SV', 'BM'], dtype=object)"
            ]
          },
          "execution_count": 21,
          "metadata": {},
          "output_type": "execute_result"
        }
      ],
      "source": [
        "gbif_df_2023[\"countryCode\"].unique()"
      ]
    },
    {
      "cell_type": "code",
      "execution_count": 13,
      "id": "6f596d3e",
      "metadata": {},
      "outputs": [
        {
          "data": {
            "text/plain": [
              "countryCode  stateProvince  decimalLatitude  decimalLongitude  month  year\n",
              "US           Pennsylvania   39.889350        -75.260150        5      2023    227\n",
              "                                                               6      2023    216\n",
              "             Illinois       41.963383        -87.634420        5      2023    177\n",
              "             Ohio           41.451912        -82.667366        5      2023    169\n",
              "             Pennsylvania   40.271667        -76.247734        7      2023    166\n",
              "                                                                             ... \n",
              "             Wyoming        44.811672        -108.800170       5      2023      1\n",
              "                            44.659695        -106.948850       5      2023      1\n",
              "                            44.510040        -109.146800       6      2023      1\n",
              "                            44.462100        -110.853570       5      2023      1\n",
              "                            44.438520        -109.217010       8      2023      1\n",
              "Name: count, Length: 32661, dtype: int64"
            ]
          },
          "execution_count": 13,
          "metadata": {},
          "output_type": "execute_result"
        }
      ],
      "source": [
        "# United States \n",
        "\n",
        "wf_US = gbif_df_2023.loc[gbif_df_2023['countryCode'] == 'US']\n",
        "wf_US.value_counts()"
      ]
    },
    {
      "cell_type": "code",
      "execution_count": 14,
      "id": "4c79ddca",
      "metadata": {},
      "outputs": [
        {
          "data": {
            "text/plain": [
              "countryCode  stateProvince     decimalLatitude  decimalLongitude  month  year\n",
              "CA           Ontario           43.628270        -79.32917         5      2023    160\n",
              "             British Columbia  49.234290        -122.79964        7      2023    142\n",
              "                               48.319800        -123.54715        8      2023    139\n",
              "                               49.234290        -122.79964        6      2023    115\n",
              "             Ontario           41.955400        -82.51400         5      2023    109\n",
              "                                                                                ... \n",
              "                               42.325730        -82.89813         6      2023      1\n",
              "             British Columbia  49.235115        -122.89093        6      2023      1\n",
              "             Ontario           42.325302        -82.92369         5      2023      1\n",
              "             British Columbia  49.235120        -122.63271        6      2023      1\n",
              "             Ontario           42.335026        -81.85847         7      2023      1\n",
              "Name: count, Length: 6818, dtype: int64"
            ]
          },
          "execution_count": 14,
          "metadata": {},
          "output_type": "execute_result"
        }
      ],
      "source": [
        "# Canada\n",
        "\n",
        "wf_CA = gbif_df_2023.loc[gbif_df_2023['countryCode'] == 'CA']\n",
        "wf_CA.value_counts()"
      ]
    },
    {
      "cell_type": "code",
      "execution_count": 17,
      "id": "6e4d65e9",
      "metadata": {},
      "outputs": [
        {
          "data": {
            "text/plain": [
              "countryCode  stateProvince  decimalLatitude  decimalLongitude  month  year\n",
              "EC           Napo           -1.083466        -77.577210        10     2023    7\n",
              "             Sucumbíos      -0.438398        -76.170040        3      2023    6\n",
              "                            -0.439735        -76.280334        3      2023    4\n",
              "                            -0.418850        -76.530075        3      2023    4\n",
              "                            -0.410007        -76.566800        2      2023    3\n",
              "                            -0.408760        -76.569570        4      2023    3\n",
              "                            -0.366095        -76.589090        1      2023    2\n",
              "                            -0.407598        -76.562935        1      2023    2\n",
              "                            -0.473889        -76.316444        1      2023    2\n",
              "             Orellana       -0.492047        -76.331710        1      2023    2\n",
              "             Chimborazo     -1.738496        -78.755394        11     2023    2\n",
              "             Orellana       -0.498996        -76.410866        1      2023    2\n",
              "             Napo           -1.057570        -77.546650        10     2023    1\n",
              "                            -1.057694        -77.563930        3      2023    1\n",
              "                            -1.056109        -77.584050        5      2023    1\n",
              "                                                               4      2023    1\n",
              "             Sucumbíos      -0.498304        -76.373470        4      2023    1\n",
              "             Orellana       -0.495789        -76.420490        10     2023    1\n",
              "             Napo           -1.047871        -77.666790        2      2023    1\n",
              "             Orellana       -0.415078        -76.555060        11     2023    1\n",
              "                            -0.524480        -76.416590        11     2023    1\n",
              "             Sucumbíos      -0.409712        -76.567314        2      2023    1\n",
              "Name: count, dtype: int64"
            ]
          },
          "execution_count": 17,
          "metadata": {},
          "output_type": "execute_result"
        }
      ],
      "source": [
        "# Ecuador\n",
        "\n",
        "wf_EC = gbif_df_2023.loc[gbif_df_2023['countryCode'] == 'EC']\n",
        "wf_EC.value_counts()"
      ]
    },
    {
      "cell_type": "code",
      "execution_count": 18,
      "id": "86d097c3",
      "metadata": {},
      "outputs": [
        {
          "data": {
            "text/plain": [
              "countryCode  stateProvince  decimalLatitude  decimalLongitude  month  year\n",
              "MX           Tabasco        17.989754        -92.973090        9      2023    18\n",
              "             Oaxaca         15.761899        -96.127110        11     2023    12\n",
              "             Sonora         27.009628        -108.913380       10     2023    10\n",
              "             Veracruz       19.469866        -96.788970        9      2023     8\n",
              "             Nayarit        21.528181        -105.219970       2      2023     7\n",
              "                                                                              ..\n",
              "             Veracruz       18.543131        -95.148419        5      2023     1\n",
              "                            18.455866        -95.185870        10     2023     1\n",
              "                            19.110413        -96.121056        5      2023     1\n",
              "                            19.067734        -96.075860        5      2023     1\n",
              "                            19.490616        -96.332400        5      2023     1\n",
              "Name: count, Length: 212, dtype: int64"
            ]
          },
          "execution_count": 18,
          "metadata": {},
          "output_type": "execute_result"
        }
      ],
      "source": [
        "# Mexico \n",
        "\n",
        "wf_MX = gbif_df_2023.loc[gbif_df_2023['countryCode'] == 'MX']\n",
        "wf_MX.value_counts()"
      ]
    },
    {
      "cell_type": "code",
      "execution_count": null,
      "id": "3734adb6",
      "metadata": {},
      "outputs": [],
      "source": [
        "# hv plot migration \n",
        "\n"
      ]
    },
    {
      "cell_type": "code",
      "execution_count": null,
      "id": "a854d404",
      "metadata": {},
      "outputs": [],
      "source": []
    },
    {
      "cell_type": "code",
      "execution_count": null,
      "id": "c2ee1839",
      "metadata": {},
      "outputs": [],
      "source": []
    },
    {
      "cell_type": "code",
      "execution_count": null,
      "id": "b71c1142",
      "metadata": {},
      "outputs": [],
      "source": []
    },
    {
      "cell_type": "markdown",
      "id": "ac54c8e7",
      "metadata": {},
      "source": [
        "#### Year 2022"
      ]
    },
    {
      "cell_type": "code",
      "execution_count": 54,
      "id": "682e0407",
      "metadata": {},
      "outputs": [
        {
          "data": {
            "text/html": [
              "<div>\n",
              "<style scoped>\n",
              "    .dataframe tbody tr th:only-of-type {\n",
              "        vertical-align: middle;\n",
              "    }\n",
              "\n",
              "    .dataframe tbody tr th {\n",
              "        vertical-align: top;\n",
              "    }\n",
              "\n",
              "    .dataframe thead th {\n",
              "        text-align: right;\n",
              "    }\n",
              "</style>\n",
              "<table border=\"1\" class=\"dataframe\">\n",
              "  <thead>\n",
              "    <tr style=\"text-align: right;\">\n",
              "      <th></th>\n",
              "      <th>countryCode</th>\n",
              "      <th>stateProvince</th>\n",
              "      <th>decimalLatitude</th>\n",
              "      <th>decimalLongitude</th>\n",
              "      <th>month</th>\n",
              "      <th>year</th>\n",
              "    </tr>\n",
              "    <tr>\n",
              "      <th>gbifID</th>\n",
              "      <th></th>\n",
              "      <th></th>\n",
              "      <th></th>\n",
              "      <th></th>\n",
              "      <th></th>\n",
              "      <th></th>\n",
              "    </tr>\n",
              "  </thead>\n",
              "  <tbody>\n",
              "    <tr>\n",
              "      <th>4901985213</th>\n",
              "      <td>US</td>\n",
              "      <td>California</td>\n",
              "      <td>38.341145</td>\n",
              "      <td>-119.924987</td>\n",
              "      <td>6</td>\n",
              "      <td>2022</td>\n",
              "    </tr>\n",
              "    <tr>\n",
              "      <th>4901604313</th>\n",
              "      <td>US</td>\n",
              "      <td>California</td>\n",
              "      <td>38.341145</td>\n",
              "      <td>-119.924987</td>\n",
              "      <td>6</td>\n",
              "      <td>2022</td>\n",
              "    </tr>\n",
              "  </tbody>\n",
              "</table>\n",
              "</div>"
            ],
            "text/plain": [
              "           countryCode stateProvince  decimalLatitude  decimalLongitude  \\\n",
              "gbifID                                                                    \n",
              "4901985213          US    California        38.341145       -119.924987   \n",
              "4901604313          US    California        38.341145       -119.924987   \n",
              "\n",
              "            month  year  \n",
              "gbifID                   \n",
              "4901985213      6  2022  \n",
              "4901604313      6  2022  "
            ]
          },
          "execution_count": 54,
          "metadata": {},
          "output_type": "execute_result"
        }
      ],
      "source": [
        "# Load the GBIF data\n",
        "gbif_df_2022 = pd.read_csv(\n",
        "    gbif_path, \n",
        "    delimiter='\\t',\n",
        "    index_col='gbifID',\n",
        "    on_bad_lines='skip',\n",
        "    usecols=['gbifID', 'countryCode', 'stateProvince', 'decimalLatitude', 'decimalLongitude', 'month', 'year']\n",
        ")\n",
        "\n",
        "gbif_df_2022.head(2)"
      ]
    },
    {
      "cell_type": "code",
      "execution_count": 55,
      "id": "5abbf5df",
      "metadata": {},
      "outputs": [
        {
          "data": {
            "text/plain": [
              "countryCode  stateProvince  decimalLatitude  decimalLongitude  month  year\n",
              "US           California     34.360283        -118.395890       4      2022    170\n",
              "             Arizona        32.392628        -110.702470       8      2022    133\n",
              "             Pennsylvania   39.855350        -75.445404        11     2022    121\n",
              "             Arizona        32.417030        -110.725080       8      2022    114\n",
              "             California     32.553860        -117.084620       5      2022    103\n",
              "                                                                             ... \n",
              "             Washington     47.500560        -123.282100       5      2022      1\n",
              "                            47.472195        -123.838000       7      2022      1\n",
              "                            47.469204        -122.914185       5      2022      1\n",
              "                            47.468520        -123.845520       7      2022      1\n",
              "                            47.464817        -123.852104       7      2022      1\n",
              "Name: count, Length: 8228, dtype: int64"
            ]
          },
          "execution_count": 55,
          "metadata": {},
          "output_type": "execute_result"
        }
      ],
      "source": [
        "gbif_df_2022.value_counts()"
      ]
    },
    {
      "cell_type": "markdown",
      "id": "026c3f50",
      "metadata": {},
      "source": [
        "#### Year 2021"
      ]
    },
    {
      "cell_type": "code",
      "execution_count": 60,
      "id": "b80d60c1",
      "metadata": {},
      "outputs": [
        {
          "data": {
            "text/html": [
              "<div>\n",
              "<style scoped>\n",
              "    .dataframe tbody tr th:only-of-type {\n",
              "        vertical-align: middle;\n",
              "    }\n",
              "\n",
              "    .dataframe tbody tr th {\n",
              "        vertical-align: top;\n",
              "    }\n",
              "\n",
              "    .dataframe thead th {\n",
              "        text-align: right;\n",
              "    }\n",
              "</style>\n",
              "<table border=\"1\" class=\"dataframe\">\n",
              "  <thead>\n",
              "    <tr style=\"text-align: right;\">\n",
              "      <th></th>\n",
              "      <th>countryCode</th>\n",
              "      <th>stateProvince</th>\n",
              "      <th>decimalLatitude</th>\n",
              "      <th>decimalLongitude</th>\n",
              "      <th>month</th>\n",
              "      <th>year</th>\n",
              "    </tr>\n",
              "    <tr>\n",
              "      <th>gbifID</th>\n",
              "      <th></th>\n",
              "      <th></th>\n",
              "      <th></th>\n",
              "      <th></th>\n",
              "      <th></th>\n",
              "      <th></th>\n",
              "    </tr>\n",
              "  </thead>\n",
              "  <tbody>\n",
              "    <tr>\n",
              "      <th>4936044596</th>\n",
              "      <td>US</td>\n",
              "      <td>California</td>\n",
              "      <td>40.893766</td>\n",
              "      <td>-123.769021</td>\n",
              "      <td>5</td>\n",
              "      <td>2021</td>\n",
              "    </tr>\n",
              "    <tr>\n",
              "      <th>4908633473</th>\n",
              "      <td>US</td>\n",
              "      <td>California</td>\n",
              "      <td>40.190598</td>\n",
              "      <td>-121.102956</td>\n",
              "      <td>5</td>\n",
              "      <td>2021</td>\n",
              "    </tr>\n",
              "  </tbody>\n",
              "</table>\n",
              "</div>"
            ],
            "text/plain": [
              "           countryCode stateProvince  decimalLatitude  decimalLongitude  \\\n",
              "gbifID                                                                    \n",
              "4936044596          US    California        40.893766       -123.769021   \n",
              "4908633473          US    California        40.190598       -121.102956   \n",
              "\n",
              "            month  year  \n",
              "gbifID                   \n",
              "4936044596      5  2021  \n",
              "4908633473      5  2021  "
            ]
          },
          "execution_count": 60,
          "metadata": {},
          "output_type": "execute_result"
        }
      ],
      "source": [
        "# Load the GBIF data\n",
        "gbif_df_2021 = pd.read_csv(\n",
        "    gbif_path, \n",
        "    delimiter='\\t',\n",
        "    index_col='gbifID',\n",
        "    on_bad_lines='skip',\n",
        "    usecols=['gbifID', 'countryCode', 'stateProvince', 'decimalLatitude', 'decimalLongitude', 'month', 'year']\n",
        ")\n",
        "\n",
        "gbif_df_2021.head(2)"
      ]
    },
    {
      "cell_type": "code",
      "execution_count": 61,
      "id": "9289a1ba",
      "metadata": {},
      "outputs": [
        {
          "data": {
            "text/plain": [
              "countryCode  stateProvince  decimalLatitude  decimalLongitude  month  year\n",
              "US           California     34.360283        -118.39589        4      2021    179\n",
              "                            32.553860        -117.08462        5      2021    145\n",
              "                            37.995620        -122.97821        9      2021    125\n",
              "             Arizona        31.727170        -110.88075        4      2021    103\n",
              "                            31.917200        -109.27910        8      2021    101\n",
              "                                                                             ... \n",
              "GT           Alta Verapaz   15.306603        -90.45372         10     2021      1\n",
              "                            15.412526        -90.40979         8      2021      1\n",
              "US           Washington     47.031920        -123.09377        7      2021      1\n",
              "                                                               8      2021      1\n",
              "                            47.040035        -122.49458        5      2021      1\n",
              "Name: count, Length: 7808, dtype: int64"
            ]
          },
          "execution_count": 61,
          "metadata": {},
          "output_type": "execute_result"
        }
      ],
      "source": [
        "gbif_df_2021.value_counts()"
      ]
    },
    {
      "cell_type": "markdown",
      "id": "1cc18738",
      "metadata": {},
      "source": [
        "#### References\n",
        "\n",
        "Afzal, P. (2024, January 4). *Endangered Willow Flycatchers in San Diego are adapting to climate change.* Cornell Lab of Ornithology. https://www.allaboutbirds.org/news/endangered-willow-flycatchers-in-san-diego-are-adapting-to-climate-change \n",
        "\n",
        "Bird Genoscape Project. (n.d.). *Willow Flycatcher.* https://www.birdgenoscape.org/willow-flycatcher \n",
        "\n",
        "Cornell Lab of Ornithology. (n.d.). *Willow Flycatcher life history.* All About Birds. https://www.allaboutbirds.org/guide/Willow_Flycatcher/lifehistory\n",
        "\n",
        "National Audubon Society. (n.d.). *Willow Flycatcher.* Audubon. https://www.audubon.org/field-guide/bird/willow-flycatcher\n",
        "\n",
        "Tahoe National Forest. (n.d.). *Willow Flycatcher - introduction.* U.S. Forest Service. https://www.fs.usda.gov/detail/tahoe/landmanagement/resourcemanagement/?cid=stelprdb5357314#:~:text=The%20scientific%20name%20for%20willow,t \n",
        "\n",
        "\n",
        "\n",
        "\n",
        "\n"
      ]
    }
  ],
  "metadata": {
    "kernelspec": {
      "display_name": "base",
      "language": "python",
      "name": "python3"
    },
    "language_info": {
      "codemirror_mode": {
        "name": "ipython",
        "version": 3
      },
      "file_extension": ".py",
      "mimetype": "text/x-python",
      "name": "python",
      "nbconvert_exporter": "python",
      "pygments_lexer": "ipython3",
      "version": "3.11.6"
    }
  },
  "nbformat": 4,
  "nbformat_minor": 5
}
