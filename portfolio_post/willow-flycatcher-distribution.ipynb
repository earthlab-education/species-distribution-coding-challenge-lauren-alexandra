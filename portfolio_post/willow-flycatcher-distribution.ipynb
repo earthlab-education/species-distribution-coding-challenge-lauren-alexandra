{
  "cells": [
    {
      "cell_type": "markdown",
      "id": "19653740-42cf-45a4-b1f0-8c462503e2ff",
      "metadata": {},
      "source": [
        "## Willow Flycatcher Migration"
      ]
    },
    {
      "cell_type": "markdown",
      "id": "7e7443ba",
      "metadata": {},
      "source": [
        "<img src=\"willow-flycatcher.png\" alt=\"Willow Flycatcher\" width=\"720\" height=\"550\" longdesc=\"https://macaulaylibrary.org/asset/451259001\" /> "
      ]
    },
    {
      "cell_type": "markdown",
      "id": "dc601a6c",
      "metadata": {},
      "source": [
        "**About**\n",
        "\n",
        "Willow Flycatchers (*Empidonax traillii*) specialize in areas with willows and other shrubs [near running and still water](https://www.audubon.org/field-guide/bird/willow-flycatcher). They are about 6 inches in length with brown, gray, and white feathers, a rounded wing, and a square-tipped tail. The call of a Willow Flycatcher is a chirp, buzz, or trill and matches an undulating pattern. Nests are placed 4-15 feet above water or damp ground and constructed as an open cup of grass, bark, and plant fibers. The species migrates long distances, breeding in the U.S. and Canada and wintering in Mexico, Central America, and northern South America. They are common in most locations in their range despite a [25% decline](https://www.allaboutbirds.org/guide/Willow_Flycatcher/lifehistory) in population between 1966 to 2019. The loss of wet marshes, wet meadows, and riparian vegetation has contributed to [declining species abundance](https://www.fs.usda.gov/detail/tahoe/landmanagement/resourcemanagement/?cid=stelprdb5357314#:~:text=The%20scientific%20name%20for%20willow,t). According to the Bird Genoscape Project, there are seven geneticially [distinct populations](https://www.birdgenoscape.org/willow-flycatcher/) of Willow Flycatcher in North America: the Pacific Northwest, Kern, California, southern California, White Mountain, Arizona, Interior West, Southwest, and Eastern. In my home state of California, there are three [endangered subspecies](https://www.fs.usda.gov/detail/tahoe/landmanagement/resourcemanagement/?cid=stelprdb5357314#:~:text=The%20scientific%20name%20for%20willow,t): Southwestern Willow Flycatcher in central and southern California (Federal and State), Little Willow Flycatcher in high elevation Sierra Nevada (State), and Great Basin Willow Flycatcher in desert riparian area (State). Researchers have found that the Southwestern Willow Flycatcher has a higher prevalence of gene variants today compared to 100 years ago that are associated with [adapting to wet and humid conditions](https://www.allaboutbirds.org/news/endangered-willow-flycatchers-in-san-diego-are-adapting-to-climate-change/). This difference is likely due to interbreeding with species in the Southwest and Pacific Northwest, producing an evolutionary response to climate change. Adaptations like these are why it is vital to preserve the interconnectivity of species populations through the protection of habitat and landscape mobility."
      ]
    },
    {
      "cell_type": "markdown",
      "id": "dda3f220",
      "metadata": {},
      "source": [
        "##### Imports"
      ]
    },
    {
      "cell_type": "code",
      "execution_count": 1,
      "id": "75e6717e",
      "metadata": {},
      "outputs": [
        {
          "name": "stdout",
          "output_type": "stream",
          "text": [
            "Requirement already satisfied: pygbif in /opt/conda/lib/python3.11/site-packages (0.6.4)\n",
            "Requirement already satisfied: requests>2.7 in /opt/conda/lib/python3.11/site-packages (from pygbif) (2.32.3)\n",
            "Requirement already satisfied: requests-cache in /opt/conda/lib/python3.11/site-packages (from pygbif) (1.2.1)\n",
            "Requirement already satisfied: geojson-rewind in /opt/conda/lib/python3.11/site-packages (from pygbif) (1.1.0)\n",
            "Requirement already satisfied: geomet in /opt/conda/lib/python3.11/site-packages (from pygbif) (1.1.0)\n",
            "Requirement already satisfied: appdirs>=1.4.3 in /opt/conda/lib/python3.11/site-packages (from pygbif) (1.4.4)\n",
            "Requirement already satisfied: matplotlib in /opt/conda/lib/python3.11/site-packages (from pygbif) (3.9.2)\n",
            "Requirement already satisfied: charset-normalizer<4,>=2 in /opt/conda/lib/python3.11/site-packages (from requests>2.7->pygbif) (3.3.2)\n",
            "Requirement already satisfied: idna<4,>=2.5 in /opt/conda/lib/python3.11/site-packages (from requests>2.7->pygbif) (3.10)\n",
            "Requirement already satisfied: urllib3<3,>=1.21.1 in /opt/conda/lib/python3.11/site-packages (from requests>2.7->pygbif) (2.2.3)\n",
            "Requirement already satisfied: certifi>=2017.4.17 in /opt/conda/lib/python3.11/site-packages (from requests>2.7->pygbif) (2024.8.30)\n",
            "Requirement already satisfied: click in /opt/conda/lib/python3.11/site-packages (from geomet->pygbif) (8.1.7)\n",
            "Requirement already satisfied: contourpy>=1.0.1 in /opt/conda/lib/python3.11/site-packages (from matplotlib->pygbif) (1.3.0)\n",
            "Requirement already satisfied: cycler>=0.10 in /opt/conda/lib/python3.11/site-packages (from matplotlib->pygbif) (0.12.1)\n",
            "Requirement already satisfied: fonttools>=4.22.0 in /opt/conda/lib/python3.11/site-packages (from matplotlib->pygbif) (4.54.1)\n",
            "Requirement already satisfied: kiwisolver>=1.3.1 in /opt/conda/lib/python3.11/site-packages (from matplotlib->pygbif) (1.4.7)\n",
            "Requirement already satisfied: numpy>=1.23 in /opt/conda/lib/python3.11/site-packages (from matplotlib->pygbif) (2.0.2)\n",
            "Requirement already satisfied: packaging>=20.0 in /opt/conda/lib/python3.11/site-packages (from matplotlib->pygbif) (24.1)\n",
            "Requirement already satisfied: pillow>=8 in /opt/conda/lib/python3.11/site-packages (from matplotlib->pygbif) (10.4.0)\n",
            "Requirement already satisfied: pyparsing>=2.3.1 in /opt/conda/lib/python3.11/site-packages (from matplotlib->pygbif) (3.1.4)\n",
            "Requirement already satisfied: python-dateutil>=2.7 in /opt/conda/lib/python3.11/site-packages (from matplotlib->pygbif) (2.9.0)\n",
            "Requirement already satisfied: attrs>=21.2 in /opt/conda/lib/python3.11/site-packages (from requests-cache->pygbif) (24.2.0)\n",
            "Requirement already satisfied: cattrs>=22.2 in /opt/conda/lib/python3.11/site-packages (from requests-cache->pygbif) (24.1.2)\n",
            "Requirement already satisfied: platformdirs>=2.5 in /opt/conda/lib/python3.11/site-packages (from requests-cache->pygbif) (4.3.6)\n",
            "Requirement already satisfied: url-normalize>=1.4 in /opt/conda/lib/python3.11/site-packages (from requests-cache->pygbif) (1.4.3)\n",
            "Requirement already satisfied: six>=1.5 in /opt/conda/lib/python3.11/site-packages (from python-dateutil>=2.7->matplotlib->pygbif) (1.16.0)\n",
            "Requirement already satisfied: geoviews in /opt/conda/lib/python3.11/site-packages (1.13.0)\n",
            "Requirement already satisfied: bokeh<3.6.0,>=3.5.0 in /opt/conda/lib/python3.11/site-packages (from geoviews) (3.5.2)\n",
            "Requirement already satisfied: cartopy>=0.18.0 in /opt/conda/lib/python3.11/site-packages (from geoviews) (0.23.0)\n",
            "Requirement already satisfied: holoviews>=1.16.0 in /opt/conda/lib/python3.11/site-packages (from geoviews) (1.19.1)\n",
            "Requirement already satisfied: numpy in /opt/conda/lib/python3.11/site-packages (from geoviews) (2.0.2)\n",
            "Requirement already satisfied: packaging in /opt/conda/lib/python3.11/site-packages (from geoviews) (24.1)\n",
            "Requirement already satisfied: panel>=1.0.0 in /opt/conda/lib/python3.11/site-packages (from geoviews) (1.5.1)\n",
            "Requirement already satisfied: param in /opt/conda/lib/python3.11/site-packages (from geoviews) (2.1.1)\n",
            "Requirement already satisfied: pyproj in /opt/conda/lib/python3.11/site-packages (from geoviews) (3.7.0)\n",
            "Requirement already satisfied: shapely in /opt/conda/lib/python3.11/site-packages (from geoviews) (2.0.6)\n",
            "Requirement already satisfied: xyzservices in /opt/conda/lib/python3.11/site-packages (from geoviews) (2024.9.0)\n",
            "Requirement already satisfied: Jinja2>=2.9 in /opt/conda/lib/python3.11/site-packages (from bokeh<3.6.0,>=3.5.0->geoviews) (3.1.4)\n",
            "Requirement already satisfied: contourpy>=1.2 in /opt/conda/lib/python3.11/site-packages (from bokeh<3.6.0,>=3.5.0->geoviews) (1.3.0)\n",
            "Requirement already satisfied: pandas>=1.2 in /opt/conda/lib/python3.11/site-packages (from bokeh<3.6.0,>=3.5.0->geoviews) (2.2.3)\n",
            "Requirement already satisfied: pillow>=7.1.0 in /opt/conda/lib/python3.11/site-packages (from bokeh<3.6.0,>=3.5.0->geoviews) (10.4.0)\n",
            "Requirement already satisfied: PyYAML>=3.10 in /opt/conda/lib/python3.11/site-packages (from bokeh<3.6.0,>=3.5.0->geoviews) (6.0.2)\n",
            "Requirement already satisfied: tornado>=6.2 in /opt/conda/lib/python3.11/site-packages (from bokeh<3.6.0,>=3.5.0->geoviews) (6.4.1)\n",
            "Requirement already satisfied: matplotlib>=3.5 in /opt/conda/lib/python3.11/site-packages (from cartopy>=0.18.0->geoviews) (3.9.2)\n",
            "Requirement already satisfied: pyshp>=2.3 in /opt/conda/lib/python3.11/site-packages (from cartopy>=0.18.0->geoviews) (2.3.1)\n",
            "Requirement already satisfied: colorcet in /opt/conda/lib/python3.11/site-packages (from holoviews>=1.16.0->geoviews) (3.1.0)\n",
            "Requirement already satisfied: pyviz-comms>=2.1 in /opt/conda/lib/python3.11/site-packages (from holoviews>=1.16.0->geoviews) (3.0.3)\n",
            "Requirement already satisfied: bleach in /opt/conda/lib/python3.11/site-packages (from panel>=1.0.0->geoviews) (6.1.0)\n",
            "Requirement already satisfied: linkify-it-py in /opt/conda/lib/python3.11/site-packages (from panel>=1.0.0->geoviews) (2.0.3)\n",
            "Requirement already satisfied: markdown in /opt/conda/lib/python3.11/site-packages (from panel>=1.0.0->geoviews) (3.6)\n",
            "Requirement already satisfied: markdown-it-py in /opt/conda/lib/python3.11/site-packages (from panel>=1.0.0->geoviews) (3.0.0)\n",
            "Requirement already satisfied: mdit-py-plugins in /opt/conda/lib/python3.11/site-packages (from panel>=1.0.0->geoviews) (0.4.2)\n",
            "Requirement already satisfied: requests in /opt/conda/lib/python3.11/site-packages (from panel>=1.0.0->geoviews) (2.32.3)\n",
            "Requirement already satisfied: tqdm in /opt/conda/lib/python3.11/site-packages (from panel>=1.0.0->geoviews) (4.66.5)\n",
            "Requirement already satisfied: typing-extensions in /opt/conda/lib/python3.11/site-packages (from panel>=1.0.0->geoviews) (4.12.2)\n",
            "Requirement already satisfied: certifi in /opt/conda/lib/python3.11/site-packages (from pyproj->geoviews) (2024.8.30)\n",
            "Requirement already satisfied: MarkupSafe>=2.0 in /opt/conda/lib/python3.11/site-packages (from Jinja2>=2.9->bokeh<3.6.0,>=3.5.0->geoviews) (2.1.5)\n",
            "Requirement already satisfied: cycler>=0.10 in /opt/conda/lib/python3.11/site-packages (from matplotlib>=3.5->cartopy>=0.18.0->geoviews) (0.12.1)\n",
            "Requirement already satisfied: fonttools>=4.22.0 in /opt/conda/lib/python3.11/site-packages (from matplotlib>=3.5->cartopy>=0.18.0->geoviews) (4.54.1)\n",
            "Requirement already satisfied: kiwisolver>=1.3.1 in /opt/conda/lib/python3.11/site-packages (from matplotlib>=3.5->cartopy>=0.18.0->geoviews) (1.4.7)\n",
            "Requirement already satisfied: pyparsing>=2.3.1 in /opt/conda/lib/python3.11/site-packages (from matplotlib>=3.5->cartopy>=0.18.0->geoviews) (3.1.4)\n",
            "Requirement already satisfied: python-dateutil>=2.7 in /opt/conda/lib/python3.11/site-packages (from matplotlib>=3.5->cartopy>=0.18.0->geoviews) (2.9.0)\n",
            "Requirement already satisfied: pytz>=2020.1 in /opt/conda/lib/python3.11/site-packages (from pandas>=1.2->bokeh<3.6.0,>=3.5.0->geoviews) (2024.1)\n",
            "Requirement already satisfied: tzdata>=2022.7 in /opt/conda/lib/python3.11/site-packages (from pandas>=1.2->bokeh<3.6.0,>=3.5.0->geoviews) (2024.2)\n",
            "Requirement already satisfied: six>=1.9.0 in /opt/conda/lib/python3.11/site-packages (from bleach->panel>=1.0.0->geoviews) (1.16.0)\n",
            "Requirement already satisfied: webencodings in /opt/conda/lib/python3.11/site-packages (from bleach->panel>=1.0.0->geoviews) (0.5.1)\n",
            "Requirement already satisfied: uc-micro-py in /opt/conda/lib/python3.11/site-packages (from linkify-it-py->panel>=1.0.0->geoviews) (1.0.3)\n",
            "Requirement already satisfied: mdurl~=0.1 in /opt/conda/lib/python3.11/site-packages (from markdown-it-py->panel>=1.0.0->geoviews) (0.1.2)\n",
            "Requirement already satisfied: charset-normalizer<4,>=2 in /opt/conda/lib/python3.11/site-packages (from requests->panel>=1.0.0->geoviews) (3.3.2)\n",
            "Requirement already satisfied: idna<4,>=2.5 in /opt/conda/lib/python3.11/site-packages (from requests->panel>=1.0.0->geoviews) (3.10)\n",
            "Requirement already satisfied: urllib3<3,>=1.21.1 in /opt/conda/lib/python3.11/site-packages (from requests->panel>=1.0.0->geoviews) (2.2.3)\n"
          ]
        }
      ],
      "source": [
        "%%bash\n",
        "pip install pygbif\n",
        "pip install geoviews"
      ]
    },
    {
      "cell_type": "code",
      "execution_count": 2,
      "id": "4d48ceff",
      "metadata": {},
      "outputs": [
        {
          "data": {
            "text/html": [
              "<script type=\"esms-options\">{\"shimMode\": true}</script><style>*[data-root-id],\n",
              "*[data-root-id] > * {\n",
              "  box-sizing: border-box;\n",
              "  font-family: var(--jp-ui-font-family);\n",
              "  font-size: var(--jp-ui-font-size1);\n",
              "  color: var(--vscode-editor-foreground, var(--jp-ui-font-color1));\n",
              "}\n",
              "\n",
              "/* Override VSCode background color */\n",
              ".cell-output-ipywidget-background:has(\n",
              "    > .cell-output-ipywidget-background > .lm-Widget > *[data-root-id]\n",
              "  ),\n",
              ".cell-output-ipywidget-background:has(> .lm-Widget > *[data-root-id]) {\n",
              "  background-color: transparent !important;\n",
              "}\n",
              "</style>"
            ]
          },
          "metadata": {},
          "output_type": "display_data"
        },
        {
          "data": {
            "application/javascript": "(function(root) {\n  function now() {\n    return new Date();\n  }\n\n  const force = true;\n  const py_version = '3.5.2'.replace('rc', '-rc.').replace('.dev', '-dev.');\n  const reloading = false;\n  const Bokeh = root.Bokeh;\n\n  // Set a timeout for this load but only if we are not already initializing\n  if (typeof (root._bokeh_timeout) === \"undefined\" || (force || !root._bokeh_is_initializing)) {\n    root._bokeh_timeout = Date.now() + 5000;\n    root._bokeh_failed_load = false;\n  }\n\n  function run_callbacks() {\n    try {\n      root._bokeh_onload_callbacks.forEach(function(callback) {\n        if (callback != null)\n          callback();\n      });\n    } finally {\n      delete root._bokeh_onload_callbacks;\n    }\n    console.debug(\"Bokeh: all callbacks have finished\");\n  }\n\n  function load_libs(css_urls, js_urls, js_modules, js_exports, callback) {\n    if (css_urls == null) css_urls = [];\n    if (js_urls == null) js_urls = [];\n    if (js_modules == null) js_modules = [];\n    if (js_exports == null) js_exports = {};\n\n    root._bokeh_onload_callbacks.push(callback);\n\n    if (root._bokeh_is_loading > 0) {\n      // Don't load bokeh if it is still initializing\n      console.debug(\"Bokeh: BokehJS is being loaded, scheduling callback at\", now());\n      return null;\n    } else if (js_urls.length === 0 && js_modules.length === 0 && Object.keys(js_exports).length === 0) {\n      // There is nothing to load\n      run_callbacks();\n      return null;\n    }\n\n    function on_load() {\n      root._bokeh_is_loading--;\n      if (root._bokeh_is_loading === 0) {\n        console.debug(\"Bokeh: all BokehJS libraries/stylesheets loaded\");\n        run_callbacks()\n      }\n    }\n    window._bokeh_on_load = on_load\n\n    function on_error(e) {\n      const src_el = e.srcElement\n      console.error(\"failed to load \" + (src_el.href || src_el.src));\n    }\n\n    const skip = [];\n    if (window.requirejs) {\n      window.requirejs.config({'packages': {}, 'paths': {}, 'shim': {}});\n      root._bokeh_is_loading = css_urls.length + 0;\n    } else {\n      root._bokeh_is_loading = css_urls.length + js_urls.length + js_modules.length + Object.keys(js_exports).length;\n    }\n\n    const existing_stylesheets = []\n    const links = document.getElementsByTagName('link')\n    for (let i = 0; i < links.length; i++) {\n      const link = links[i]\n      if (link.href != null) {\n        existing_stylesheets.push(link.href)\n      }\n    }\n    for (let i = 0; i < css_urls.length; i++) {\n      const url = css_urls[i];\n      const escaped = encodeURI(url)\n      if (existing_stylesheets.indexOf(escaped) !== -1) {\n        on_load()\n        continue;\n      }\n      const element = document.createElement(\"link\");\n      element.onload = on_load;\n      element.onerror = on_error;\n      element.rel = \"stylesheet\";\n      element.type = \"text/css\";\n      element.href = url;\n      console.debug(\"Bokeh: injecting link tag for BokehJS stylesheet: \", url);\n      document.body.appendChild(element);\n    }    var existing_scripts = []\n    const scripts = document.getElementsByTagName('script')\n    for (let i = 0; i < scripts.length; i++) {\n      var script = scripts[i]\n      if (script.src != null) {\n        existing_scripts.push(script.src)\n      }\n    }\n    for (let i = 0; i < js_urls.length; i++) {\n      const url = js_urls[i];\n      const escaped = encodeURI(url)\n      if (skip.indexOf(escaped) !== -1 || existing_scripts.indexOf(escaped) !== -1) {\n        if (!window.requirejs) {\n          on_load();\n        }\n        continue;\n      }\n      const element = document.createElement('script');\n      element.onload = on_load;\n      element.onerror = on_error;\n      element.async = false;\n      element.src = url;\n      console.debug(\"Bokeh: injecting script tag for BokehJS library: \", url);\n      document.head.appendChild(element);\n    }\n    for (let i = 0; i < js_modules.length; i++) {\n      const url = js_modules[i];\n      const escaped = encodeURI(url)\n      if (skip.indexOf(escaped) !== -1 || existing_scripts.indexOf(escaped) !== -1) {\n        if (!window.requirejs) {\n          on_load();\n        }\n        continue;\n      }\n      var element = document.createElement('script');\n      element.onload = on_load;\n      element.onerror = on_error;\n      element.async = false;\n      element.src = url;\n      element.type = \"module\";\n      console.debug(\"Bokeh: injecting script tag for BokehJS library: \", url);\n      document.head.appendChild(element);\n    }\n    for (const name in js_exports) {\n      const url = js_exports[name];\n      const escaped = encodeURI(url)\n      if (skip.indexOf(escaped) >= 0 || root[name] != null) {\n        if (!window.requirejs) {\n          on_load();\n        }\n        continue;\n      }\n      var element = document.createElement('script');\n      element.onerror = on_error;\n      element.async = false;\n      element.type = \"module\";\n      console.debug(\"Bokeh: injecting script tag for BokehJS library: \", url);\n      element.textContent = `\n      import ${name} from \"${url}\"\n      window.${name} = ${name}\n      window._bokeh_on_load()\n      `\n      document.head.appendChild(element);\n    }\n    if (!js_urls.length && !js_modules.length) {\n      on_load()\n    }\n  };\n\n  function inject_raw_css(css) {\n    const element = document.createElement(\"style\");\n    element.appendChild(document.createTextNode(css));\n    document.body.appendChild(element);\n  }\n\n  const js_urls = [\"https://cdn.holoviz.org/panel/1.5.1/dist/bundled/reactiveesm/es-module-shims@^1.10.0/dist/es-module-shims.min.js\", \"https://cdn.bokeh.org/bokeh/release/bokeh-3.5.2.min.js\", \"https://cdn.bokeh.org/bokeh/release/bokeh-gl-3.5.2.min.js\", \"https://cdn.bokeh.org/bokeh/release/bokeh-widgets-3.5.2.min.js\", \"https://cdn.bokeh.org/bokeh/release/bokeh-tables-3.5.2.min.js\", \"https://cdn.holoviz.org/panel/1.5.1/dist/panel.min.js\", \"https://cdn.jsdelivr.net/npm/@holoviz/geoviews@1.13.0/dist/geoviews.min.js\"];\n  const js_modules = [];\n  const js_exports = {};\n  const css_urls = [];\n  const inline_js = [    function(Bokeh) {\n      Bokeh.set_log_level(\"info\");\n    },\nfunction(Bokeh) {} // ensure no trailing comma for IE\n  ];\n\n  function run_inline_js() {\n    if ((root.Bokeh !== undefined) || (force === true)) {\n      for (let i = 0; i < inline_js.length; i++) {\n        try {\n          inline_js[i].call(root, root.Bokeh);\n        } catch(e) {\n          if (!reloading) {\n            throw e;\n          }\n        }\n      }\n      // Cache old bokeh versions\n      if (Bokeh != undefined && !reloading) {\n        var NewBokeh = root.Bokeh;\n        if (Bokeh.versions === undefined) {\n          Bokeh.versions = new Map();\n        }\n        if (NewBokeh.version !== Bokeh.version) {\n          Bokeh.versions.set(NewBokeh.version, NewBokeh)\n        }\n        root.Bokeh = Bokeh;\n      }\n    } else if (Date.now() < root._bokeh_timeout) {\n      setTimeout(run_inline_js, 100);\n    } else if (!root._bokeh_failed_load) {\n      console.log(\"Bokeh: BokehJS failed to load within specified timeout.\");\n      root._bokeh_failed_load = true;\n    }\n    root._bokeh_is_initializing = false\n  }\n\n  function load_or_wait() {\n    // Implement a backoff loop that tries to ensure we do not load multiple\n    // versions of Bokeh and its dependencies at the same time.\n    // In recent versions we use the root._bokeh_is_initializing flag\n    // to determine whether there is an ongoing attempt to initialize\n    // bokeh, however for backward compatibility we also try to ensure\n    // that we do not start loading a newer (Panel>=1.0 and Bokeh>3) version\n    // before older versions are fully initialized.\n    if (root._bokeh_is_initializing && Date.now() > root._bokeh_timeout) {\n      // If the timeout and bokeh was not successfully loaded we reset\n      // everything and try loading again\n      root._bokeh_timeout = Date.now() + 5000;\n      root._bokeh_is_initializing = false;\n      root._bokeh_onload_callbacks = undefined;\n      root._bokeh_is_loading = 0\n      console.log(\"Bokeh: BokehJS was loaded multiple times but one version failed to initialize.\");\n      load_or_wait();\n    } else if (root._bokeh_is_initializing || (typeof root._bokeh_is_initializing === \"undefined\" && root._bokeh_onload_callbacks !== undefined)) {\n      setTimeout(load_or_wait, 100);\n    } else {\n      root._bokeh_is_initializing = true\n      root._bokeh_onload_callbacks = []\n      const bokeh_loaded = root.Bokeh != null && (root.Bokeh.version === py_version || (root.Bokeh.versions !== undefined && root.Bokeh.versions.has(py_version)));\n      if (!reloading && !bokeh_loaded) {\n        if (root.Bokeh) {\n          root.Bokeh = undefined;\n        }\n        console.debug(\"Bokeh: BokehJS not loaded, scheduling load and callback at\", now());\n      }\n      load_libs(css_urls, js_urls, js_modules, js_exports, function() {\n        console.debug(\"Bokeh: BokehJS plotting callback run at\", now());\n        run_inline_js();\n      });\n    }\n  }\n  // Give older versions of the autoload script a head-start to ensure\n  // they initialize before we start loading newer version.\n  setTimeout(load_or_wait, 100)\n}(window));",
            "application/vnd.holoviews_load.v0+json": ""
          },
          "metadata": {},
          "output_type": "display_data"
        },
        {
          "data": {
            "application/javascript": "\nif ((window.PyViz === undefined) || (window.PyViz instanceof HTMLElement)) {\n  window.PyViz = {comms: {}, comm_status:{}, kernels:{}, receivers: {}, plot_index: []}\n}\n\n\n    function JupyterCommManager() {\n    }\n\n    JupyterCommManager.prototype.register_target = function(plot_id, comm_id, msg_handler) {\n      if (window.comm_manager || ((window.Jupyter !== undefined) && (Jupyter.notebook.kernel != null))) {\n        var comm_manager = window.comm_manager || Jupyter.notebook.kernel.comm_manager;\n        comm_manager.register_target(comm_id, function(comm) {\n          comm.on_msg(msg_handler);\n        });\n      } else if ((plot_id in window.PyViz.kernels) && (window.PyViz.kernels[plot_id])) {\n        window.PyViz.kernels[plot_id].registerCommTarget(comm_id, function(comm) {\n          comm.onMsg = msg_handler;\n        });\n      } else if (typeof google != 'undefined' && google.colab.kernel != null) {\n        google.colab.kernel.comms.registerTarget(comm_id, (comm) => {\n          var messages = comm.messages[Symbol.asyncIterator]();\n          function processIteratorResult(result) {\n            var message = result.value;\n            console.log(message)\n            var content = {data: message.data, comm_id};\n            var buffers = []\n            for (var buffer of message.buffers || []) {\n              buffers.push(new DataView(buffer))\n            }\n            var metadata = message.metadata || {};\n            var msg = {content, buffers, metadata}\n            msg_handler(msg);\n            return messages.next().then(processIteratorResult);\n          }\n          return messages.next().then(processIteratorResult);\n        })\n      }\n    }\n\n    JupyterCommManager.prototype.get_client_comm = function(plot_id, comm_id, msg_handler) {\n      if (comm_id in window.PyViz.comms) {\n        return window.PyViz.comms[comm_id];\n      } else if (window.comm_manager || ((window.Jupyter !== undefined) && (Jupyter.notebook.kernel != null))) {\n        var comm_manager = window.comm_manager || Jupyter.notebook.kernel.comm_manager;\n        var comm = comm_manager.new_comm(comm_id, {}, {}, {}, comm_id);\n        if (msg_handler) {\n          comm.on_msg(msg_handler);\n        }\n      } else if ((plot_id in window.PyViz.kernels) && (window.PyViz.kernels[plot_id])) {\n        var comm = window.PyViz.kernels[plot_id].connectToComm(comm_id);\n        comm.open();\n        if (msg_handler) {\n          comm.onMsg = msg_handler;\n        }\n      } else if (typeof google != 'undefined' && google.colab.kernel != null) {\n        var comm_promise = google.colab.kernel.comms.open(comm_id)\n        comm_promise.then((comm) => {\n          window.PyViz.comms[comm_id] = comm;\n          if (msg_handler) {\n            var messages = comm.messages[Symbol.asyncIterator]();\n            function processIteratorResult(result) {\n              var message = result.value;\n              var content = {data: message.data};\n              var metadata = message.metadata || {comm_id};\n              var msg = {content, metadata}\n              msg_handler(msg);\n              return messages.next().then(processIteratorResult);\n            }\n            return messages.next().then(processIteratorResult);\n          }\n        }) \n        var sendClosure = (data, metadata, buffers, disposeOnDone) => {\n          return comm_promise.then((comm) => {\n            comm.send(data, metadata, buffers, disposeOnDone);\n          });\n        };\n        var comm = {\n          send: sendClosure\n        };\n      }\n      window.PyViz.comms[comm_id] = comm;\n      return comm;\n    }\n    window.PyViz.comm_manager = new JupyterCommManager();\n    \n\n\nvar JS_MIME_TYPE = 'application/javascript';\nvar HTML_MIME_TYPE = 'text/html';\nvar EXEC_MIME_TYPE = 'application/vnd.holoviews_exec.v0+json';\nvar CLASS_NAME = 'output';\n\n/**\n * Render data to the DOM node\n */\nfunction render(props, node) {\n  var div = document.createElement(\"div\");\n  var script = document.createElement(\"script\");\n  node.appendChild(div);\n  node.appendChild(script);\n}\n\n/**\n * Handle when a new output is added\n */\nfunction handle_add_output(event, handle) {\n  var output_area = handle.output_area;\n  var output = handle.output;\n  if ((output.data == undefined) || (!output.data.hasOwnProperty(EXEC_MIME_TYPE))) {\n    return\n  }\n  var id = output.metadata[EXEC_MIME_TYPE][\"id\"];\n  var toinsert = output_area.element.find(\".\" + CLASS_NAME.split(' ')[0]);\n  if (id !== undefined) {\n    var nchildren = toinsert.length;\n    var html_node = toinsert[nchildren-1].children[0];\n    html_node.innerHTML = output.data[HTML_MIME_TYPE];\n    var scripts = [];\n    var nodelist = html_node.querySelectorAll(\"script\");\n    for (var i in nodelist) {\n      if (nodelist.hasOwnProperty(i)) {\n        scripts.push(nodelist[i])\n      }\n    }\n\n    scripts.forEach( function (oldScript) {\n      var newScript = document.createElement(\"script\");\n      var attrs = [];\n      var nodemap = oldScript.attributes;\n      for (var j in nodemap) {\n        if (nodemap.hasOwnProperty(j)) {\n          attrs.push(nodemap[j])\n        }\n      }\n      attrs.forEach(function(attr) { newScript.setAttribute(attr.name, attr.value) });\n      newScript.appendChild(document.createTextNode(oldScript.innerHTML));\n      oldScript.parentNode.replaceChild(newScript, oldScript);\n    });\n    if (JS_MIME_TYPE in output.data) {\n      toinsert[nchildren-1].children[1].textContent = output.data[JS_MIME_TYPE];\n    }\n    output_area._hv_plot_id = id;\n    if ((window.Bokeh !== undefined) && (id in Bokeh.index)) {\n      window.PyViz.plot_index[id] = Bokeh.index[id];\n    } else {\n      window.PyViz.plot_index[id] = null;\n    }\n  } else if (output.metadata[EXEC_MIME_TYPE][\"server_id\"] !== undefined) {\n    var bk_div = document.createElement(\"div\");\n    bk_div.innerHTML = output.data[HTML_MIME_TYPE];\n    var script_attrs = bk_div.children[0].attributes;\n    for (var i = 0; i < script_attrs.length; i++) {\n      toinsert[toinsert.length - 1].childNodes[1].setAttribute(script_attrs[i].name, script_attrs[i].value);\n    }\n    // store reference to server id on output_area\n    output_area._bokeh_server_id = output.metadata[EXEC_MIME_TYPE][\"server_id\"];\n  }\n}\n\n/**\n * Handle when an output is cleared or removed\n */\nfunction handle_clear_output(event, handle) {\n  var id = handle.cell.output_area._hv_plot_id;\n  var server_id = handle.cell.output_area._bokeh_server_id;\n  if (((id === undefined) || !(id in PyViz.plot_index)) && (server_id !== undefined)) { return; }\n  var comm = window.PyViz.comm_manager.get_client_comm(\"hv-extension-comm\", \"hv-extension-comm\", function () {});\n  if (server_id !== null) {\n    comm.send({event_type: 'server_delete', 'id': server_id});\n    return;\n  } else if (comm !== null) {\n    comm.send({event_type: 'delete', 'id': id});\n  }\n  delete PyViz.plot_index[id];\n  if ((window.Bokeh !== undefined) & (id in window.Bokeh.index)) {\n    var doc = window.Bokeh.index[id].model.document\n    doc.clear();\n    const i = window.Bokeh.documents.indexOf(doc);\n    if (i > -1) {\n      window.Bokeh.documents.splice(i, 1);\n    }\n  }\n}\n\n/**\n * Handle kernel restart event\n */\nfunction handle_kernel_cleanup(event, handle) {\n  delete PyViz.comms[\"hv-extension-comm\"];\n  window.PyViz.plot_index = {}\n}\n\n/**\n * Handle update_display_data messages\n */\nfunction handle_update_output(event, handle) {\n  handle_clear_output(event, {cell: {output_area: handle.output_area}})\n  handle_add_output(event, handle)\n}\n\nfunction register_renderer(events, OutputArea) {\n  function append_mime(data, metadata, element) {\n    // create a DOM node to render to\n    var toinsert = this.create_output_subarea(\n    metadata,\n    CLASS_NAME,\n    EXEC_MIME_TYPE\n    );\n    this.keyboard_manager.register_events(toinsert);\n    // Render to node\n    var props = {data: data, metadata: metadata[EXEC_MIME_TYPE]};\n    render(props, toinsert[0]);\n    element.append(toinsert);\n    return toinsert\n  }\n\n  events.on('output_added.OutputArea', handle_add_output);\n  events.on('output_updated.OutputArea', handle_update_output);\n  events.on('clear_output.CodeCell', handle_clear_output);\n  events.on('delete.Cell', handle_clear_output);\n  events.on('kernel_ready.Kernel', handle_kernel_cleanup);\n\n  OutputArea.prototype.register_mime_type(EXEC_MIME_TYPE, append_mime, {\n    safe: true,\n    index: 0\n  });\n}\n\nif (window.Jupyter !== undefined) {\n  try {\n    var events = require('base/js/events');\n    var OutputArea = require('notebook/js/outputarea').OutputArea;\n    if (OutputArea.prototype.mime_types().indexOf(EXEC_MIME_TYPE) == -1) {\n      register_renderer(events, OutputArea);\n    }\n  } catch(err) {\n  }\n}\n",
            "application/vnd.holoviews_load.v0+json": ""
          },
          "metadata": {},
          "output_type": "display_data"
        },
        {
          "data": {
            "application/vnd.holoviews_exec.v0+json": "",
            "text/html": [
              "<div id='p1011'>\n",
              "  <div id=\"cc6e1e1b-5ef6-4410-8fa3-ca75481db0a3\" data-root-id=\"p1011\" style=\"display: contents;\"></div>\n",
              "</div>\n",
              "<script type=\"application/javascript\">(function(root) {\n",
              "  var docs_json = {\"cbcc7c52-a2fc-43ad-912f-03638d3111a7\":{\"version\":\"3.5.2\",\"title\":\"Bokeh Application\",\"roots\":[{\"type\":\"object\",\"name\":\"panel.models.browser.BrowserInfo\",\"id\":\"p1011\"},{\"type\":\"object\",\"name\":\"panel.models.comm_manager.CommManager\",\"id\":\"p1012\",\"attributes\":{\"plot_id\":\"p1011\",\"comm_id\":\"62d135cb75af479fa1a84ff264dd16d4\",\"client_comm_id\":\"4027970e1d22482aa76d1a107bf8fd6d\"}}],\"defs\":[{\"type\":\"model\",\"name\":\"ReactiveHTML1\"},{\"type\":\"model\",\"name\":\"FlexBox1\",\"properties\":[{\"name\":\"align_content\",\"kind\":\"Any\",\"default\":\"flex-start\"},{\"name\":\"align_items\",\"kind\":\"Any\",\"default\":\"flex-start\"},{\"name\":\"flex_direction\",\"kind\":\"Any\",\"default\":\"row\"},{\"name\":\"flex_wrap\",\"kind\":\"Any\",\"default\":\"wrap\"},{\"name\":\"gap\",\"kind\":\"Any\",\"default\":\"\"},{\"name\":\"justify_content\",\"kind\":\"Any\",\"default\":\"flex-start\"}]},{\"type\":\"model\",\"name\":\"FloatPanel1\",\"properties\":[{\"name\":\"config\",\"kind\":\"Any\",\"default\":{\"type\":\"map\"}},{\"name\":\"contained\",\"kind\":\"Any\",\"default\":true},{\"name\":\"position\",\"kind\":\"Any\",\"default\":\"right-top\"},{\"name\":\"offsetx\",\"kind\":\"Any\",\"default\":null},{\"name\":\"offsety\",\"kind\":\"Any\",\"default\":null},{\"name\":\"theme\",\"kind\":\"Any\",\"default\":\"primary\"},{\"name\":\"status\",\"kind\":\"Any\",\"default\":\"normalized\"}]},{\"type\":\"model\",\"name\":\"GridStack1\",\"properties\":[{\"name\":\"mode\",\"kind\":\"Any\",\"default\":\"warn\"},{\"name\":\"ncols\",\"kind\":\"Any\",\"default\":null},{\"name\":\"nrows\",\"kind\":\"Any\",\"default\":null},{\"name\":\"allow_resize\",\"kind\":\"Any\",\"default\":true},{\"name\":\"allow_drag\",\"kind\":\"Any\",\"default\":true},{\"name\":\"state\",\"kind\":\"Any\",\"default\":[]}]},{\"type\":\"model\",\"name\":\"drag1\",\"properties\":[{\"name\":\"slider_width\",\"kind\":\"Any\",\"default\":5},{\"name\":\"slider_color\",\"kind\":\"Any\",\"default\":\"black\"},{\"name\":\"value\",\"kind\":\"Any\",\"default\":50}]},{\"type\":\"model\",\"name\":\"click1\",\"properties\":[{\"name\":\"terminal_output\",\"kind\":\"Any\",\"default\":\"\"},{\"name\":\"debug_name\",\"kind\":\"Any\",\"default\":\"\"},{\"name\":\"clears\",\"kind\":\"Any\",\"default\":0}]},{\"type\":\"model\",\"name\":\"FastWrapper1\",\"properties\":[{\"name\":\"object\",\"kind\":\"Any\",\"default\":null},{\"name\":\"style\",\"kind\":\"Any\",\"default\":null}]},{\"type\":\"model\",\"name\":\"NotificationAreaBase1\",\"properties\":[{\"name\":\"js_events\",\"kind\":\"Any\",\"default\":{\"type\":\"map\"}},{\"name\":\"position\",\"kind\":\"Any\",\"default\":\"bottom-right\"},{\"name\":\"_clear\",\"kind\":\"Any\",\"default\":0}]},{\"type\":\"model\",\"name\":\"NotificationArea1\",\"properties\":[{\"name\":\"js_events\",\"kind\":\"Any\",\"default\":{\"type\":\"map\"}},{\"name\":\"notifications\",\"kind\":\"Any\",\"default\":[]},{\"name\":\"position\",\"kind\":\"Any\",\"default\":\"bottom-right\"},{\"name\":\"_clear\",\"kind\":\"Any\",\"default\":0},{\"name\":\"types\",\"kind\":\"Any\",\"default\":[{\"type\":\"map\",\"entries\":[[\"type\",\"warning\"],[\"background\",\"#ffc107\"],[\"icon\",{\"type\":\"map\",\"entries\":[[\"className\",\"fas fa-exclamation-triangle\"],[\"tagName\",\"i\"],[\"color\",\"white\"]]}]]},{\"type\":\"map\",\"entries\":[[\"type\",\"info\"],[\"background\",\"#007bff\"],[\"icon\",{\"type\":\"map\",\"entries\":[[\"className\",\"fas fa-info-circle\"],[\"tagName\",\"i\"],[\"color\",\"white\"]]}]]}]}]},{\"type\":\"model\",\"name\":\"Notification\",\"properties\":[{\"name\":\"background\",\"kind\":\"Any\",\"default\":null},{\"name\":\"duration\",\"kind\":\"Any\",\"default\":3000},{\"name\":\"icon\",\"kind\":\"Any\",\"default\":null},{\"name\":\"message\",\"kind\":\"Any\",\"default\":\"\"},{\"name\":\"notification_type\",\"kind\":\"Any\",\"default\":null},{\"name\":\"_destroyed\",\"kind\":\"Any\",\"default\":false}]},{\"type\":\"model\",\"name\":\"TemplateActions1\",\"properties\":[{\"name\":\"open_modal\",\"kind\":\"Any\",\"default\":0},{\"name\":\"close_modal\",\"kind\":\"Any\",\"default\":0}]},{\"type\":\"model\",\"name\":\"BootstrapTemplateActions1\",\"properties\":[{\"name\":\"open_modal\",\"kind\":\"Any\",\"default\":0},{\"name\":\"close_modal\",\"kind\":\"Any\",\"default\":0}]},{\"type\":\"model\",\"name\":\"TemplateEditor1\",\"properties\":[{\"name\":\"layout\",\"kind\":\"Any\",\"default\":[]}]},{\"type\":\"model\",\"name\":\"MaterialTemplateActions1\",\"properties\":[{\"name\":\"open_modal\",\"kind\":\"Any\",\"default\":0},{\"name\":\"close_modal\",\"kind\":\"Any\",\"default\":0}]},{\"type\":\"model\",\"name\":\"ReactiveESM1\"},{\"type\":\"model\",\"name\":\"JSComponent1\"},{\"type\":\"model\",\"name\":\"ReactComponent1\"},{\"type\":\"model\",\"name\":\"AnyWidgetComponent1\"},{\"type\":\"model\",\"name\":\"request_value1\",\"properties\":[{\"name\":\"fill\",\"kind\":\"Any\",\"default\":\"none\"},{\"name\":\"_synced\",\"kind\":\"Any\",\"default\":null},{\"name\":\"_request_sync\",\"kind\":\"Any\",\"default\":0}]}]}};\n",
              "  var render_items = [{\"docid\":\"cbcc7c52-a2fc-43ad-912f-03638d3111a7\",\"roots\":{\"p1011\":\"cc6e1e1b-5ef6-4410-8fa3-ca75481db0a3\"},\"root_ids\":[\"p1011\"]}];\n",
              "  var docs = Object.values(docs_json)\n",
              "  if (!docs) {\n",
              "    return\n",
              "  }\n",
              "  const py_version = docs[0].version.replace('rc', '-rc.').replace('.dev', '-dev.')\n",
              "  async function embed_document(root) {\n",
              "    var Bokeh = get_bokeh(root)\n",
              "    await Bokeh.embed.embed_items_notebook(docs_json, render_items);\n",
              "    for (const render_item of render_items) {\n",
              "      for (const root_id of render_item.root_ids) {\n",
              "\tconst id_el = document.getElementById(root_id)\n",
              "\tif (id_el.children.length && id_el.children[0].hasAttribute('data-root-id')) {\n",
              "\t  const root_el = id_el.children[0]\n",
              "\t  root_el.id = root_el.id + '-rendered'\n",
              "\t  for (const child of root_el.children) {\n",
              "            // Ensure JupyterLab does not capture keyboard shortcuts\n",
              "            // see: https://jupyterlab.readthedocs.io/en/4.1.x/extension/notebook.html#keyboard-interaction-model\n",
              "\t    child.setAttribute('data-lm-suppress-shortcuts', 'true')\n",
              "\t  }\n",
              "\t}\n",
              "      }\n",
              "    }\n",
              "  }\n",
              "  function get_bokeh(root) {\n",
              "    if (root.Bokeh === undefined) {\n",
              "      return null\n",
              "    } else if (root.Bokeh.version !== py_version) {\n",
              "      if (root.Bokeh.versions === undefined || !root.Bokeh.versions.has(py_version)) {\n",
              "\treturn null\n",
              "      }\n",
              "      return root.Bokeh.versions.get(py_version);\n",
              "    } else if (root.Bokeh.version === py_version) {\n",
              "      return root.Bokeh\n",
              "    }\n",
              "    return null\n",
              "  }\n",
              "  function is_loaded(root) {\n",
              "    var Bokeh = get_bokeh(root)\n",
              "    return (Bokeh != null && Bokeh.Panel !== undefined)\n",
              "  }\n",
              "  if (is_loaded(root)) {\n",
              "    embed_document(root);\n",
              "  } else {\n",
              "    var attempts = 0;\n",
              "    var timer = setInterval(function(root) {\n",
              "      if (is_loaded(root)) {\n",
              "        clearInterval(timer);\n",
              "        embed_document(root);\n",
              "      } else if (document.readyState == \"complete\") {\n",
              "        attempts++;\n",
              "        if (attempts > 200) {\n",
              "          clearInterval(timer);\n",
              "\t  var Bokeh = get_bokeh(root)\n",
              "\t  if (Bokeh == null || Bokeh.Panel == null) {\n",
              "            console.warn(\"Panel: ERROR: Unable to run Panel code because Bokeh or Panel library is missing\");\n",
              "\t  } else {\n",
              "\t    console.warn(\"Panel: WARNING: Attempting to render but not all required libraries could be resolved.\")\n",
              "\t    embed_document(root)\n",
              "\t  }\n",
              "        }\n",
              "      }\n",
              "    }, 25, root)\n",
              "  }\n",
              "})(window);</script>"
            ]
          },
          "metadata": {
            "application/vnd.holoviews_exec.v0+json": {
              "id": "p1011"
            }
          },
          "output_type": "display_data"
        },
        {
          "data": {
            "text/html": [
              "<script type=\"esms-options\">{\"shimMode\": true}</script><style>*[data-root-id],\n",
              "*[data-root-id] > * {\n",
              "  box-sizing: border-box;\n",
              "  font-family: var(--jp-ui-font-family);\n",
              "  font-size: var(--jp-ui-font-size1);\n",
              "  color: var(--vscode-editor-foreground, var(--jp-ui-font-color1));\n",
              "}\n",
              "\n",
              "/* Override VSCode background color */\n",
              ".cell-output-ipywidget-background:has(\n",
              "    > .cell-output-ipywidget-background > .lm-Widget > *[data-root-id]\n",
              "  ),\n",
              ".cell-output-ipywidget-background:has(> .lm-Widget > *[data-root-id]) {\n",
              "  background-color: transparent !important;\n",
              "}\n",
              "</style>"
            ]
          },
          "metadata": {},
          "output_type": "display_data"
        },
        {
          "data": {
            "application/javascript": "(function(root) {\n  function now() {\n    return new Date();\n  }\n\n  const force = false;\n  const py_version = '3.5.2'.replace('rc', '-rc.').replace('.dev', '-dev.');\n  const reloading = true;\n  const Bokeh = root.Bokeh;\n\n  // Set a timeout for this load but only if we are not already initializing\n  if (typeof (root._bokeh_timeout) === \"undefined\" || (force || !root._bokeh_is_initializing)) {\n    root._bokeh_timeout = Date.now() + 5000;\n    root._bokeh_failed_load = false;\n  }\n\n  function run_callbacks() {\n    try {\n      root._bokeh_onload_callbacks.forEach(function(callback) {\n        if (callback != null)\n          callback();\n      });\n    } finally {\n      delete root._bokeh_onload_callbacks;\n    }\n    console.debug(\"Bokeh: all callbacks have finished\");\n  }\n\n  function load_libs(css_urls, js_urls, js_modules, js_exports, callback) {\n    if (css_urls == null) css_urls = [];\n    if (js_urls == null) js_urls = [];\n    if (js_modules == null) js_modules = [];\n    if (js_exports == null) js_exports = {};\n\n    root._bokeh_onload_callbacks.push(callback);\n\n    if (root._bokeh_is_loading > 0) {\n      // Don't load bokeh if it is still initializing\n      console.debug(\"Bokeh: BokehJS is being loaded, scheduling callback at\", now());\n      return null;\n    } else if (js_urls.length === 0 && js_modules.length === 0 && Object.keys(js_exports).length === 0) {\n      // There is nothing to load\n      run_callbacks();\n      return null;\n    }\n\n    function on_load() {\n      root._bokeh_is_loading--;\n      if (root._bokeh_is_loading === 0) {\n        console.debug(\"Bokeh: all BokehJS libraries/stylesheets loaded\");\n        run_callbacks()\n      }\n    }\n    window._bokeh_on_load = on_load\n\n    function on_error(e) {\n      const src_el = e.srcElement\n      console.error(\"failed to load \" + (src_el.href || src_el.src));\n    }\n\n    const skip = [];\n    if (window.requirejs) {\n      window.requirejs.config({'packages': {}, 'paths': {}, 'shim': {}});\n      root._bokeh_is_loading = css_urls.length + 0;\n    } else {\n      root._bokeh_is_loading = css_urls.length + js_urls.length + js_modules.length + Object.keys(js_exports).length;\n    }\n\n    const existing_stylesheets = []\n    const links = document.getElementsByTagName('link')\n    for (let i = 0; i < links.length; i++) {\n      const link = links[i]\n      if (link.href != null) {\n        existing_stylesheets.push(link.href)\n      }\n    }\n    for (let i = 0; i < css_urls.length; i++) {\n      const url = css_urls[i];\n      const escaped = encodeURI(url)\n      if (existing_stylesheets.indexOf(escaped) !== -1) {\n        on_load()\n        continue;\n      }\n      const element = document.createElement(\"link\");\n      element.onload = on_load;\n      element.onerror = on_error;\n      element.rel = \"stylesheet\";\n      element.type = \"text/css\";\n      element.href = url;\n      console.debug(\"Bokeh: injecting link tag for BokehJS stylesheet: \", url);\n      document.body.appendChild(element);\n    }    var existing_scripts = []\n    const scripts = document.getElementsByTagName('script')\n    for (let i = 0; i < scripts.length; i++) {\n      var script = scripts[i]\n      if (script.src != null) {\n        existing_scripts.push(script.src)\n      }\n    }\n    for (let i = 0; i < js_urls.length; i++) {\n      const url = js_urls[i];\n      const escaped = encodeURI(url)\n      if (skip.indexOf(escaped) !== -1 || existing_scripts.indexOf(escaped) !== -1) {\n        if (!window.requirejs) {\n          on_load();\n        }\n        continue;\n      }\n      const element = document.createElement('script');\n      element.onload = on_load;\n      element.onerror = on_error;\n      element.async = false;\n      element.src = url;\n      console.debug(\"Bokeh: injecting script tag for BokehJS library: \", url);\n      document.head.appendChild(element);\n    }\n    for (let i = 0; i < js_modules.length; i++) {\n      const url = js_modules[i];\n      const escaped = encodeURI(url)\n      if (skip.indexOf(escaped) !== -1 || existing_scripts.indexOf(escaped) !== -1) {\n        if (!window.requirejs) {\n          on_load();\n        }\n        continue;\n      }\n      var element = document.createElement('script');\n      element.onload = on_load;\n      element.onerror = on_error;\n      element.async = false;\n      element.src = url;\n      element.type = \"module\";\n      console.debug(\"Bokeh: injecting script tag for BokehJS library: \", url);\n      document.head.appendChild(element);\n    }\n    for (const name in js_exports) {\n      const url = js_exports[name];\n      const escaped = encodeURI(url)\n      if (skip.indexOf(escaped) >= 0 || root[name] != null) {\n        if (!window.requirejs) {\n          on_load();\n        }\n        continue;\n      }\n      var element = document.createElement('script');\n      element.onerror = on_error;\n      element.async = false;\n      element.type = \"module\";\n      console.debug(\"Bokeh: injecting script tag for BokehJS library: \", url);\n      element.textContent = `\n      import ${name} from \"${url}\"\n      window.${name} = ${name}\n      window._bokeh_on_load()\n      `\n      document.head.appendChild(element);\n    }\n    if (!js_urls.length && !js_modules.length) {\n      on_load()\n    }\n  };\n\n  function inject_raw_css(css) {\n    const element = document.createElement(\"style\");\n    element.appendChild(document.createTextNode(css));\n    document.body.appendChild(element);\n  }\n\n  const js_urls = [\"https://cdn.holoviz.org/panel/1.5.1/dist/bundled/reactiveesm/es-module-shims@^1.10.0/dist/es-module-shims.min.js\", \"https://cdn.jsdelivr.net/npm/@holoviz/geoviews@1.13.0/dist/geoviews.min.js\"];\n  const js_modules = [];\n  const js_exports = {};\n  const css_urls = [];\n  const inline_js = [    function(Bokeh) {\n      Bokeh.set_log_level(\"info\");\n    },\nfunction(Bokeh) {} // ensure no trailing comma for IE\n  ];\n\n  function run_inline_js() {\n    if ((root.Bokeh !== undefined) || (force === true)) {\n      for (let i = 0; i < inline_js.length; i++) {\n        try {\n          inline_js[i].call(root, root.Bokeh);\n        } catch(e) {\n          if (!reloading) {\n            throw e;\n          }\n        }\n      }\n      // Cache old bokeh versions\n      if (Bokeh != undefined && !reloading) {\n        var NewBokeh = root.Bokeh;\n        if (Bokeh.versions === undefined) {\n          Bokeh.versions = new Map();\n        }\n        if (NewBokeh.version !== Bokeh.version) {\n          Bokeh.versions.set(NewBokeh.version, NewBokeh)\n        }\n        root.Bokeh = Bokeh;\n      }\n    } else if (Date.now() < root._bokeh_timeout) {\n      setTimeout(run_inline_js, 100);\n    } else if (!root._bokeh_failed_load) {\n      console.log(\"Bokeh: BokehJS failed to load within specified timeout.\");\n      root._bokeh_failed_load = true;\n    }\n    root._bokeh_is_initializing = false\n  }\n\n  function load_or_wait() {\n    // Implement a backoff loop that tries to ensure we do not load multiple\n    // versions of Bokeh and its dependencies at the same time.\n    // In recent versions we use the root._bokeh_is_initializing flag\n    // to determine whether there is an ongoing attempt to initialize\n    // bokeh, however for backward compatibility we also try to ensure\n    // that we do not start loading a newer (Panel>=1.0 and Bokeh>3) version\n    // before older versions are fully initialized.\n    if (root._bokeh_is_initializing && Date.now() > root._bokeh_timeout) {\n      // If the timeout and bokeh was not successfully loaded we reset\n      // everything and try loading again\n      root._bokeh_timeout = Date.now() + 5000;\n      root._bokeh_is_initializing = false;\n      root._bokeh_onload_callbacks = undefined;\n      root._bokeh_is_loading = 0\n      console.log(\"Bokeh: BokehJS was loaded multiple times but one version failed to initialize.\");\n      load_or_wait();\n    } else if (root._bokeh_is_initializing || (typeof root._bokeh_is_initializing === \"undefined\" && root._bokeh_onload_callbacks !== undefined)) {\n      setTimeout(load_or_wait, 100);\n    } else {\n      root._bokeh_is_initializing = true\n      root._bokeh_onload_callbacks = []\n      const bokeh_loaded = root.Bokeh != null && (root.Bokeh.version === py_version || (root.Bokeh.versions !== undefined && root.Bokeh.versions.has(py_version)));\n      if (!reloading && !bokeh_loaded) {\n        if (root.Bokeh) {\n          root.Bokeh = undefined;\n        }\n        console.debug(\"Bokeh: BokehJS not loaded, scheduling load and callback at\", now());\n      }\n      load_libs(css_urls, js_urls, js_modules, js_exports, function() {\n        console.debug(\"Bokeh: BokehJS plotting callback run at\", now());\n        run_inline_js();\n      });\n    }\n  }\n  // Give older versions of the autoload script a head-start to ensure\n  // they initialize before we start loading newer version.\n  setTimeout(load_or_wait, 100)\n}(window));",
            "application/vnd.holoviews_load.v0+json": ""
          },
          "metadata": {},
          "output_type": "display_data"
        },
        {
          "data": {
            "application/javascript": "\nif ((window.PyViz === undefined) || (window.PyViz instanceof HTMLElement)) {\n  window.PyViz = {comms: {}, comm_status:{}, kernels:{}, receivers: {}, plot_index: []}\n}\n\n\n    function JupyterCommManager() {\n    }\n\n    JupyterCommManager.prototype.register_target = function(plot_id, comm_id, msg_handler) {\n      if (window.comm_manager || ((window.Jupyter !== undefined) && (Jupyter.notebook.kernel != null))) {\n        var comm_manager = window.comm_manager || Jupyter.notebook.kernel.comm_manager;\n        comm_manager.register_target(comm_id, function(comm) {\n          comm.on_msg(msg_handler);\n        });\n      } else if ((plot_id in window.PyViz.kernels) && (window.PyViz.kernels[plot_id])) {\n        window.PyViz.kernels[plot_id].registerCommTarget(comm_id, function(comm) {\n          comm.onMsg = msg_handler;\n        });\n      } else if (typeof google != 'undefined' && google.colab.kernel != null) {\n        google.colab.kernel.comms.registerTarget(comm_id, (comm) => {\n          var messages = comm.messages[Symbol.asyncIterator]();\n          function processIteratorResult(result) {\n            var message = result.value;\n            console.log(message)\n            var content = {data: message.data, comm_id};\n            var buffers = []\n            for (var buffer of message.buffers || []) {\n              buffers.push(new DataView(buffer))\n            }\n            var metadata = message.metadata || {};\n            var msg = {content, buffers, metadata}\n            msg_handler(msg);\n            return messages.next().then(processIteratorResult);\n          }\n          return messages.next().then(processIteratorResult);\n        })\n      }\n    }\n\n    JupyterCommManager.prototype.get_client_comm = function(plot_id, comm_id, msg_handler) {\n      if (comm_id in window.PyViz.comms) {\n        return window.PyViz.comms[comm_id];\n      } else if (window.comm_manager || ((window.Jupyter !== undefined) && (Jupyter.notebook.kernel != null))) {\n        var comm_manager = window.comm_manager || Jupyter.notebook.kernel.comm_manager;\n        var comm = comm_manager.new_comm(comm_id, {}, {}, {}, comm_id);\n        if (msg_handler) {\n          comm.on_msg(msg_handler);\n        }\n      } else if ((plot_id in window.PyViz.kernels) && (window.PyViz.kernels[plot_id])) {\n        var comm = window.PyViz.kernels[plot_id].connectToComm(comm_id);\n        comm.open();\n        if (msg_handler) {\n          comm.onMsg = msg_handler;\n        }\n      } else if (typeof google != 'undefined' && google.colab.kernel != null) {\n        var comm_promise = google.colab.kernel.comms.open(comm_id)\n        comm_promise.then((comm) => {\n          window.PyViz.comms[comm_id] = comm;\n          if (msg_handler) {\n            var messages = comm.messages[Symbol.asyncIterator]();\n            function processIteratorResult(result) {\n              var message = result.value;\n              var content = {data: message.data};\n              var metadata = message.metadata || {comm_id};\n              var msg = {content, metadata}\n              msg_handler(msg);\n              return messages.next().then(processIteratorResult);\n            }\n            return messages.next().then(processIteratorResult);\n          }\n        }) \n        var sendClosure = (data, metadata, buffers, disposeOnDone) => {\n          return comm_promise.then((comm) => {\n            comm.send(data, metadata, buffers, disposeOnDone);\n          });\n        };\n        var comm = {\n          send: sendClosure\n        };\n      }\n      window.PyViz.comms[comm_id] = comm;\n      return comm;\n    }\n    window.PyViz.comm_manager = new JupyterCommManager();\n    \n\n\nvar JS_MIME_TYPE = 'application/javascript';\nvar HTML_MIME_TYPE = 'text/html';\nvar EXEC_MIME_TYPE = 'application/vnd.holoviews_exec.v0+json';\nvar CLASS_NAME = 'output';\n\n/**\n * Render data to the DOM node\n */\nfunction render(props, node) {\n  var div = document.createElement(\"div\");\n  var script = document.createElement(\"script\");\n  node.appendChild(div);\n  node.appendChild(script);\n}\n\n/**\n * Handle when a new output is added\n */\nfunction handle_add_output(event, handle) {\n  var output_area = handle.output_area;\n  var output = handle.output;\n  if ((output.data == undefined) || (!output.data.hasOwnProperty(EXEC_MIME_TYPE))) {\n    return\n  }\n  var id = output.metadata[EXEC_MIME_TYPE][\"id\"];\n  var toinsert = output_area.element.find(\".\" + CLASS_NAME.split(' ')[0]);\n  if (id !== undefined) {\n    var nchildren = toinsert.length;\n    var html_node = toinsert[nchildren-1].children[0];\n    html_node.innerHTML = output.data[HTML_MIME_TYPE];\n    var scripts = [];\n    var nodelist = html_node.querySelectorAll(\"script\");\n    for (var i in nodelist) {\n      if (nodelist.hasOwnProperty(i)) {\n        scripts.push(nodelist[i])\n      }\n    }\n\n    scripts.forEach( function (oldScript) {\n      var newScript = document.createElement(\"script\");\n      var attrs = [];\n      var nodemap = oldScript.attributes;\n      for (var j in nodemap) {\n        if (nodemap.hasOwnProperty(j)) {\n          attrs.push(nodemap[j])\n        }\n      }\n      attrs.forEach(function(attr) { newScript.setAttribute(attr.name, attr.value) });\n      newScript.appendChild(document.createTextNode(oldScript.innerHTML));\n      oldScript.parentNode.replaceChild(newScript, oldScript);\n    });\n    if (JS_MIME_TYPE in output.data) {\n      toinsert[nchildren-1].children[1].textContent = output.data[JS_MIME_TYPE];\n    }\n    output_area._hv_plot_id = id;\n    if ((window.Bokeh !== undefined) && (id in Bokeh.index)) {\n      window.PyViz.plot_index[id] = Bokeh.index[id];\n    } else {\n      window.PyViz.plot_index[id] = null;\n    }\n  } else if (output.metadata[EXEC_MIME_TYPE][\"server_id\"] !== undefined) {\n    var bk_div = document.createElement(\"div\");\n    bk_div.innerHTML = output.data[HTML_MIME_TYPE];\n    var script_attrs = bk_div.children[0].attributes;\n    for (var i = 0; i < script_attrs.length; i++) {\n      toinsert[toinsert.length - 1].childNodes[1].setAttribute(script_attrs[i].name, script_attrs[i].value);\n    }\n    // store reference to server id on output_area\n    output_area._bokeh_server_id = output.metadata[EXEC_MIME_TYPE][\"server_id\"];\n  }\n}\n\n/**\n * Handle when an output is cleared or removed\n */\nfunction handle_clear_output(event, handle) {\n  var id = handle.cell.output_area._hv_plot_id;\n  var server_id = handle.cell.output_area._bokeh_server_id;\n  if (((id === undefined) || !(id in PyViz.plot_index)) && (server_id !== undefined)) { return; }\n  var comm = window.PyViz.comm_manager.get_client_comm(\"hv-extension-comm\", \"hv-extension-comm\", function () {});\n  if (server_id !== null) {\n    comm.send({event_type: 'server_delete', 'id': server_id});\n    return;\n  } else if (comm !== null) {\n    comm.send({event_type: 'delete', 'id': id});\n  }\n  delete PyViz.plot_index[id];\n  if ((window.Bokeh !== undefined) & (id in window.Bokeh.index)) {\n    var doc = window.Bokeh.index[id].model.document\n    doc.clear();\n    const i = window.Bokeh.documents.indexOf(doc);\n    if (i > -1) {\n      window.Bokeh.documents.splice(i, 1);\n    }\n  }\n}\n\n/**\n * Handle kernel restart event\n */\nfunction handle_kernel_cleanup(event, handle) {\n  delete PyViz.comms[\"hv-extension-comm\"];\n  window.PyViz.plot_index = {}\n}\n\n/**\n * Handle update_display_data messages\n */\nfunction handle_update_output(event, handle) {\n  handle_clear_output(event, {cell: {output_area: handle.output_area}})\n  handle_add_output(event, handle)\n}\n\nfunction register_renderer(events, OutputArea) {\n  function append_mime(data, metadata, element) {\n    // create a DOM node to render to\n    var toinsert = this.create_output_subarea(\n    metadata,\n    CLASS_NAME,\n    EXEC_MIME_TYPE\n    );\n    this.keyboard_manager.register_events(toinsert);\n    // Render to node\n    var props = {data: data, metadata: metadata[EXEC_MIME_TYPE]};\n    render(props, toinsert[0]);\n    element.append(toinsert);\n    return toinsert\n  }\n\n  events.on('output_added.OutputArea', handle_add_output);\n  events.on('output_updated.OutputArea', handle_update_output);\n  events.on('clear_output.CodeCell', handle_clear_output);\n  events.on('delete.Cell', handle_clear_output);\n  events.on('kernel_ready.Kernel', handle_kernel_cleanup);\n\n  OutputArea.prototype.register_mime_type(EXEC_MIME_TYPE, append_mime, {\n    safe: true,\n    index: 0\n  });\n}\n\nif (window.Jupyter !== undefined) {\n  try {\n    var events = require('base/js/events');\n    var OutputArea = require('notebook/js/outputarea').OutputArea;\n    if (OutputArea.prototype.mime_types().indexOf(EXEC_MIME_TYPE) == -1) {\n      register_renderer(events, OutputArea);\n    }\n  } catch(err) {\n  }\n}\n",
            "application/vnd.holoviews_load.v0+json": ""
          },
          "metadata": {},
          "output_type": "display_data"
        }
      ],
      "source": [
        "import warnings\n",
        "warnings.simplefilter(action='ignore', category=FutureWarning)\n",
        "\n",
        "import os\n",
        "import pathlib\n",
        "import time\n",
        "import zipfile\n",
        "from getpass import getpass\n",
        "from glob import glob\n",
        "import pandas as pd\n",
        "import geopandas as gpd\n",
        "\n",
        "import pygbif.occurrences as occ\n",
        "import pygbif.species as species\n",
        "\n",
        "# get month names\n",
        "import calendar\n",
        "\n",
        "# libraries for Dynamic mapping\n",
        "import geoviews as gv\n",
        "import hvplot.pandas\n",
        "import cartopy.crs as ccrs\n",
        "import panel as pn\n",
        "pn.extension()"
      ]
    },
    {
      "cell_type": "markdown",
      "id": "c91260a6-877a-4a6a-825b-6bdf9dcb0a6a",
      "metadata": {},
      "source": [
        "#### Analysis"
      ]
    },
    {
      "cell_type": "code",
      "execution_count": 3,
      "id": "9cf408e1",
      "metadata": {
        "highlight": true
      },
      "outputs": [],
      "source": [
        "# Create data directory in the home folder\n",
        "data_dir = os.path.join(\n",
        "    # Home directory\n",
        "    pathlib.Path.home(),\n",
        "    # Earth analytics data directory\n",
        "    'earth-analytics',\n",
        "    'data',\n",
        "    # Project directory\n",
        "    'species-distribution',\n",
        ")\n",
        "os.makedirs(data_dir, exist_ok=True)\n",
        "\n",
        "# Define the directory name for GBIF data\n",
        "gbif_dir = os.path.join(data_dir, 'willow-flycatcher', '2023')"
      ]
    },
    {
      "cell_type": "code",
      "execution_count": 4,
      "id": "da01e8ba",
      "metadata": {},
      "outputs": [
        {
          "data": {
            "text/plain": [
              "'/home/jovyan/earth-analytics/data/species-distribution/willow-flycatcher/2023'"
            ]
          },
          "execution_count": 4,
          "metadata": {},
          "output_type": "execute_result"
        }
      ],
      "source": [
        "gbif_dir"
      ]
    },
    {
      "cell_type": "markdown",
      "id": "2583a48e-621d-42a3-83ca-503c05db41bc",
      "metadata": {},
      "source": [
        "##### Access GBIF"
      ]
    },
    {
      "cell_type": "code",
      "execution_count": 5,
      "id": "989f737e",
      "metadata": {},
      "outputs": [],
      "source": [
        "reset_credentials = False\n",
        "# GBIF needs a username, password, and email\n",
        "credentials = dict(\n",
        "    GBIF_USER=(input, ''),\n",
        "    GBIF_PWD=(getpass, ''),\n",
        "    GBIF_EMAIL=(input, ''),\n",
        ")\n",
        "\n",
        "for env_variable, (prompt_func, prompt_text) in credentials.items():\n",
        "    # Delete credential from environment if requested\n",
        "    if reset_credentials and (env_variable in os.environ):\n",
        "        os.environ.pop(env_variable)\n",
        "    # Ask for credential and save to environment\n",
        "    if not env_variable in os.environ:\n",
        "        os.environ[env_variable] = prompt_func(prompt_text)\n"
      ]
    },
    {
      "cell_type": "code",
      "execution_count": 6,
      "id": "90a15d5c",
      "metadata": {
        "highlight": true
      },
      "outputs": [
        {
          "data": {
            "text/plain": [
              "('Empidonax traillii', 2482786)"
            ]
          },
          "execution_count": 6,
          "metadata": {},
          "output_type": "execute_result"
        }
      ],
      "source": [
        "# Query species\n",
        "species_info = species.name_lookup('Empidonax traillii', rank='SPECIES')\n",
        "\n",
        "# Get the first result\n",
        "first_result = species_info['results'][0]\n",
        "\n",
        "# Get the species key (nubKey)\n",
        "species_key = first_result['nubKey']\n",
        "\n",
        "# Check the result\n",
        "first_result['species'], species_key"
      ]
    },
    {
      "cell_type": "markdown",
      "id": "28bfdb8b-fb88-4c48-befd-ca078f5e2c0d",
      "metadata": {},
      "source": [
        "##### Download data from GBIF"
      ]
    },
    {
      "cell_type": "code",
      "execution_count": 7,
      "id": "0bdc80c5",
      "metadata": {
        "highlight": true
      },
      "outputs": [],
      "source": [
        "# Only download once\n",
        "gbif_pattern = os.path.join(gbif_dir, '*.csv')\n",
        "if not glob(gbif_pattern):\n",
        "    # Submit query to GBIF\n",
        "    gbif_query = occ.download([\n",
        "        \"speciesKey = 2482786\",\n",
        "        \"year = 2023\",\n",
        "        \"hasCoordinate = TRUE\",\n",
        "    ],\n",
        "    user=credentials['GBIF_USER'][1], \n",
        "    pwd=credentials['GBIF_PWD'][1], \n",
        "    email=credentials['GBIF_EMAIL'][1])\n",
        "\n",
        "    # Only download once\n",
        "    if not 'GBIF_DOWNLOAD_KEY' in os.environ:\n",
        "        os.environ['GBIF_DOWNLOAD_KEY'] = gbif_query[0]\n",
        "\n",
        "        # Wait for the download to build\n",
        "        wait = occ.download_meta(os.environ['GBIF_DOWNLOAD_KEY'])['status'] \n",
        "        while not wait=='SUCCEEDED':\n",
        "            wait = occ.download_meta(os.environ['GBIF_DOWNLOAD_KEY'])['status'] \n",
        "            time.sleep(5)\n",
        "\n",
        "        # Download GBIF data\n",
        "        download_info = occ.download_get(\n",
        "            os.environ['GBIF_DOWNLOAD_KEY'], \n",
        "            path=data_dir)\n",
        "\n",
        "        # Unzip GBIF data\n",
        "        with zipfile.ZipFile(download_info['path']) as download_zip:\n",
        "            download_zip.extractall(path=gbif_dir)\n",
        "\n",
        "# Find the extracted .csv file path\n",
        "gbif_path = glob(gbif_pattern)[0]"
      ]
    },
    {
      "cell_type": "code",
      "execution_count": 8,
      "id": "b7ecd5a7",
      "metadata": {},
      "outputs": [
        {
          "data": {
            "text/plain": [
              "'/home/jovyan/earth-analytics/data/species-distribution/willow-flycatcher/2023/0001229-241007104925546.csv'"
            ]
          },
          "execution_count": 8,
          "metadata": {},
          "output_type": "execute_result"
        }
      ],
      "source": [
        "gbif_path"
      ]
    },
    {
      "cell_type": "markdown",
      "id": "90ed1038-74bd-4a87-a50f-1b0abc216277",
      "metadata": {},
      "source": [
        "##### Load the GBIF data into Python"
      ]
    },
    {
      "cell_type": "code",
      "execution_count": 9,
      "id": "94999229",
      "metadata": {},
      "outputs": [
        {
          "name": "stdout",
          "output_type": "stream",
          "text": [
            "gbifID\tdatasetKey\toccurrenceID\tkingdom\tphylum\tclass\torder\tfamily\tgenus\tspecies\tinfraspecificEpithet\ttaxonRank\tscientificName\tverbatimScientificName\tverbatimScientificNameAuthorship\tcountryCode\tlocality\tstateProvince\toccurrenceStatus\tindividualCount\tpublishingOrgKey\tdecimalLatitude\tdecimalLongitude\tcoordinateUncertaintyInMeters\tcoordinatePrecision\televation\televationAccuracy\tdepth\tdepthAccuracy\teventDate\tday\tmonth\tyear\ttaxonKey\tspeciesKey\tbasisOfRecord\tinstitutionCode\tcollectionCode\tcatalogNumber\trecordNumber\tidentifiedBy\tdateIdentified\tlicense\trightsHolder\trecordedBy\ttypeStatus\testablishmentMeans\tlastInterpreted\tmediaType\tissue\n",
            "4846727844\t50c9509d-22c7-4a22-a47d-8c48425ef4a7\thttps://www.inaturalist.org/observations/176130744\tAnimalia\tChordata\tAves\tPasseriformes\tTyrannidae\tEmpidonax\tEmpidonax traillii\t\tSPECIES\tEmpidonax traillii (Audubon, 1828)\tEmpidonax traillii\t\tUS\t\tIllinois\tPRESENT\t\t28eb1a3f-1c15-4a95-931a-4af90ecb574d\t41.840597\t-88.075757\t61.0\t\t\t\t\t\t2023-08-01T09:28\t1\t8\t2023\t2482786\t2482786\tHUMAN_OBSERVATION\tiNaturalist\tObservations\t176130744\t\tvogelbild\t2023-08-01T16:44:37\tCC_BY_NC_4_0\tvogelbild\tvogelbild\t\t\t2024-10-05T09:15:46.792Z\tStillImage\tCOORDINATE_ROUNDED;CONTINENT_DERIVED_FROM_COORDINATES;TAXON_MATCH_TAXON_ID_IGNORED\n"
          ]
        }
      ],
      "source": [
        "!head -n 2 $gbif_path "
      ]
    },
    {
      "cell_type": "markdown",
      "id": "975b0e0c",
      "metadata": {},
      "source": [
        "##### Year 2023"
      ]
    },
    {
      "cell_type": "code",
      "execution_count": 10,
      "id": "88e56065",
      "metadata": {
        "highlight": true
      },
      "outputs": [
        {
          "data": {
            "text/html": [
              "<div>\n",
              "<style scoped>\n",
              "    .dataframe tbody tr th:only-of-type {\n",
              "        vertical-align: middle;\n",
              "    }\n",
              "\n",
              "    .dataframe tbody tr th {\n",
              "        vertical-align: top;\n",
              "    }\n",
              "\n",
              "    .dataframe thead th {\n",
              "        text-align: right;\n",
              "    }\n",
              "</style>\n",
              "<table border=\"1\" class=\"dataframe\">\n",
              "  <thead>\n",
              "    <tr style=\"text-align: right;\">\n",
              "      <th></th>\n",
              "      <th>countryCode</th>\n",
              "      <th>stateProvince</th>\n",
              "      <th>decimalLatitude</th>\n",
              "      <th>decimalLongitude</th>\n",
              "      <th>month</th>\n",
              "      <th>year</th>\n",
              "    </tr>\n",
              "    <tr>\n",
              "      <th>gbifID</th>\n",
              "      <th></th>\n",
              "      <th></th>\n",
              "      <th></th>\n",
              "      <th></th>\n",
              "      <th></th>\n",
              "      <th></th>\n",
              "    </tr>\n",
              "  </thead>\n",
              "  <tbody>\n",
              "    <tr>\n",
              "      <th>4846727844</th>\n",
              "      <td>US</td>\n",
              "      <td>Illinois</td>\n",
              "      <td>41.840597</td>\n",
              "      <td>-88.075757</td>\n",
              "      <td>8</td>\n",
              "      <td>2023</td>\n",
              "    </tr>\n",
              "    <tr>\n",
              "      <th>4458666436</th>\n",
              "      <td>CA</td>\n",
              "      <td>Alberta</td>\n",
              "      <td>51.170300</td>\n",
              "      <td>-115.593645</td>\n",
              "      <td>6</td>\n",
              "      <td>2023</td>\n",
              "    </tr>\n",
              "  </tbody>\n",
              "</table>\n",
              "</div>"
            ],
            "text/plain": [
              "           countryCode stateProvince  decimalLatitude  decimalLongitude  \\\n",
              "gbifID                                                                    \n",
              "4846727844          US      Illinois        41.840597        -88.075757   \n",
              "4458666436          CA       Alberta        51.170300       -115.593645   \n",
              "\n",
              "            month  year  \n",
              "gbifID                   \n",
              "4846727844      8  2023  \n",
              "4458666436      6  2023  "
            ]
          },
          "execution_count": 10,
          "metadata": {},
          "output_type": "execute_result"
        }
      ],
      "source": [
        "# Load the GBIF data\n",
        "gbif_df_2023 = pd.read_csv(\n",
        "    gbif_path, \n",
        "    delimiter='\\t',\n",
        "    index_col='gbifID',\n",
        "    on_bad_lines='skip',\n",
        "    usecols=['gbifID', 'month', 'year', 'countryCode', 'stateProvince', 'decimalLatitude', 'decimalLongitude']\n",
        ")\n",
        "\n",
        "gbif_df_2023.head(2)"
      ]
    },
    {
      "cell_type": "markdown",
      "id": "d08b0bc0",
      "metadata": {},
      "source": [
        "##### Breeding locations (high to low latitude)"
      ]
    },
    {
      "cell_type": "code",
      "execution_count": 11,
      "id": "6f596d3e",
      "metadata": {},
      "outputs": [
        {
          "data": {
            "text/plain": [
              "countryCode  stateProvince     decimalLatitude  decimalLongitude  month  year\n",
              "CA           Ontario           43.628270        -79.32917         5      2023    160\n",
              "             British Columbia  49.234290        -122.79964        7      2023    142\n",
              "                               48.319800        -123.54715        8      2023    139\n",
              "                               49.234290        -122.79964        6      2023    115\n",
              "             Ontario           41.955400        -82.51400         5      2023    109\n",
              "                                                                                ... \n",
              "                               42.325730        -82.89813         6      2023      1\n",
              "             British Columbia  49.235115        -122.89093        6      2023      1\n",
              "             Ontario           42.325302        -82.92369         5      2023      1\n",
              "             British Columbia  49.235120        -122.63271        6      2023      1\n",
              "             Ontario           42.335026        -81.85847         7      2023      1\n",
              "Name: count, Length: 6818, dtype: int64"
            ]
          },
          "execution_count": 11,
          "metadata": {},
          "output_type": "execute_result"
        }
      ],
      "source": [
        "# Canada\n",
        "\n",
        "wf_CA = gbif_df_2023.loc[gbif_df_2023['countryCode'] == 'CA']\n",
        "wf_CA.value_counts()"
      ]
    },
    {
      "cell_type": "code",
      "execution_count": 12,
      "id": "6c73dbb4",
      "metadata": {},
      "outputs": [
        {
          "data": {
            "text/plain": [
              "countryCode  stateProvince  decimalLatitude  decimalLongitude  month  year\n",
              "US           Pennsylvania   39.889350        -75.260150        5      2023    227\n",
              "                                                               6      2023    216\n",
              "             Illinois       41.963383        -87.634420        5      2023    177\n",
              "             Ohio           41.451912        -82.667366        5      2023    169\n",
              "             Pennsylvania   40.271667        -76.247734        7      2023    166\n",
              "                                                                             ... \n",
              "             Wyoming        44.811672        -108.800170       5      2023      1\n",
              "                            44.659695        -106.948850       5      2023      1\n",
              "                            44.510040        -109.146800       6      2023      1\n",
              "                            44.462100        -110.853570       5      2023      1\n",
              "                            44.438520        -109.217010       8      2023      1\n",
              "Name: count, Length: 32661, dtype: int64"
            ]
          },
          "execution_count": 12,
          "metadata": {},
          "output_type": "execute_result"
        }
      ],
      "source": [
        "# United States \n",
        "\n",
        "wf_US = gbif_df_2023.loc[gbif_df_2023['countryCode'] == 'US']\n",
        "wf_US.value_counts()"
      ]
    },
    {
      "cell_type": "markdown",
      "id": "f0277b79",
      "metadata": {},
      "source": [
        "##### Wintering locations (high to low latitude)"
      ]
    },
    {
      "cell_type": "code",
      "execution_count": 13,
      "id": "f126df7b",
      "metadata": {},
      "outputs": [
        {
          "data": {
            "text/plain": [
              "countryCode  stateProvince  decimalLatitude  decimalLongitude  month  year\n",
              "MX           Tabasco        17.989754        -92.973090        9      2023    18\n",
              "             Oaxaca         15.761899        -96.127110        11     2023    12\n",
              "             Sonora         27.009628        -108.913380       10     2023    10\n",
              "             Veracruz       19.469866        -96.788970        9      2023     8\n",
              "             Nayarit        21.528181        -105.219970       2      2023     7\n",
              "                                                                              ..\n",
              "             Veracruz       18.543131        -95.148419        5      2023     1\n",
              "                            18.455866        -95.185870        10     2023     1\n",
              "                            19.110413        -96.121056        5      2023     1\n",
              "                            19.067734        -96.075860        5      2023     1\n",
              "                            19.490616        -96.332400        5      2023     1\n",
              "Name: count, Length: 212, dtype: int64"
            ]
          },
          "execution_count": 13,
          "metadata": {},
          "output_type": "execute_result"
        }
      ],
      "source": [
        "# Mexico\n",
        "\n",
        "wf_MX = gbif_df_2023.loc[gbif_df_2023['countryCode'] == 'MX']\n",
        "wf_MX.value_counts()"
      ]
    },
    {
      "cell_type": "code",
      "execution_count": 14,
      "id": "330e26e6",
      "metadata": {},
      "outputs": [
        {
          "data": {
            "text/plain": [
              "countryCode  stateProvince  decimalLatitude  decimalLongitude  month  year\n",
              "NI           Masaya         12.087877        -85.989650        3      2023    10\n",
              "                            12.090204        -85.989850        1      2023     8\n",
              "             Chinandega     12.957290        -87.496890        12     2023     7\n",
              "                            12.889106        -87.505250        11     2023     4\n",
              "                            12.888454        -87.504590        12     2023     4\n",
              "             Masaya         12.089507        -85.988840        2      2023     4\n",
              "             Managua        12.239460        -86.415405        12     2023     3\n",
              "             Chinandega     12.889481        -87.504870        1      2023     3\n",
              "             Masaya         12.087877        -85.989650        12     2023     3\n",
              "                            11.950830        -86.239630        1      2023     3\n",
              "             Managua        12.239460        -86.415405        11     2023     3\n",
              "             Chinandega     12.888454        -87.504590        3      2023     3\n",
              "                                                               2      2023     3\n",
              "             Rivas          11.443490        -86.084790        10     2023     3\n",
              "             Managua        11.783807        -86.518050        9      2023     2\n",
              "             Rivas          11.348851        -85.976600        10     2023     2\n",
              "             Managua        12.245070        -86.408844        3      2023     2\n",
              "             Río San Juan   11.374928        -84.770900        10     2023     2\n",
              "             Managua        11.991637        -86.250750        1      2023     1\n",
              "             Chinandega     12.620664        -87.157600        9      2023     1\n",
              "                            12.689261        -86.957405        9      2023     1\n",
              "             Masaya         12.087877        -85.989650        1      2023     1\n",
              "             Managua        12.245070        -86.408844        12     2023     1\n",
              "             Masaya         12.087877        -85.989650        2      2023     1\n",
              "             Rivas          11.441743        -86.085230        10     2023     1\n",
              "                            11.443490        -86.084790        9      2023     1\n",
              "                            11.480693        -85.559814        10     2023     1\n",
              "             Río San Juan   11.121395        -84.779175        5      2023     1\n",
              "                                                               12     2023     1\n",
              "Name: count, dtype: int64"
            ]
          },
          "execution_count": 14,
          "metadata": {},
          "output_type": "execute_result"
        }
      ],
      "source": [
        "# Nicaragua\n",
        "\n",
        "wf_NI = gbif_df_2023.loc[gbif_df_2023['countryCode'] == 'NI']\n",
        "wf_NI.value_counts()"
      ]
    },
    {
      "cell_type": "code",
      "execution_count": 15,
      "id": "177fe731",
      "metadata": {},
      "outputs": [
        {
          "data": {
            "text/plain": [
              "countryCode  stateProvince  decimalLatitude  decimalLongitude  month  year\n",
              "CO           Boyacá         6.047542         -74.261986        11     2023    13\n",
              "                                                               4      2023    10\n",
              "             Magdalena      11.033774        -74.208290        4      2023    10\n",
              "             Guaviare       2.583213         -72.662506        1      2023     9\n",
              "             Boyacá         6.047542         -74.261986        10     2023     8\n",
              "                                                                              ..\n",
              "             Tolima         4.706385         -74.903110        10     2023     1\n",
              "                            4.424295         -75.172520        4      2023     1\n",
              "             Santander      7.222714         -73.119780        11     2023     1\n",
              "             Tolima         4.451201         -75.221540        2      2023     1\n",
              "                            4.447423         -75.225690        3      2023     1\n",
              "Name: count, Length: 137, dtype: int64"
            ]
          },
          "execution_count": 15,
          "metadata": {},
          "output_type": "execute_result"
        }
      ],
      "source": [
        "# Colombia\n",
        "\n",
        "wf_CO = gbif_df_2023.loc[gbif_df_2023['countryCode'] == 'CO']\n",
        "wf_CO.value_counts()"
      ]
    },
    {
      "cell_type": "markdown",
      "id": "c8c15e9c",
      "metadata": {},
      "source": [
        "##### Convert the GBIF data to a GeoDataFrame"
      ]
    },
    {
      "cell_type": "code",
      "execution_count": 16,
      "id": "9c2045be",
      "metadata": {},
      "outputs": [
        {
          "data": {
            "text/html": [
              "<div>\n",
              "<style scoped>\n",
              "    .dataframe tbody tr th:only-of-type {\n",
              "        vertical-align: middle;\n",
              "    }\n",
              "\n",
              "    .dataframe tbody tr th {\n",
              "        vertical-align: top;\n",
              "    }\n",
              "\n",
              "    .dataframe thead th {\n",
              "        text-align: right;\n",
              "    }\n",
              "</style>\n",
              "<table border=\"1\" class=\"dataframe\">\n",
              "  <thead>\n",
              "    <tr style=\"text-align: right;\">\n",
              "      <th></th>\n",
              "      <th>month</th>\n",
              "      <th>geometry</th>\n",
              "    </tr>\n",
              "    <tr>\n",
              "      <th>gbifID</th>\n",
              "      <th></th>\n",
              "      <th></th>\n",
              "    </tr>\n",
              "  </thead>\n",
              "  <tbody>\n",
              "    <tr>\n",
              "      <th>4846727844</th>\n",
              "      <td>8</td>\n",
              "      <td>POINT (-88.07576 41.8406)</td>\n",
              "    </tr>\n",
              "    <tr>\n",
              "      <th>4458666436</th>\n",
              "      <td>6</td>\n",
              "      <td>POINT (-115.59364 51.1703)</td>\n",
              "    </tr>\n",
              "    <tr>\n",
              "      <th>4171308981</th>\n",
              "      <td>7</td>\n",
              "      <td>POINT (-97.08144 43.17027)</td>\n",
              "    </tr>\n",
              "    <tr>\n",
              "      <th>4527914925</th>\n",
              "      <td>7</td>\n",
              "      <td>POINT (-115.79344 49.49855)</td>\n",
              "    </tr>\n",
              "    <tr>\n",
              "      <th>4694654654</th>\n",
              "      <td>7</td>\n",
              "      <td>POINT (-123.03056 43.7905)</td>\n",
              "    </tr>\n",
              "    <tr>\n",
              "      <th>...</th>\n",
              "      <td>...</td>\n",
              "      <td>...</td>\n",
              "    </tr>\n",
              "    <tr>\n",
              "      <th>4771133627</th>\n",
              "      <td>7</td>\n",
              "      <td>POINT (-119.28043 50.70975)</td>\n",
              "    </tr>\n",
              "    <tr>\n",
              "      <th>4681902738</th>\n",
              "      <td>5</td>\n",
              "      <td>POINT (-87.15982 38.9803)</td>\n",
              "    </tr>\n",
              "    <tr>\n",
              "      <th>4829948692</th>\n",
              "      <td>6</td>\n",
              "      <td>POINT (-121.91132 47.59308)</td>\n",
              "    </tr>\n",
              "    <tr>\n",
              "      <th>4779925725</th>\n",
              "      <td>7</td>\n",
              "      <td>POINT (-82.99728 39.53794)</td>\n",
              "    </tr>\n",
              "    <tr>\n",
              "      <th>4703240751</th>\n",
              "      <td>7</td>\n",
              "      <td>POINT (-72.55983 42.33963)</td>\n",
              "    </tr>\n",
              "  </tbody>\n",
              "</table>\n",
              "<p>110725 rows × 2 columns</p>\n",
              "</div>"
            ],
            "text/plain": [
              "            month                     geometry\n",
              "gbifID                                        \n",
              "4846727844      8    POINT (-88.07576 41.8406)\n",
              "4458666436      6   POINT (-115.59364 51.1703)\n",
              "4171308981      7   POINT (-97.08144 43.17027)\n",
              "4527914925      7  POINT (-115.79344 49.49855)\n",
              "4694654654      7   POINT (-123.03056 43.7905)\n",
              "...           ...                          ...\n",
              "4771133627      7  POINT (-119.28043 50.70975)\n",
              "4681902738      5    POINT (-87.15982 38.9803)\n",
              "4829948692      6  POINT (-121.91132 47.59308)\n",
              "4779925725      7   POINT (-82.99728 39.53794)\n",
              "4703240751      7   POINT (-72.55983 42.33963)\n",
              "\n",
              "[110725 rows x 2 columns]"
            ]
          },
          "execution_count": 16,
          "metadata": {},
          "output_type": "execute_result"
        }
      ],
      "source": [
        "\"\"\"\n",
        "Coordinate reference system:\n",
        "EPSG:4326, also known as the WGS84 projection, is a coordinate system that represents the Earth as a 3D ellipsoid. \n",
        "It's used in Google Earth, GPS systems, and by organizations that provide GIS data for the entire globe or many countries.\n",
        "\"\"\"\n",
        "\n",
        "gdf_monthly = (\n",
        "    gpd.GeoDataFrame(\n",
        "        gbif_df_2023, \n",
        "        geometry=gpd.points_from_xy(\n",
        "            gbif_df_2023.decimalLongitude, \n",
        "            gbif_df_2023.decimalLatitude), \n",
        "        crs=\"EPSG:4326\")\n",
        "    # Select the desired columns\n",
        "    [['month', 'geometry']]\n",
        ")\n",
        "\n",
        "gdf_monthly"
      ]
    },
    {
      "cell_type": "code",
      "execution_count": 17,
      "id": "cd77e414",
      "metadata": {},
      "outputs": [
        {
          "data": {
            "text/html": [
              "<div>\n",
              "<style scoped>\n",
              "    .dataframe tbody tr th:only-of-type {\n",
              "        vertical-align: middle;\n",
              "    }\n",
              "\n",
              "    .dataframe tbody tr th {\n",
              "        vertical-align: top;\n",
              "    }\n",
              "\n",
              "    .dataframe thead th {\n",
              "        text-align: right;\n",
              "    }\n",
              "</style>\n",
              "<table border=\"1\" class=\"dataframe\">\n",
              "  <thead>\n",
              "    <tr style=\"text-align: right;\">\n",
              "      <th></th>\n",
              "      <th>month</th>\n",
              "      <th>stateProvince</th>\n",
              "      <th>geometry</th>\n",
              "    </tr>\n",
              "  </thead>\n",
              "  <tbody>\n",
              "    <tr>\n",
              "      <th>0</th>\n",
              "      <td>6</td>\n",
              "      <td>Alberta</td>\n",
              "      <td>POINT (-115.59364 51.1703)</td>\n",
              "    </tr>\n",
              "    <tr>\n",
              "      <th>1</th>\n",
              "      <td>7</td>\n",
              "      <td>British Columbia</td>\n",
              "      <td>POINT (-115.79344 49.49855)</td>\n",
              "    </tr>\n",
              "    <tr>\n",
              "      <th>2</th>\n",
              "      <td>8</td>\n",
              "      <td>British Columbia</td>\n",
              "      <td>POINT (-123.96848 49.71062)</td>\n",
              "    </tr>\n",
              "    <tr>\n",
              "      <th>3</th>\n",
              "      <td>6</td>\n",
              "      <td>Ontario</td>\n",
              "      <td>POINT (-80.23159 43.4964)</td>\n",
              "    </tr>\n",
              "    <tr>\n",
              "      <th>4</th>\n",
              "      <td>6</td>\n",
              "      <td>British Columbia</td>\n",
              "      <td>POINT (-119.53582 49.30306)</td>\n",
              "    </tr>\n",
              "    <tr>\n",
              "      <th>...</th>\n",
              "      <td>...</td>\n",
              "      <td>...</td>\n",
              "      <td>...</td>\n",
              "    </tr>\n",
              "    <tr>\n",
              "      <th>18152</th>\n",
              "      <td>6</td>\n",
              "      <td>British Columbia</td>\n",
              "      <td>POINT (-123.00034 49.30584)</td>\n",
              "    </tr>\n",
              "    <tr>\n",
              "      <th>18153</th>\n",
              "      <td>7</td>\n",
              "      <td>British Columbia</td>\n",
              "      <td>POINT (-124.7245 49.45994)</td>\n",
              "    </tr>\n",
              "    <tr>\n",
              "      <th>18154</th>\n",
              "      <td>6</td>\n",
              "      <td>British Columbia</td>\n",
              "      <td>POINT (-119.27582 50.38022)</td>\n",
              "    </tr>\n",
              "    <tr>\n",
              "      <th>18155</th>\n",
              "      <td>6</td>\n",
              "      <td>British Columbia</td>\n",
              "      <td>POINT (-122.61517 49.34824)</td>\n",
              "    </tr>\n",
              "    <tr>\n",
              "      <th>18156</th>\n",
              "      <td>7</td>\n",
              "      <td>British Columbia</td>\n",
              "      <td>POINT (-119.28043 50.70975)</td>\n",
              "    </tr>\n",
              "  </tbody>\n",
              "</table>\n",
              "<p>18157 rows × 3 columns</p>\n",
              "</div>"
            ],
            "text/plain": [
              "       month     stateProvince                     geometry\n",
              "0          6           Alberta   POINT (-115.59364 51.1703)\n",
              "1          7  British Columbia  POINT (-115.79344 49.49855)\n",
              "2          8  British Columbia  POINT (-123.96848 49.71062)\n",
              "3          6           Ontario    POINT (-80.23159 43.4964)\n",
              "4          6  British Columbia  POINT (-119.53582 49.30306)\n",
              "...      ...               ...                          ...\n",
              "18152      6  British Columbia  POINT (-123.00034 49.30584)\n",
              "18153      7  British Columbia   POINT (-124.7245 49.45994)\n",
              "18154      6  British Columbia  POINT (-119.27582 50.38022)\n",
              "18155      6  British Columbia  POINT (-122.61517 49.34824)\n",
              "18156      7  British Columbia  POINT (-119.28043 50.70975)\n",
              "\n",
              "[18157 rows x 3 columns]"
            ]
          },
          "execution_count": 17,
          "metadata": {},
          "output_type": "execute_result"
        }
      ],
      "source": [
        "gdf_canada = (\n",
        "    gpd.GeoDataFrame(\n",
        "        wf_CA, \n",
        "        geometry=gpd.points_from_xy(\n",
        "            wf_CA.decimalLongitude, \n",
        "            wf_CA.decimalLatitude), \n",
        "        crs=\"EPSG:4326\")\n",
        "    # Select the desired columns\n",
        "    [['month', 'stateProvince', 'geometry']]\n",
        ")\n",
        "\n",
        "gdf_canada.reset_index(inplace=True, drop=True)\n",
        "\n",
        "gdf_canada"
      ]
    },
    {
      "cell_type": "markdown",
      "id": "32413d9d",
      "metadata": {},
      "source": [
        "##### Download and save ecoregion boundaries\n",
        "\n",
        "Ecoregions represent boundaries formed by biotic and abiotic conditions: geology, landforms, soils, vegetation, land use, wildlife, climate, and hydrology."
      ]
    },
    {
      "cell_type": "code",
      "execution_count": 18,
      "id": "4ae48eb8",
      "metadata": {},
      "outputs": [],
      "source": [
        "# Set up the ecoregion boundary URL\n",
        "ecoregions_url = \"https://storage.googleapis.com/teow2016/Ecoregions2017.zip\"\n",
        "\n",
        "# Set up a path to save the data on your machine\n",
        "ecoregions_dir = os.path.join(data_dir, 'wwf_ecoregions')\n",
        "\n",
        "# Make the ecoregions directory\n",
        "os.makedirs(ecoregions_dir, exist_ok=True)\n",
        "\n",
        "# Join ecoregions shapefile path\n",
        "ecoregions_path = os.path.join(ecoregions_dir, 'wwf_ecoregions.shp')\n",
        "\n",
        "# Only download once\n",
        "if not os.path.exists(ecoregions_path):\n",
        "    ecoregions_gdf = gpd.read_file(ecoregions_url)\n",
        "    ecoregions_gdf.to_file(ecoregions_path)"
      ]
    },
    {
      "cell_type": "code",
      "execution_count": 19,
      "id": "d681b752",
      "metadata": {},
      "outputs": [
        {
          "name": "stdout",
          "output_type": "stream",
          "text": [
            "/home/jovyan/earth-analytics/data/species-distribution/wwf_ecoregions/wwf_ecoregions.shp\n"
          ]
        }
      ],
      "source": [
        "%%bash\n",
        "find ~/earth-analytics/data/species-distribution -name '*.shp'"
      ]
    },
    {
      "cell_type": "code",
      "execution_count": 20,
      "id": "53c6b568",
      "metadata": {},
      "outputs": [
        {
          "ename": "",
          "evalue": "",
          "output_type": "error",
          "traceback": [
            "\u001b[1;31mThe Kernel crashed while executing code in the current cell or a previous cell. \n",
            "\u001b[1;31mPlease review the code in the cell(s) to identify a possible cause of the failure. \n",
            "\u001b[1;31mClick <a href='https://aka.ms/vscodeJupyterKernelCrash'>here</a> for more info. \n",
            "\u001b[1;31mView Jupyter <a href='command:jupyter.viewOutput'>log</a> for further details."
          ]
        }
      ],
      "source": [
        "# Open up the ecoregions boundaries\n",
        "ecoregions_gdf = (\n",
        "    gpd.read_file(ecoregions_path)\n",
        "    .rename(columns={\n",
        "        'ECO_NAME': 'name',\n",
        "        'SHAPE_AREA': 'area'})\n",
        "    [['name', 'area', 'geometry']]\n",
        ")\n",
        "\n",
        "# Name the index so it will match the other data later on\n",
        "ecoregions_gdf.index.name = 'ecoregion'\n",
        "\n",
        "# Plot the ecoregions to check download\n",
        "ecoregions_gdf.plot(edgecolor='black', color='skyblue')"
      ]
    },
    {
      "cell_type": "code",
      "execution_count": 2,
      "id": "15c56702",
      "metadata": {},
      "outputs": [
        {
          "ename": "NameError",
          "evalue": "name 'ecoregions_gdf' is not defined",
          "output_type": "error",
          "traceback": [
            "\u001b[0;31m---------------------------------------------------------------------------\u001b[0m",
            "\u001b[0;31mNameError\u001b[0m                                 Traceback (most recent call last)",
            "Cell \u001b[0;32mIn[2], line 1\u001b[0m\n\u001b[0;32m----> 1\u001b[0m \u001b[43mecoregions_gdf\u001b[49m\n",
            "\u001b[0;31mNameError\u001b[0m: name 'ecoregions_gdf' is not defined"
          ]
        }
      ],
      "source": [
        "ecoregions_gdf"
      ]
    },
    {
      "cell_type": "markdown",
      "id": "e96082ab",
      "metadata": {},
      "source": [
        "##### Identify the ecoregion for each observation"
      ]
    },
    {
      "cell_type": "code",
      "execution_count": 23,
      "id": "692f01f8",
      "metadata": {},
      "outputs": [
        {
          "data": {
            "text/html": [
              "<div>\n",
              "<style scoped>\n",
              "    .dataframe tbody tr th:only-of-type {\n",
              "        vertical-align: middle;\n",
              "    }\n",
              "\n",
              "    .dataframe tbody tr th {\n",
              "        vertical-align: top;\n",
              "    }\n",
              "\n",
              "    .dataframe thead th {\n",
              "        text-align: right;\n",
              "    }\n",
              "</style>\n",
              "<table border=\"1\" class=\"dataframe\">\n",
              "  <thead>\n",
              "    <tr style=\"text-align: right;\">\n",
              "      <th></th>\n",
              "      <th>month</th>\n",
              "      <th>name</th>\n",
              "    </tr>\n",
              "    <tr>\n",
              "      <th>ecoregion</th>\n",
              "      <th></th>\n",
              "      <th></th>\n",
              "    </tr>\n",
              "  </thead>\n",
              "  <tbody>\n",
              "    <tr>\n",
              "      <th>12</th>\n",
              "      <td>6</td>\n",
              "      <td>Alberta-British Columbia foothills forests</td>\n",
              "    </tr>\n",
              "    <tr>\n",
              "      <th>12</th>\n",
              "      <td>6</td>\n",
              "      <td>Alberta-British Columbia foothills forests</td>\n",
              "    </tr>\n",
              "    <tr>\n",
              "      <th>12</th>\n",
              "      <td>6</td>\n",
              "      <td>Alberta-British Columbia foothills forests</td>\n",
              "    </tr>\n",
              "    <tr>\n",
              "      <th>12</th>\n",
              "      <td>6</td>\n",
              "      <td>Alberta-British Columbia foothills forests</td>\n",
              "    </tr>\n",
              "    <tr>\n",
              "      <th>12</th>\n",
              "      <td>6</td>\n",
              "      <td>Alberta-British Columbia foothills forests</td>\n",
              "    </tr>\n",
              "    <tr>\n",
              "      <th>...</th>\n",
              "      <td>...</td>\n",
              "      <td>...</td>\n",
              "    </tr>\n",
              "    <tr>\n",
              "      <th>833</th>\n",
              "      <td>6</td>\n",
              "      <td>Northern Rockies conifer forests</td>\n",
              "    </tr>\n",
              "    <tr>\n",
              "      <th>833</th>\n",
              "      <td>6</td>\n",
              "      <td>Northern Rockies conifer forests</td>\n",
              "    </tr>\n",
              "    <tr>\n",
              "      <th>833</th>\n",
              "      <td>6</td>\n",
              "      <td>Northern Rockies conifer forests</td>\n",
              "    </tr>\n",
              "    <tr>\n",
              "      <th>833</th>\n",
              "      <td>6</td>\n",
              "      <td>Northern Rockies conifer forests</td>\n",
              "    </tr>\n",
              "    <tr>\n",
              "      <th>833</th>\n",
              "      <td>6</td>\n",
              "      <td>Northern Rockies conifer forests</td>\n",
              "    </tr>\n",
              "  </tbody>\n",
              "</table>\n",
              "<p>107252 rows × 2 columns</p>\n",
              "</div>"
            ],
            "text/plain": [
              "           month                                        name\n",
              "ecoregion                                                   \n",
              "12             6  Alberta-British Columbia foothills forests\n",
              "12             6  Alberta-British Columbia foothills forests\n",
              "12             6  Alberta-British Columbia foothills forests\n",
              "12             6  Alberta-British Columbia foothills forests\n",
              "12             6  Alberta-British Columbia foothills forests\n",
              "...          ...                                         ...\n",
              "833            6            Northern Rockies conifer forests\n",
              "833            6            Northern Rockies conifer forests\n",
              "833            6            Northern Rockies conifer forests\n",
              "833            6            Northern Rockies conifer forests\n",
              "833            6            Northern Rockies conifer forests\n",
              "\n",
              "[107252 rows x 2 columns]"
            ]
          },
          "execution_count": 23,
          "metadata": {},
          "output_type": "execute_result"
        }
      ],
      "source": [
        "gbif_ecoregion_gdf = (\n",
        "    ecoregions_gdf\n",
        "    # Match the coordinate reference system of the GBIF data and the ecoregions\n",
        "    # transform geometries to a new coordinate reference system\n",
        "    .to_crs(gdf_monthly.crs)\n",
        "    # Find ecoregion for each observation\n",
        "    # spatial join\n",
        "    .sjoin(\n",
        "        gdf_monthly,\n",
        "        how='inner', \n",
        "        predicate='contains')\n",
        "    # Select the required columns\n",
        "    [['month', 'name']]\n",
        ")\n",
        "gbif_ecoregion_gdf"
      ]
    },
    {
      "cell_type": "markdown",
      "id": "fa5f301c",
      "metadata": {},
      "source": [
        "##### Count the observations in each ecoregion each month"
      ]
    },
    {
      "cell_type": "code",
      "execution_count": 56,
      "id": "4a653647",
      "metadata": {},
      "outputs": [],
      "source": [
        "def get_monthly_regional_observations(df, region_type, occurrence_name):\n",
        "\n",
        "    occurrence_df = (\n",
        "        df\n",
        "        # For each region, for each month...\n",
        "        .groupby([region_type, 'month'])\n",
        "        # count the number of occurrences\n",
        "        .agg(occurrences=(occurrence_name, 'count'))\n",
        "    )\n",
        "\n",
        "    # Get rid of rare observations (possible misidentification)\n",
        "    occurrence_df = occurrence_df[occurrence_df[\"occurrences\"] > 1]\n",
        "\n",
        "    # Take the mean by region\n",
        "    mean_occurrences_by_region = (\n",
        "        occurrence_df\n",
        "        .groupby([region_type])\n",
        "        .mean()\n",
        "    )\n",
        "\n",
        "    # Take the mean by month\n",
        "    mean_occurrences_by_month = (\n",
        "        occurrence_df\n",
        "        .groupby(['month'])\n",
        "        .mean()\n",
        "    )\n",
        "\n",
        "    # Normalize by space and time for sampling effort\n",
        "    # This accounts for the number of active observers in each location and time of year\n",
        "    occurrence_df['norm_occurrences'] = (\n",
        "        occurrence_df\n",
        "        / mean_occurrences_by_region\n",
        "        / mean_occurrences_by_month\n",
        "    )\n",
        "\n",
        "    return occurrence_df"
      ]
    },
    {
      "cell_type": "code",
      "execution_count": 67,
      "id": "c3b05542",
      "metadata": {},
      "outputs": [
        {
          "data": {
            "text/html": [
              "<div>\n",
              "<style scoped>\n",
              "    .dataframe tbody tr th:only-of-type {\n",
              "        vertical-align: middle;\n",
              "    }\n",
              "\n",
              "    .dataframe tbody tr th {\n",
              "        vertical-align: top;\n",
              "    }\n",
              "\n",
              "    .dataframe thead th {\n",
              "        text-align: right;\n",
              "    }\n",
              "</style>\n",
              "<table border=\"1\" class=\"dataframe\">\n",
              "  <thead>\n",
              "    <tr style=\"text-align: right;\">\n",
              "      <th></th>\n",
              "      <th></th>\n",
              "      <th>occurrences</th>\n",
              "      <th>norm_occurrences</th>\n",
              "    </tr>\n",
              "    <tr>\n",
              "      <th>ecoregion</th>\n",
              "      <th>month</th>\n",
              "      <th></th>\n",
              "      <th></th>\n",
              "    </tr>\n",
              "  </thead>\n",
              "  <tbody>\n",
              "    <tr>\n",
              "      <th rowspan=\"3\" valign=\"top\">12</th>\n",
              "      <th>5</th>\n",
              "      <td>12</td>\n",
              "      <td>0.001558</td>\n",
              "    </tr>\n",
              "    <tr>\n",
              "      <th>6</th>\n",
              "      <td>46</td>\n",
              "      <td>0.003290</td>\n",
              "    </tr>\n",
              "    <tr>\n",
              "      <th>7</th>\n",
              "      <td>10</td>\n",
              "      <td>0.001355</td>\n",
              "    </tr>\n",
              "    <tr>\n",
              "      <th rowspan=\"2\" valign=\"top\">16</th>\n",
              "      <th>5</th>\n",
              "      <td>510</td>\n",
              "      <td>0.004681</td>\n",
              "    </tr>\n",
              "    <tr>\n",
              "      <th>6</th>\n",
              "      <td>718</td>\n",
              "      <td>0.003631</td>\n",
              "    </tr>\n",
              "    <tr>\n",
              "      <th>...</th>\n",
              "      <th>...</th>\n",
              "      <td>...</td>\n",
              "      <td>...</td>\n",
              "    </tr>\n",
              "    <tr>\n",
              "      <th rowspan=\"5\" valign=\"top\">833</th>\n",
              "      <th>5</th>\n",
              "      <td>152</td>\n",
              "      <td>0.000802</td>\n",
              "    </tr>\n",
              "    <tr>\n",
              "      <th>6</th>\n",
              "      <td>1649</td>\n",
              "      <td>0.004795</td>\n",
              "    </tr>\n",
              "    <tr>\n",
              "      <th>7</th>\n",
              "      <td>746</td>\n",
              "      <td>0.004108</td>\n",
              "    </tr>\n",
              "    <tr>\n",
              "      <th>8</th>\n",
              "      <td>220</td>\n",
              "      <td>0.002813</td>\n",
              "    </tr>\n",
              "    <tr>\n",
              "      <th>9</th>\n",
              "      <td>21</td>\n",
              "      <td>0.000645</td>\n",
              "    </tr>\n",
              "  </tbody>\n",
              "</table>\n",
              "<p>537 rows × 2 columns</p>\n",
              "</div>"
            ],
            "text/plain": [
              "                 occurrences  norm_occurrences\n",
              "ecoregion month                               \n",
              "12        5               12          0.001558\n",
              "          6               46          0.003290\n",
              "          7               10          0.001355\n",
              "16        5              510          0.004681\n",
              "          6              718          0.003631\n",
              "...                      ...               ...\n",
              "833       5              152          0.000802\n",
              "          6             1649          0.004795\n",
              "          7              746          0.004108\n",
              "          8              220          0.002813\n",
              "          9               21          0.000645\n",
              "\n",
              "[537 rows x 2 columns]"
            ]
          },
          "execution_count": 67,
          "metadata": {},
          "output_type": "execute_result"
        }
      ],
      "source": [
        "occurrence_df = get_monthly_regional_observations(gbif_ecoregion_gdf, 'ecoregion', 'name')\n",
        "\n",
        "occurrence_df"
      ]
    },
    {
      "cell_type": "markdown",
      "id": "9cec0ee0",
      "metadata": {},
      "source": [
        "##### Breeding observations by month"
      ]
    },
    {
      "cell_type": "code",
      "execution_count": 89,
      "id": "00dcffc1",
      "metadata": {},
      "outputs": [
        {
          "data": {
            "text/html": [
              "<div>\n",
              "<style scoped>\n",
              "    .dataframe tbody tr th:only-of-type {\n",
              "        vertical-align: middle;\n",
              "    }\n",
              "\n",
              "    .dataframe tbody tr th {\n",
              "        vertical-align: top;\n",
              "    }\n",
              "\n",
              "    .dataframe thead th {\n",
              "        text-align: right;\n",
              "    }\n",
              "</style>\n",
              "<table border=\"1\" class=\"dataframe\">\n",
              "  <thead>\n",
              "    <tr style=\"text-align: right;\">\n",
              "      <th></th>\n",
              "      <th>month</th>\n",
              "      <th>stateProvince</th>\n",
              "      <th>geometry</th>\n",
              "      <th>occurrences</th>\n",
              "      <th>norm_occurrences</th>\n",
              "    </tr>\n",
              "  </thead>\n",
              "  <tbody>\n",
              "    <tr>\n",
              "      <th>0</th>\n",
              "      <td>6</td>\n",
              "      <td>Alberta</td>\n",
              "      <td>POINT (-115.59364 51.1703)</td>\n",
              "      <td>334.0</td>\n",
              "      <td>0.003560</td>\n",
              "    </tr>\n",
              "    <tr>\n",
              "      <th>1</th>\n",
              "      <td>7</td>\n",
              "      <td>British Columbia</td>\n",
              "      <td>POINT (-115.79344 49.49855)</td>\n",
              "      <td>2314.0</td>\n",
              "      <td>0.002493</td>\n",
              "    </tr>\n",
              "    <tr>\n",
              "      <th>2</th>\n",
              "      <td>8</td>\n",
              "      <td>British Columbia</td>\n",
              "      <td>POINT (-123.96848 49.71062)</td>\n",
              "      <td>1626.0</td>\n",
              "      <td>0.001841</td>\n",
              "    </tr>\n",
              "    <tr>\n",
              "      <th>3</th>\n",
              "      <td>6</td>\n",
              "      <td>Ontario</td>\n",
              "      <td>POINT (-80.23159 43.4964)</td>\n",
              "      <td>2279.0</td>\n",
              "      <td>0.002133</td>\n",
              "    </tr>\n",
              "    <tr>\n",
              "      <th>4</th>\n",
              "      <td>6</td>\n",
              "      <td>British Columbia</td>\n",
              "      <td>POINT (-119.53582 49.30306)</td>\n",
              "      <td>4441.0</td>\n",
              "      <td>0.002580</td>\n",
              "    </tr>\n",
              "    <tr>\n",
              "      <th>...</th>\n",
              "      <td>...</td>\n",
              "      <td>...</td>\n",
              "      <td>...</td>\n",
              "      <td>...</td>\n",
              "      <td>...</td>\n",
              "    </tr>\n",
              "    <tr>\n",
              "      <th>18152</th>\n",
              "      <td>6</td>\n",
              "      <td>British Columbia</td>\n",
              "      <td>POINT (-123.00034 49.30584)</td>\n",
              "      <td>4441.0</td>\n",
              "      <td>0.002580</td>\n",
              "    </tr>\n",
              "    <tr>\n",
              "      <th>18153</th>\n",
              "      <td>7</td>\n",
              "      <td>British Columbia</td>\n",
              "      <td>POINT (-124.7245 49.45994)</td>\n",
              "      <td>2314.0</td>\n",
              "      <td>0.002493</td>\n",
              "    </tr>\n",
              "    <tr>\n",
              "      <th>18154</th>\n",
              "      <td>6</td>\n",
              "      <td>British Columbia</td>\n",
              "      <td>POINT (-119.27582 50.38022)</td>\n",
              "      <td>4441.0</td>\n",
              "      <td>0.002580</td>\n",
              "    </tr>\n",
              "    <tr>\n",
              "      <th>18155</th>\n",
              "      <td>6</td>\n",
              "      <td>British Columbia</td>\n",
              "      <td>POINT (-122.61517 49.34824)</td>\n",
              "      <td>4441.0</td>\n",
              "      <td>0.002580</td>\n",
              "    </tr>\n",
              "    <tr>\n",
              "      <th>18156</th>\n",
              "      <td>7</td>\n",
              "      <td>British Columbia</td>\n",
              "      <td>POINT (-119.28043 50.70975)</td>\n",
              "      <td>2314.0</td>\n",
              "      <td>0.002493</td>\n",
              "    </tr>\n",
              "  </tbody>\n",
              "</table>\n",
              "<p>18157 rows × 5 columns</p>\n",
              "</div>"
            ],
            "text/plain": [
              "       month     stateProvince                     geometry  occurrences  \\\n",
              "0          6           Alberta   POINT (-115.59364 51.1703)        334.0   \n",
              "1          7  British Columbia  POINT (-115.79344 49.49855)       2314.0   \n",
              "2          8  British Columbia  POINT (-123.96848 49.71062)       1626.0   \n",
              "3          6           Ontario    POINT (-80.23159 43.4964)       2279.0   \n",
              "4          6  British Columbia  POINT (-119.53582 49.30306)       4441.0   \n",
              "...      ...               ...                          ...          ...   \n",
              "18152      6  British Columbia  POINT (-123.00034 49.30584)       4441.0   \n",
              "18153      7  British Columbia   POINT (-124.7245 49.45994)       2314.0   \n",
              "18154      6  British Columbia  POINT (-119.27582 50.38022)       4441.0   \n",
              "18155      6  British Columbia  POINT (-122.61517 49.34824)       4441.0   \n",
              "18156      7  British Columbia  POINT (-119.28043 50.70975)       2314.0   \n",
              "\n",
              "       norm_occurrences  \n",
              "0              0.003560  \n",
              "1              0.002493  \n",
              "2              0.001841  \n",
              "3              0.002133  \n",
              "4              0.002580  \n",
              "...                 ...  \n",
              "18152          0.002580  \n",
              "18153          0.002493  \n",
              "18154          0.002580  \n",
              "18155          0.002580  \n",
              "18156          0.002493  \n",
              "\n",
              "[18157 rows x 5 columns]"
            ]
          },
          "execution_count": 89,
          "metadata": {},
          "output_type": "execute_result"
        }
      ],
      "source": [
        "# Canada\n",
        "\n",
        "ca_occurrence_df = get_monthly_regional_observations(gdf_canada, 'stateProvince', 'stateProvince')\n",
        "\n",
        "# for plot\n",
        "ca_norm_gdf = gdf_canada.join(ca_occurrence_df, on=['stateProvince', 'month'])\n",
        "\n",
        "ca_norm_gdf"
      ]
    },
    {
      "cell_type": "code",
      "execution_count": 2,
      "id": "192d394a",
      "metadata": {},
      "outputs": [
        {
          "ename": "NameError",
          "evalue": "name 'ca_norm_gdf' is not defined",
          "output_type": "error",
          "traceback": [
            "\u001b[0;31m---------------------------------------------------------------------------\u001b[0m",
            "\u001b[0;31mNameError\u001b[0m                                 Traceback (most recent call last)",
            "Cell \u001b[0;32mIn[2], line 1\u001b[0m\n\u001b[0;32m----> 1\u001b[0m ca_first_row \u001b[38;5;241m=\u001b[39m \u001b[43mca_norm_gdf\u001b[49m\u001b[38;5;241m.\u001b[39mhead(\u001b[38;5;241m1\u001b[39m)\n\u001b[1;32m      2\u001b[0m ca_first_row\u001b[38;5;241m.\u001b[39mmonth\n",
            "\u001b[0;31mNameError\u001b[0m: name 'ca_norm_gdf' is not defined"
          ]
        }
      ],
      "source": [
        "ca_first_row = ca_norm_gdf.head(1)\n",
        "ca_first_row.month"
      ]
    },
    {
      "cell_type": "code",
      "execution_count": 92,
      "id": "610a065c",
      "metadata": {},
      "outputs": [
        {
          "data": {
            "text/plain": [
              "array([ 6,  7,  8,  5,  9, 10])"
            ]
          },
          "execution_count": 92,
          "metadata": {},
          "output_type": "execute_result"
        }
      ],
      "source": [
        "ca_norm_gdf.month.unique()"
      ]
    },
    {
      "cell_type": "code",
      "execution_count": 1,
      "id": "91a28144",
      "metadata": {},
      "outputs": [],
      "source": [
        "# account for months without observation in plot\n",
        "def fill_map(df, empty_months, stateProvince, geometry): \n",
        "    month_rows = []\n",
        "\n",
        "    for month in empty_months:\n",
        "        empty_month = {'month': month, 'stateProvince': stateProvince, 'geometry': geometry, 'occurrences': 0.0, 'norm_occurrences': 0.0}\n",
        "        month_rows.append(empty_month)\n",
        "\n",
        "    df = df.append(month_rows, ignore_index=True)\n",
        "\n",
        "    return df"
      ]
    },
    {
      "cell_type": "code",
      "execution_count": null,
      "id": "0ece6d0d",
      "metadata": {},
      "outputs": [],
      "source": [
        "ca_norm_gdf = fill_map(ca_norm_gdf, [0, 1, 2, 3, 4, 11, 12], 'Alberta', geometry) \n",
        "\n",
        "ca_norm_gdf.tail(20)"
      ]
    },
    {
      "cell_type": "code",
      "execution_count": 90,
      "id": "1127f4ee",
      "metadata": {},
      "outputs": [
        {
          "data": {
            "text/html": [
              "<div>\n",
              "<style scoped>\n",
              "    .dataframe tbody tr th:only-of-type {\n",
              "        vertical-align: middle;\n",
              "    }\n",
              "\n",
              "    .dataframe tbody tr th {\n",
              "        vertical-align: top;\n",
              "    }\n",
              "\n",
              "    .dataframe thead th {\n",
              "        text-align: right;\n",
              "    }\n",
              "</style>\n",
              "<table border=\"1\" class=\"dataframe\">\n",
              "  <thead>\n",
              "    <tr style=\"text-align: right;\">\n",
              "      <th></th>\n",
              "      <th>month</th>\n",
              "      <th>stateProvince</th>\n",
              "      <th>geometry</th>\n",
              "      <th>occurrences</th>\n",
              "      <th>norm_occurrences</th>\n",
              "    </tr>\n",
              "  </thead>\n",
              "  <tbody>\n",
              "    <tr>\n",
              "      <th>0</th>\n",
              "      <td>6</td>\n",
              "      <td>Alberta</td>\n",
              "      <td>POINT (-12867825.7 6618166.089)</td>\n",
              "      <td>334.0</td>\n",
              "      <td>0.003560</td>\n",
              "    </tr>\n",
              "    <tr>\n",
              "      <th>1</th>\n",
              "      <td>7</td>\n",
              "      <td>British Columbia</td>\n",
              "      <td>POINT (-12890066.667 6327373.526)</td>\n",
              "      <td>2314.0</td>\n",
              "      <td>0.002493</td>\n",
              "    </tr>\n",
              "    <tr>\n",
              "      <th>2</th>\n",
              "      <td>8</td>\n",
              "      <td>British Columbia</td>\n",
              "      <td>POINT (-13800107.511 6363698.667)</td>\n",
              "      <td>1626.0</td>\n",
              "      <td>0.001841</td>\n",
              "    </tr>\n",
              "    <tr>\n",
              "      <th>3</th>\n",
              "      <td>6</td>\n",
              "      <td>Ontario</td>\n",
              "      <td>POINT (-8931339.744 5358415.729)</td>\n",
              "      <td>2279.0</td>\n",
              "      <td>0.002133</td>\n",
              "    </tr>\n",
              "    <tr>\n",
              "      <th>4</th>\n",
              "      <td>6</td>\n",
              "      <td>British Columbia</td>\n",
              "      <td>POINT (-13306666.614 6294027.984)</td>\n",
              "      <td>4441.0</td>\n",
              "      <td>0.002580</td>\n",
              "    </tr>\n",
              "    <tr>\n",
              "      <th>...</th>\n",
              "      <td>...</td>\n",
              "      <td>...</td>\n",
              "      <td>...</td>\n",
              "      <td>...</td>\n",
              "      <td>...</td>\n",
              "    </tr>\n",
              "    <tr>\n",
              "      <th>18152</th>\n",
              "      <td>6</td>\n",
              "      <td>British Columbia</td>\n",
              "      <td>POINT (-13692335.216 6294501.755)</td>\n",
              "      <td>4441.0</td>\n",
              "      <td>0.002580</td>\n",
              "    </tr>\n",
              "    <tr>\n",
              "      <th>18153</th>\n",
              "      <td>7</td>\n",
              "      <td>British Columbia</td>\n",
              "      <td>POINT (-13884267.273 6320776.588)</td>\n",
              "      <td>2314.0</td>\n",
              "      <td>0.002493</td>\n",
              "    </tr>\n",
              "    <tr>\n",
              "      <th>18154</th>\n",
              "      <td>6</td>\n",
              "      <td>British Columbia</td>\n",
              "      <td>POINT (-13277723.546 6479452.469)</td>\n",
              "      <td>4441.0</td>\n",
              "      <td>0.002580</td>\n",
              "    </tr>\n",
              "    <tr>\n",
              "      <th>18155</th>\n",
              "      <td>6</td>\n",
              "      <td>British Columbia</td>\n",
              "      <td>POINT (-13649457.843 6301723.317)</td>\n",
              "      <td>4441.0</td>\n",
              "      <td>0.002580</td>\n",
              "    </tr>\n",
              "    <tr>\n",
              "      <th>18156</th>\n",
              "      <td>7</td>\n",
              "      <td>British Columbia</td>\n",
              "      <td>POINT (-13278236.729 6537020.985)</td>\n",
              "      <td>2314.0</td>\n",
              "      <td>0.002493</td>\n",
              "    </tr>\n",
              "  </tbody>\n",
              "</table>\n",
              "<p>18157 rows × 5 columns</p>\n",
              "</div>"
            ],
            "text/plain": [
              "       month     stateProvince                           geometry  \\\n",
              "0          6           Alberta    POINT (-12867825.7 6618166.089)   \n",
              "1          7  British Columbia  POINT (-12890066.667 6327373.526)   \n",
              "2          8  British Columbia  POINT (-13800107.511 6363698.667)   \n",
              "3          6           Ontario   POINT (-8931339.744 5358415.729)   \n",
              "4          6  British Columbia  POINT (-13306666.614 6294027.984)   \n",
              "...      ...               ...                                ...   \n",
              "18152      6  British Columbia  POINT (-13692335.216 6294501.755)   \n",
              "18153      7  British Columbia  POINT (-13884267.273 6320776.588)   \n",
              "18154      6  British Columbia  POINT (-13277723.546 6479452.469)   \n",
              "18155      6  British Columbia  POINT (-13649457.843 6301723.317)   \n",
              "18156      7  British Columbia  POINT (-13278236.729 6537020.985)   \n",
              "\n",
              "       occurrences  norm_occurrences  \n",
              "0            334.0          0.003560  \n",
              "1           2314.0          0.002493  \n",
              "2           1626.0          0.001841  \n",
              "3           2279.0          0.002133  \n",
              "4           4441.0          0.002580  \n",
              "...            ...               ...  \n",
              "18152       4441.0          0.002580  \n",
              "18153       2314.0          0.002493  \n",
              "18154       4441.0          0.002580  \n",
              "18155       4441.0          0.002580  \n",
              "18156       2314.0          0.002493  \n",
              "\n",
              "[18157 rows x 5 columns]"
            ]
          },
          "execution_count": 90,
          "metadata": {},
          "output_type": "execute_result"
        }
      ],
      "source": [
        "# Speed up processing\n",
        "ca_norm_gdf.geometry = ca_norm_gdf.simplify(\n",
        "    .1, preserve_topology=False)\n",
        "\n",
        "# Change the CRS to Mercator for mapping\n",
        "ca_norm_gdf = ca_norm_gdf.to_crs(ccrs.Mercator())\n",
        "\n",
        "ca_norm_gdf"
      ]
    },
    {
      "cell_type": "code",
      "execution_count": 91,
      "id": "bbcbe92b",
      "metadata": {},
      "outputs": [
        {
          "name": "stderr",
          "output_type": "stream",
          "text": [
            "WARNING:param.GeoOverlayPlot01742: Due to internal constraints, when aspect and width/height is set, the bokeh backend uses those values as frame_width/frame_height instead. This ensures the aspect is respected, but means that the plot might be slightly larger than anticipated. Set the frame_width/frame_height explicitly to suppress this warning.\n",
            "WARNING:Due to internal constraints, when aspect and width/height is set, the bokeh backend uses those values as frame_width/frame_height instead. This ensures the aspect is respected, but means that the plot might be slightly larger than anticipated. Set the frame_width/frame_height explicitly to suppress this warning.\n"
          ]
        },
        {
          "data": {
            "application/vnd.jupyter.widget-view+json": {
              "model_id": "acde7915567d4216908efaa6d44cc114",
              "version_major": 2,
              "version_minor": 0
            },
            "text/plain": [
              "BokehModel(combine_events=True, render_bundle={'docs_json': {'5b12ea33-9f0f-4f39-b51d-720987086307': {'version…"
            ]
          },
          "execution_count": 91,
          "metadata": {},
          "output_type": "execute_result"
        }
      ],
      "source": [
        "# Get the plot bounds so they don't change with the slider\n",
        "xmin, ymin, xmax, ymax = ca_norm_gdf.total_bounds\n",
        "\n",
        "# Define the slider widget\n",
        "slider = pn.widgets.DiscreteSlider(\n",
        "    name='month', \n",
        "    options={calendar.month_name[i]: i for i in range(1, 13)}\n",
        ")\n",
        "\n",
        "# Plot occurrence by ecoregion and month\n",
        "ca_migration_plot = (\n",
        "    ca_norm_gdf\n",
        "    .hvplot(\n",
        "        c='norm_occurrences',\n",
        "        groupby='month',\n",
        "        # Use background tiles\n",
        "        geo=True, crs=ccrs.Mercator(), tiles='CartoLight',\n",
        "        title=\"Willow Flycatcher Migration (Canada)\",\n",
        "        xlim=(xmin, xmax), ylim=(ymin, ymax),\n",
        "        frame_height=600,\n",
        "        colorbar=False,\n",
        "        widgets={'month': slider},\n",
        "        widget_location='bottom',\n",
        "        width=500,\n",
        "        height=500\n",
        "    )\n",
        ")\n",
        "\n",
        "# Show the plot\n",
        "ca_migration_plot"
      ]
    },
    {
      "cell_type": "markdown",
      "id": "a102f042",
      "metadata": {},
      "source": [
        "##### Create a simplified GeoDataFrame for plot"
      ]
    },
    {
      "cell_type": "code",
      "execution_count": 57,
      "id": "af9ad269",
      "metadata": {},
      "outputs": [
        {
          "data": {
            "text/html": [
              "<div>\n",
              "<style scoped>\n",
              "    .dataframe tbody tr th:only-of-type {\n",
              "        vertical-align: middle;\n",
              "    }\n",
              "\n",
              "    .dataframe tbody tr th {\n",
              "        vertical-align: top;\n",
              "    }\n",
              "\n",
              "    .dataframe thead th {\n",
              "        text-align: right;\n",
              "    }\n",
              "</style>\n",
              "<table border=\"1\" class=\"dataframe\">\n",
              "  <thead>\n",
              "    <tr style=\"text-align: right;\">\n",
              "      <th></th>\n",
              "      <th>name</th>\n",
              "      <th>area</th>\n",
              "      <th>geometry</th>\n",
              "    </tr>\n",
              "    <tr>\n",
              "      <th>ecoregion</th>\n",
              "      <th></th>\n",
              "      <th></th>\n",
              "      <th></th>\n",
              "    </tr>\n",
              "  </thead>\n",
              "  <tbody>\n",
              "    <tr>\n",
              "      <th>0</th>\n",
              "      <td>Adelie Land tundra</td>\n",
              "      <td>0.038948</td>\n",
              "      <td>MULTIPOLYGON EMPTY</td>\n",
              "    </tr>\n",
              "    <tr>\n",
              "      <th>1</th>\n",
              "      <td>Admiralty Islands lowland rain forests</td>\n",
              "      <td>0.170599</td>\n",
              "      <td>POLYGON ((16411777.375 -229101.376, 16384825.7...</td>\n",
              "    </tr>\n",
              "    <tr>\n",
              "      <th>2</th>\n",
              "      <td>Aegean and Western Turkey sclerophyllous and m...</td>\n",
              "      <td>13.844952</td>\n",
              "      <td>MULTIPOLYGON (((3391149.749 4336064.109, 33846...</td>\n",
              "    </tr>\n",
              "    <tr>\n",
              "      <th>3</th>\n",
              "      <td>Afghan Mountains semi-desert</td>\n",
              "      <td>1.355536</td>\n",
              "      <td>MULTIPOLYGON (((7369001.698 4093509.259, 73168...</td>\n",
              "    </tr>\n",
              "    <tr>\n",
              "      <th>4</th>\n",
              "      <td>Ahklun and Kilbuck Upland Tundra</td>\n",
              "      <td>8.196573</td>\n",
              "      <td>MULTIPOLYGON (((-17930832.005 8046779.358, -17...</td>\n",
              "    </tr>\n",
              "    <tr>\n",
              "      <th>...</th>\n",
              "      <td>...</td>\n",
              "      <td>...</td>\n",
              "      <td>...</td>\n",
              "    </tr>\n",
              "    <tr>\n",
              "      <th>842</th>\n",
              "      <td>Sulawesi lowland rain forests</td>\n",
              "      <td>9.422097</td>\n",
              "      <td>MULTIPOLYGON (((14113374.546 501721.962, 14128...</td>\n",
              "    </tr>\n",
              "    <tr>\n",
              "      <th>843</th>\n",
              "      <td>East African montane forests</td>\n",
              "      <td>5.010930</td>\n",
              "      <td>MULTIPOLYGON (((4298787.669 -137583.786, 42727...</td>\n",
              "    </tr>\n",
              "    <tr>\n",
              "      <th>844</th>\n",
              "      <td>Eastern Arc forests</td>\n",
              "      <td>0.890325</td>\n",
              "      <td>MULTIPOLYGON (((4267432.68 -493759.165, 428533...</td>\n",
              "    </tr>\n",
              "    <tr>\n",
              "      <th>845</th>\n",
              "      <td>Borneo montane rain forests</td>\n",
              "      <td>9.358407</td>\n",
              "      <td>MULTIPOLYGON (((13126956.393 539092.917, 13136...</td>\n",
              "    </tr>\n",
              "    <tr>\n",
              "      <th>846</th>\n",
              "      <td>Kinabalu montane alpine meadows</td>\n",
              "      <td>0.352694</td>\n",
              "      <td>POLYGON ((12981819.186 696445.445, 12997053.80...</td>\n",
              "    </tr>\n",
              "  </tbody>\n",
              "</table>\n",
              "<p>847 rows × 3 columns</p>\n",
              "</div>"
            ],
            "text/plain": [
              "                                                        name       area  \\\n",
              "ecoregion                                                                 \n",
              "0                                         Adelie Land tundra   0.038948   \n",
              "1                     Admiralty Islands lowland rain forests   0.170599   \n",
              "2          Aegean and Western Turkey sclerophyllous and m...  13.844952   \n",
              "3                               Afghan Mountains semi-desert   1.355536   \n",
              "4                           Ahklun and Kilbuck Upland Tundra   8.196573   \n",
              "...                                                      ...        ...   \n",
              "842                            Sulawesi lowland rain forests   9.422097   \n",
              "843                             East African montane forests   5.010930   \n",
              "844                                      Eastern Arc forests   0.890325   \n",
              "845                              Borneo montane rain forests   9.358407   \n",
              "846                          Kinabalu montane alpine meadows   0.352694   \n",
              "\n",
              "                                                    geometry  \n",
              "ecoregion                                                     \n",
              "0                                         MULTIPOLYGON EMPTY  \n",
              "1          POLYGON ((16411777.375 -229101.376, 16384825.7...  \n",
              "2          MULTIPOLYGON (((3391149.749 4336064.109, 33846...  \n",
              "3          MULTIPOLYGON (((7369001.698 4093509.259, 73168...  \n",
              "4          MULTIPOLYGON (((-17930832.005 8046779.358, -17...  \n",
              "...                                                      ...  \n",
              "842        MULTIPOLYGON (((14113374.546 501721.962, 14128...  \n",
              "843        MULTIPOLYGON (((4298787.669 -137583.786, 42727...  \n",
              "844        MULTIPOLYGON (((4267432.68 -493759.165, 428533...  \n",
              "845        MULTIPOLYGON (((13126956.393 539092.917, 13136...  \n",
              "846        POLYGON ((12981819.186 696445.445, 12997053.80...  \n",
              "\n",
              "[847 rows x 3 columns]"
            ]
          },
          "execution_count": 57,
          "metadata": {},
          "output_type": "execute_result"
        }
      ],
      "source": [
        "\"\"\"\n",
        "Streamlining plotting with hvplot by simplifying the geometry, projecting it to a Mercator projection that is compatible with\n",
        "geoviews, and cropping off areas in the Arctic.\n",
        "\"\"\"\n",
        "\n",
        "# Speed up processing\n",
        "ecoregions_gdf.geometry = ecoregions_gdf.simplify(\n",
        "    .1, preserve_topology=False)\n",
        "\n",
        "# Change the CRS to Mercator for mapping\n",
        "ecoregions_gdf = ecoregions_gdf.to_crs(ccrs.Mercator())\n",
        "\n",
        "ecoregions_gdf"
      ]
    },
    {
      "cell_type": "markdown",
      "id": "71e13ecf",
      "metadata": {},
      "source": [
        "##### Mapping monthly migration"
      ]
    },
    {
      "cell_type": "code",
      "execution_count": 65,
      "id": "3734adb6",
      "metadata": {},
      "outputs": [
        {
          "name": "stderr",
          "output_type": "stream",
          "text": [
            "WARNING:param.GeoOverlayPlot05772: Due to internal constraints, when aspect and width/height is set, the bokeh backend uses those values as frame_width/frame_height instead. This ensures the aspect is respected, but means that the plot might be slightly larger than anticipated. Set the frame_width/frame_height explicitly to suppress this warning.\n",
            "WARNING:Due to internal constraints, when aspect and width/height is set, the bokeh backend uses those values as frame_width/frame_height instead. This ensures the aspect is respected, but means that the plot might be slightly larger than anticipated. Set the frame_width/frame_height explicitly to suppress this warning.\n"
          ]
        },
        {
          "name": "stdout",
          "output_type": "stream",
          "text": [
            "                                               "
          ]
        },
        {
          "name": "stderr",
          "output_type": "stream",
          "text": [
            "WARNING:W-1005 (FIXED_SIZING_MODE): 'fixed' sizing mode requires width and height to be set: figure(id='6c890387-621b-44bb-ac1c-e481d55e152f', ...)\n",
            "WARNING:param.GeoOverlayPlot06966: Due to internal constraints, when aspect and width/height is set, the bokeh backend uses those values as frame_width/frame_height instead. This ensures the aspect is respected, but means that the plot might be slightly larger than anticipated. Set the frame_width/frame_height explicitly to suppress this warning.\n",
            "WARNING:Due to internal constraints, when aspect and width/height is set, the bokeh backend uses those values as frame_width/frame_height instead. This ensures the aspect is respected, but means that the plot might be slightly larger than anticipated. Set the frame_width/frame_height explicitly to suppress this warning.\n"
          ]
        },
        {
          "name": "stdout",
          "output_type": "stream",
          "text": [
            "\r"
          ]
        },
        {
          "data": {
            "application/vnd.jupyter.widget-view+json": {
              "model_id": "fb1c7bf359e7433eb14c7c05e3fc64b1",
              "version_major": 2,
              "version_minor": 0
            },
            "text/plain": [
              "BokehModel(combine_events=True, render_bundle={'docs_json': {'ccae10cc-5026-4afa-801f-f8f6fdbdf3a4': {'version…"
            ]
          },
          "execution_count": 65,
          "metadata": {},
          "output_type": "execute_result"
        }
      ],
      "source": [
        "# Join the occurrences with the plotting GeoDataFrame\n",
        "occurrence_gdf = ecoregions_gdf.join(occurrence_df)\n",
        "\n",
        "# Get the plot bounds so they don't change with the slider\n",
        "xmin, ymin, xmax, ymax = occurrence_gdf.total_bounds\n",
        "\n",
        "# Define the slider widget\n",
        "slider = pn.widgets.DiscreteSlider(\n",
        "    name='month', \n",
        "    options={calendar.month_name[i]: i for i in range(1, 13)}\n",
        ")\n",
        "\n",
        "# Plot occurrence by ecoregion and month\n",
        "migration_plot = (\n",
        "    occurrence_gdf\n",
        "    .hvplot(\n",
        "        c='norm_occurrences',\n",
        "        groupby='month',\n",
        "        # Use background tiles\n",
        "        geo=True, crs=ccrs.Mercator(), tiles='CartoLight',\n",
        "        title=\"Willow Flycatcher Migration (Americas)\",\n",
        "        xlim=(xmin, xmax), ylim=(ymin, ymax),\n",
        "        frame_height=600,\n",
        "        colorbar=False,\n",
        "        widgets={'month': slider},\n",
        "        widget_location='bottom',\n",
        "        width=500,\n",
        "        height=500\n",
        "    )\n",
        ")\n",
        "\n",
        "# Save the plot\n",
        "migration_plot.save('willow-flycatcher-migration.html', embed=True)\n",
        "\n",
        "# Show the plot\n",
        "migration_plot"
      ]
    },
    {
      "cell_type": "markdown",
      "id": "d9f1cddd",
      "metadata": {},
      "source": [
        "##### Migration Patterns"
      ]
    },
    {
      "cell_type": "markdown",
      "id": "57d70266",
      "metadata": {},
      "source": []
    },
    {
      "cell_type": "markdown",
      "id": "1cc18738",
      "metadata": {},
      "source": [
        "#### References\n",
        "\n",
        "Afzal, P. (2024, January 4). *Endangered Willow Flycatchers in San Diego are adapting to climate change.* Cornell Lab of Ornithology. https://www.allaboutbirds.org/news/endangered-willow-flycatchers-in-san-diego-are-adapting-to-climate-change \n",
        "\n",
        "Bird Genoscape Project. (n.d.). *Willow Flycatcher.* https://www.birdgenoscape.org/willow-flycatcher \n",
        "\n",
        "Cornell Lab of Ornithology. (n.d.). *Willow Flycatcher life history.* All About Birds. https://www.allaboutbirds.org/guide/Willow_Flycatcher/lifehistory\n",
        "\n",
        "National Audubon Society. (n.d.). *Willow Flycatcher.* Audubon. https://www.audubon.org/field-guide/bird/willow-flycatcher\n",
        "\n",
        "Tahoe National Forest. (n.d.). *Willow Flycatcher - introduction.* U.S. Forest Service. https://www.fs.usda.gov/detail/tahoe/landmanagement/resourcemanagement/?cid=stelprdb5357314#:~:text=The%20scientific%20name%20for%20willow,t \n",
        "\n",
        "\n",
        "\n",
        "\n",
        "\n"
      ]
    }
  ],
  "metadata": {
    "kernelspec": {
      "display_name": "base",
      "language": "python",
      "name": "python3"
    },
    "language_info": {
      "codemirror_mode": {
        "name": "ipython",
        "version": 3
      },
      "file_extension": ".py",
      "mimetype": "text/x-python",
      "name": "python",
      "nbconvert_exporter": "python",
      "pygments_lexer": "ipython3",
      "version": "3.11.6"
    }
  },
  "nbformat": 4,
  "nbformat_minor": 5
}
